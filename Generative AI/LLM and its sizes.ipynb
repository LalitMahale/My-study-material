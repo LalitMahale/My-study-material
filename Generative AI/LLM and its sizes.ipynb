{
 "cells": [
  {
   "cell_type": "markdown",
   "id": "d07aa4ea-8496-4268-8f4c-0e170321f31b",
   "metadata": {},
   "source": [
    "## Open AI\n",
    "\n"
   ]
  },
  {
   "cell_type": "markdown",
   "id": "772e42bc-9804-44cd-9070-9fecb2a1b3df",
   "metadata": {},
   "source": [
    "## Google\n"
   ]
  },
  {
   "cell_type": "markdown",
   "id": "bbdbf8c6-ba7f-4dfa-b031-941e3abd3abb",
   "metadata": {},
   "source": [
    "## Microsoft\n"
   ]
  },
  {
   "cell_type": "markdown",
   "id": "f61e4e18-b027-4885-837b-c20d99fa662a",
   "metadata": {},
   "source": [
    "## Meta\n"
   ]
  }
 ],
 "metadata": {
  "kernelspec": {
   "display_name": "Python 3 (ipykernel)",
   "language": "python",
   "name": "python3"
  },
  "language_info": {
   "codemirror_mode": {
    "name": "ipython",
    "version": 3
   },
   "file_extension": ".py",
   "mimetype": "text/x-python",
   "name": "python",
   "nbconvert_exporter": "python",
   "pygments_lexer": "ipython3",
   "version": "3.12.2"
  }
 },
 "nbformat": 4,
 "nbformat_minor": 5
}
