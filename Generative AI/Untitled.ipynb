{
 "cells": [
  {
   "cell_type": "raw",
   "id": "af9aece3-b91a-4efe-b054-a60251e87216",
   "metadata": {},
   "source": [
    "Example 2:\n",
    "\n",
    "Input: s = \"abca\"\n",
    "Output: true\n",
    "Explanation: You could delete the character 'c'.\n",
    "Example 3:\n",
    "\n",
    "Input: s = \"abc\"\n",
    "Output: false"
   ]
  },
  {
   "cell_type": "code",
   "execution_count": 10,
   "id": "ff629baa-8f4b-4c4c-8ff2-4d34378dd8c0",
   "metadata": {},
   "outputs": [],
   "source": [
    "class Solution:\n",
    "    def validPalindrome(self, s: str) -> bool:\n",
    "        if s == s[::-1]:\n",
    "            return True\n",
    "        else:\n",
    "            for i in range(len(s)):   \n",
    "                t = s[:i]+s[i+1:]\n",
    "                if t == t[::-1]:\n",
    "                    return True\n",
    "            return False"
   ]
  },
  {
   "cell_type": "code",
   "execution_count": 12,
   "id": "a29e9cb8-cbb7-402d-8c21-d98ef7936258",
   "metadata": {},
   "outputs": [
    {
     "data": {
      "text/plain": [
       "False"
      ]
     },
     "execution_count": 12,
     "metadata": {},
     "output_type": "execute_result"
    }
   ],
   "source": [
    "Solution().validPalindrome(s =\"abc\" )"
   ]
  },
  {
   "cell_type": "code",
   "execution_count": 15,
   "id": "d44fc672-a9bc-45ae-ad73-5cd14553cddc",
   "metadata": {},
   "outputs": [
    {
     "data": {
      "text/plain": [
       "'D'"
      ]
     },
     "execution_count": 15,
     "metadata": {},
     "output_type": "execute_result"
    }
   ],
   "source": [
    "chr(68)"
   ]
  },
  {
   "cell_type": "code",
   "execution_count": 17,
   "id": "79773664-3273-4c82-9549-2a008e3875f6",
   "metadata": {},
   "outputs": [],
   "source": [
    "l = [\".-\",\"-...\",\"-.-.\",\"-..\",\".\",\"..-.\",\"--.\",\"....\",\"..\",\".---\",\"-.-\",\".-..\",\"--\",\"-.\",\"---\",\".--.\",\"--.-\",\".-.\",\"...\",\"-\",\"..-\",\"...-\",\".--\",\"-..-\",\"-.--\",\"--..\"]"
   ]
  },
  {
   "cell_type": "code",
   "execution_count": 20,
   "id": "b16648f3-8346-4702-92fc-4721baaf6385",
   "metadata": {},
   "outputs": [
    {
     "data": {
      "text/plain": [
       "26"
      ]
     },
     "execution_count": 20,
     "metadata": {},
     "output_type": "execute_result"
    }
   ],
   "source": [
    "len(set(l))"
   ]
  },
  {
   "cell_type": "code",
   "execution_count": 28,
   "id": "c91c6c8f-a126-494f-a4ed-899cce498194",
   "metadata": {},
   "outputs": [],
   "source": [
    "dic = {}\n",
    "for i in range(len(l)):\n",
    "    dic[chr(65+32+i)] = l[i]"
   ]
  },
  {
   "cell_type": "code",
   "execution_count": 29,
   "id": "eb4cdd48-641a-4885-a842-8849673e91bd",
   "metadata": {},
   "outputs": [
    {
     "data": {
      "text/plain": [
       "{'a': '.-',\n",
       " 'b': '-...',\n",
       " 'c': '-.-.',\n",
       " 'd': '-..',\n",
       " 'e': '.',\n",
       " 'f': '..-.',\n",
       " 'g': '--.',\n",
       " 'h': '....',\n",
       " 'i': '..',\n",
       " 'j': '.---',\n",
       " 'k': '-.-',\n",
       " 'l': '.-..',\n",
       " 'm': '--',\n",
       " 'n': '-.',\n",
       " 'o': '---',\n",
       " 'p': '.--.',\n",
       " 'q': '--.-',\n",
       " 'r': '.-.',\n",
       " 's': '...',\n",
       " 't': '-',\n",
       " 'u': '..-',\n",
       " 'v': '...-',\n",
       " 'w': '.--',\n",
       " 'x': '-..-',\n",
       " 'y': '-.--',\n",
       " 'z': '--..'}"
      ]
     },
     "execution_count": 29,
     "metadata": {},
     "output_type": "execute_result"
    }
   ],
   "source": [
    "dic"
   ]
  },
  {
   "cell_type": "code",
   "execution_count": 30,
   "id": "61aad6be-4275-4621-aa35-df7f506e99f2",
   "metadata": {},
   "outputs": [
    {
     "data": {
      "text/plain": [
       "2"
      ]
     },
     "execution_count": 30,
     "metadata": {},
     "output_type": "execute_result"
    }
   ],
   "source": [
    "words = [\"gin\",\"zen\",\"gig\",\"msg\"]\n",
    "s = set()\n",
    "for i in words:\n",
    "    t = \"\"\n",
    "    for j in i:\n",
    "        t+= dic.get(j)\n",
    "    s.add(t)\n",
    "len(s)"
   ]
  },
  {
   "cell_type": "code",
   "execution_count": 32,
   "id": "37ce0a34-f968-427a-bbc0-5e97cd3aba26",
   "metadata": {},
   "outputs": [],
   "source": [
    "paragraph = \"Bob hit a ball, the hit BALL flew far after it was hit.\"\n",
    "banned = [\"hit\"]\n",
    "Output= \"ball\""
   ]
  },
  {
   "cell_type": "code",
   "execution_count": 59,
   "id": "cead185b-4c41-4b46-9c04-492585e183d3",
   "metadata": {},
   "outputs": [
    {
     "data": {
      "text/plain": [
       "'ball'"
      ]
     },
     "execution_count": 59,
     "metadata": {},
     "output_type": "execute_result"
    }
   ],
   "source": [
    "p = [\".\",\",\"]\n",
    "for i in p:\n",
    "    if i in paragraph:\n",
    "        paragraph = paragraph.replace(i,\"\")\n",
    "        \n",
    "paragraph1 = paragraph\n",
    "dic = {word:paragraph1.count(word) for word in paragraph1 if word not in banned}\n",
    "sorted(dic.items(),key=lambda x : x[1],reverse=True)[0][0]"
   ]
  },
  {
   "cell_type": "code",
   "execution_count": 61,
   "id": "a01fa42c-1d31-4606-87a4-1028f905b6eb",
   "metadata": {},
   "outputs": [],
   "source": [
    "from string  import punctuation"
   ]
  },
  {
   "cell_type": "code",
   "execution_count": null,
   "id": "534dd6f4-52a0-49ed-9591-e2bf41a5e103",
   "metadata": {},
   "outputs": [],
   "source": []
  }
 ],
 "metadata": {
  "kernelspec": {
   "display_name": "Python 3 (ipykernel)",
   "language": "python",
   "name": "python3"
  },
  "language_info": {
   "codemirror_mode": {
    "name": "ipython",
    "version": 3
   },
   "file_extension": ".py",
   "mimetype": "text/x-python",
   "name": "python",
   "nbconvert_exporter": "python",
   "pygments_lexer": "ipython3",
   "version": "3.12.2"
  }
 },
 "nbformat": 4,
 "nbformat_minor": 5
}
