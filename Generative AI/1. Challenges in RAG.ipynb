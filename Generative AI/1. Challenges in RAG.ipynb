{
 "cells": [
  {
   "cell_type": "markdown",
   "id": "709d1058-91d9-4205-8e54-66d68d05b18e",
   "metadata": {},
   "source": [
    "### Challenges in RAG System\n",
    "\n",
    "- **1. Document Updates:-** When Document are modified, added or removed the corresponding vector need to be updated to maintain the accuracy and relevance of the retrieval system. if we won't handle this it will negatively impacting the systems effectiveness.\n",
    "\n",
    "- **2. Chunking:-** The chunk is very important part of RAG system.\n",
    "    - if the chunk size is too small the system might not understand the context of the chunk or document.\n",
    " \n",
    "    - if the chunk size is too large we might be missed the important details.\n",
    " \n",
    "- **3. Diverse Representation:-** The presence of different representations in the same latent space can be challenge.\n",
    "\n",
    "    *Eg.* if we are working on paragraph and in between that we found one table or image so this cause conflicts or inconsistence when retrieving information, leading to less accurate result."
   ]
  },
  {
   "cell_type": "markdown",
   "id": "07623ef6-825a-45d3-b91b-8db4be4ae4bb",
   "metadata": {},
   "source": [
    "<mark>This text is highlighted</mark>\n"
   ]
  },
  {
   "cell_type": "code",
   "execution_count": null,
   "id": "afc396be-5335-4c23-9188-29945bda1354",
   "metadata": {},
   "outputs": [],
   "source": []
  }
 ],
 "metadata": {
  "kernelspec": {
   "display_name": "Python 3 (ipykernel)",
   "language": "python",
   "name": "python3"
  },
  "language_info": {
   "codemirror_mode": {
    "name": "ipython",
    "version": 3
   },
   "file_extension": ".py",
   "mimetype": "text/x-python",
   "name": "python",
   "nbconvert_exporter": "python",
   "pygments_lexer": "ipython3",
   "version": "3.12.2"
  }
 },
 "nbformat": 4,
 "nbformat_minor": 5
}
