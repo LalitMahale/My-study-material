{
 "cells": [
  {
   "cell_type": "markdown",
   "id": "e3b83ecc-4225-4f8c-af8b-7be64f958d98",
   "metadata": {},
   "source": [
    "# Step by step approach "
   ]
  },
  {
   "cell_type": "markdown",
   "id": "4b9f1ced-835c-4810-b1c0-33c3ce7fc493",
   "metadata": {},
   "source": [
    "#### 1. Baseline Evaluation :\n",
    "It is a initial performance baseline. \n",
    "Adjusting **Top_K** retrieval values. Experiment with different values of k eg. _(1,2,3,5,7)_ to understand their effect on the accuracy of retrieved information and the generated answers.\n",
    "\n",
    "#### 2. Testing Different Embedding Models:\n",
    "Evaluate models such as \"text-embedding-ada-002\" and \"cohere/embed-english-v3.0\" to identify the most effective one for our pipeline.\n",
    "\n",
    "#### 3. Incorporating a Reranker: \n",
    "Implement a reranking mechanism to refine the document selection process of the retriever.\n",
    "\n",
    "Through these steps, we aim to refine our RAG system systematically, enhancing its performance by providing accurate and relevant information."
   ]
  },
  {
   "cell_type": "code",
   "execution_count": null,
   "id": "abb2e6b2-992c-4197-b7fb-e5f49000872c",
   "metadata": {},
   "outputs": [],
   "source": []
  }
 ],
 "metadata": {
  "kernelspec": {
   "display_name": "Python 3 (ipykernel)",
   "language": "python",
   "name": "python3"
  },
  "language_info": {
   "codemirror_mode": {
    "name": "ipython",
    "version": 3
   },
   "file_extension": ".py",
   "mimetype": "text/x-python",
   "name": "python",
   "nbconvert_exporter": "python",
   "pygments_lexer": "ipython3",
   "version": "3.12.2"
  }
 },
 "nbformat": 4,
 "nbformat_minor": 5
}
