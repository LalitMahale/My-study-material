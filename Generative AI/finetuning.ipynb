{
 "cells": [
  {
   "cell_type": "markdown",
   "id": "ead1ff5e-1d55-4c51-91af-afe1bcb26896",
   "metadata": {},
   "source": [
    "## Training LLMs\n",
    "\n",
    "There are 3 Approaches :\n",
    "\n",
    "1. Pre-training\n",
    "2. Fine-tuning\n",
    "3. LoRa / QLora\n"
   ]
  },
  {
   "cell_type": "markdown",
   "id": "1c19f519-3b13-4463-8c90-3b7484b2995b",
   "metadata": {},
   "source": [
    "### 1. Pre-training :\n",
    "**Data Process Steps:**\n",
    "\n",
    "- 1. Massive text data (Tera bytes - TB)\n",
    "- 2. Identify the model Architechture\n",
    "- 3. Tokenizer (which will handle our data) [encoding and decoding]\n",
    "- 4. Dataset is preprocessed using tokenizer vocab\n",
    "- 5. suitable data in a format for training {mapping token to the corresponding Ids   nad encoporating any special token / attension masks}\n",
    "        \n",
    "**What will happend in Pre-Training phase**:\n",
    "- Learn to predict the next word in a sentence (**text generation** or **casual language model**) / fill-in missing words as well (**mask language model**)\n",
    "\n",
    "\n",
    "+ After Pre-training the mode **capture general langauge but it lacks a specific knowlege about a particular task or domain**\n",
    "\n"
   ]
  },
  {
   "cell_type": "markdown",
   "id": "78cca1bf-ce20-4280-94d8-915a47592cee",
   "metadata": {},
   "source": [
    "### 2. Fine-tuning :\n",
    "- Fine tuning allows us to specialize the llm's capabilities and optimize it's performace on a task specific dataset.\n",
    "\n",
    "**Dataset**\n",
    "\n",
    "1. **Instruction Tuned Model :-**\n",
    "   \n",
    "    - Dataset should have **instruction** and **response** or **question** and **answer**\n",
    "    - try to reduce task specific loss function.\n",
    "    - in fine-tuning, the parameters of the pre-trained model are adjusted using gradiant based optimazation algorithm (**SGD, ADAM**)\n",
    "    - Learning rate scheduling, regularization methods (eg. early stoping)\n",
    "  \n",
    "\n",
    "## Lora (Low Rank Adoptation) : \n",
    "\n",
    "- finetuning is expensive\n",
    "- Lora need 3x memory req\n",
    "\n",
    "## QLora (Quantized low rank adoptation):\n",
    "**Library** Bitsandbytes (bnb) uses.\n",
    "\n",
    "**Resources :**\n",
    "\n",
    "1. Traning compute :\n",
    "   \n",
    "    - LLaMA 2- 7b / Mistral 7B\n",
    "    - memory : 150 - 195 GB\n",
    "    - Rent GPU : RunPod, VastAI (cheapest), Lambda Labs, AWS sagemaker, Google Colab\n",
    "      \n",
    "2. Gather Dataset:\n",
    "   \n",
    "    - there should Diversity in dataset eg there should not same kind of chats.\n",
    "    - min 10mb size of dataset or 10k qa pairs and quality of data\n",
    "    - "
   ]
  },
  {
   "cell_type": "code",
   "execution_count": null,
   "id": "7e966c0f-54d8-4e4d-8047-8e7313cc8a3d",
   "metadata": {},
   "outputs": [],
   "source": []
  }
 ],
 "metadata": {
  "kernelspec": {
   "display_name": "Python 3 (ipykernel)",
   "language": "python",
   "name": "python3"
  },
  "language_info": {
   "codemirror_mode": {
    "name": "ipython",
    "version": 3
   },
   "file_extension": ".py",
   "mimetype": "text/x-python",
   "name": "python",
   "nbconvert_exporter": "python",
   "pygments_lexer": "ipython3",
   "version": "3.12.2"
  }
 },
 "nbformat": 4,
 "nbformat_minor": 5
}
