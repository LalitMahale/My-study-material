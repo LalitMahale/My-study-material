{
 "cells": [
  {
   "cell_type": "markdown",
   "id": "dcae60f4",
   "metadata": {},
   "source": [
    "https://www.w3resource.com/python-exercises/"
   ]
  },
  {
   "cell_type": "raw",
   "id": "13b401d4",
   "metadata": {},
   "source": [
    "1. Write a Python program to find a list of integers with exactly two occurrences of nineteen and at least three occurrences of five. Return True otherwise False.\n",
    "Input:\n",
    "[19, 19, 15, 5, 3, 5, 5, 2]\n",
    "Output:\n",
    "True\n",
    "Input:\n",
    "[19, 15, 15, 5, 3, 3, 5, 2]\n",
    "Output:\n",
    "False\n",
    "Input:\n",
    "[19, 19, 5, 5, 5, 5, 5]\n",
    "Output:\n",
    "True"
   ]
  },
  {
   "cell_type": "code",
   "execution_count": 1,
   "id": "e25b249f",
   "metadata": {},
   "outputs": [],
   "source": [
    "from typing import List"
   ]
  },
  {
   "cell_type": "code",
   "execution_count": 7,
   "id": "3ee2b3e8",
   "metadata": {},
   "outputs": [
    {
     "name": "stdout",
     "output_type": "stream",
     "text": [
      "True\n"
     ]
    }
   ],
   "source": [
    "def check(lst:List[list]):\n",
    "    if lst.count(19) == 2 and lst.count(5) == 3:\n",
    "        return True\n",
    "    else:\n",
    "        return False\n",
    "    \n",
    "lst = [19, 19, 15, 5, 3, 5, 5, 2]\n",
    "print(check(lst))"
   ]
  },
  {
   "cell_type": "raw",
   "id": "c5807ac0",
   "metadata": {},
   "source": [
    "2. Write a Python program that accepts a list of integers and calculates the length and the fifth element. Return true if the length of the list is 8 and the fifth element occurs thrice in the said list.\n",
    "Input:\n",
    "[19, 19, 15, 5, 5, 5, 1, 2]\n",
    "Output:\n",
    "True\n",
    "Input:\n",
    "[19, 15, 5, 7, 5, 5, 2]\n",
    "Output:\n",
    "False\n",
    "Input:\n",
    "[11, 12, 14, 13, 14, 13, 15, 14]\n",
    "Output:\n",
    "True\n",
    "Input:\n",
    "[19, 15, 11, 7, 5, 6, 2]\n",
    "Output:\n",
    "False"
   ]
  },
  {
   "cell_type": "code",
   "execution_count": 15,
   "id": "2b304b6b",
   "metadata": {},
   "outputs": [
    {
     "data": {
      "text/plain": [
       "False"
      ]
     },
     "execution_count": 15,
     "metadata": {},
     "output_type": "execute_result"
    }
   ],
   "source": [
    "def check(lst:List[list]):\n",
    "    return True if len(lst) == 8 and lst.count(lst[4]) else False\n",
    "\n",
    "check([19, 15, 11, 7, 5, 6, 2])\n"
   ]
  },
  {
   "cell_type": "raw",
   "id": "0607873f",
   "metadata": {},
   "source": [
    "3. Write a Python program that accepts an integer and determines whether it is greater than 4^4 and which is 4 mod 34.\n",
    "Input:\n",
    "922\n",
    "Output:\n",
    "True\n",
    "Input:\n",
    "914\n",
    "Output:\n",
    "False\n",
    "Input:\n",
    "854\n",
    "Output:\n",
    "True\n",
    "Input:\n",
    "854\n",
    "Output:\n",
    "Truer"
   ]
  },
  {
   "cell_type": "code",
   "execution_count": null,
   "id": "20cdd0fc",
   "metadata": {},
   "outputs": [],
   "source": []
  }
 ],
 "metadata": {
  "kernelspec": {
   "display_name": "Python 3 (ipykernel)",
   "language": "python",
   "name": "python3"
  },
  "language_info": {
   "codemirror_mode": {
    "name": "ipython",
    "version": 3
   },
   "file_extension": ".py",
   "mimetype": "text/x-python",
   "name": "python",
   "nbconvert_exporter": "python",
   "pygments_lexer": "ipython3",
   "version": "3.11.5"
  }
 },
 "nbformat": 4,
 "nbformat_minor": 5
}
