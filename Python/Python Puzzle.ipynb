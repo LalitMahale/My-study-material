{
 "cells": [
  {
   "cell_type": "markdown",
   "id": "dcae60f4",
   "metadata": {},
   "source": [
    "https://www.w3resource.com/python-exercises/"
   ]
  },
  {
   "cell_type": "raw",
   "id": "13b401d4",
   "metadata": {},
   "source": [
    "1. Write a Python program to find a list of integers with exactly two occurrences of nineteen and at least three occurrences of five. Return True otherwise False.\n",
    "Input:\n",
    "[19, 19, 15, 5, 3, 5, 5, 2]\n",
    "Output:\n",
    "True\n",
    "Input:\n",
    "[19, 15, 15, 5, 3, 3, 5, 2]\n",
    "Output:\n",
    "False\n",
    "Input:\n",
    "[19, 19, 5, 5, 5, 5, 5]\n",
    "Output:\n",
    "True"
   ]
  },
  {
   "cell_type": "code",
   "execution_count": 1,
   "id": "e25b249f",
   "metadata": {},
   "outputs": [],
   "source": [
    "from typing import List"
   ]
  },
  {
   "cell_type": "code",
   "execution_count": 7,
   "id": "3ee2b3e8",
   "metadata": {},
   "outputs": [
    {
     "name": "stdout",
     "output_type": "stream",
     "text": [
      "True\n"
     ]
    }
   ],
   "source": [
    "def check(lst:List[list]):\n",
    "    if lst.count(19) == 2 and lst.count(5) == 3:\n",
    "        return True\n",
    "    else:\n",
    "        return False\n",
    "    \n",
    "lst = [19, 19, 15, 5, 3, 5, 5, 2]\n",
    "print(check(lst))"
   ]
  },
  {
   "cell_type": "raw",
   "id": "c5807ac0",
   "metadata": {},
   "source": [
    "2. Write a Python program that accepts a list of integers and calculates the length and the fifth element. Return true if the length of the list is 8 and the fifth element occurs thrice in the said list.\n",
    "Input:\n",
    "[19, 19, 15, 5, 5, 5, 1, 2]\n",
    "Output:\n",
    "True\n",
    "Input:\n",
    "[19, 15, 5, 7, 5, 5, 2]\n",
    "Output:\n",
    "False\n",
    "Input:\n",
    "[11, 12, 14, 13, 14, 13, 15, 14]\n",
    "Output:\n",
    "True\n",
    "Input:\n",
    "[19, 15, 11, 7, 5, 6, 2]\n",
    "Output:\n",
    "False"
   ]
  },
  {
   "cell_type": "code",
   "execution_count": 15,
   "id": "2b304b6b",
   "metadata": {},
   "outputs": [
    {
     "data": {
      "text/plain": [
       "False"
      ]
     },
     "execution_count": 15,
     "metadata": {},
     "output_type": "execute_result"
    }
   ],
   "source": [
    "def check(lst:List[list]):\n",
    "    return True if len(lst) == 8 and lst.count(lst[4]) else False\n",
    "\n",
    "check([19, 15, 11, 7, 5, 6, 2])\n"
   ]
  },
  {
   "cell_type": "raw",
   "id": "0607873f",
   "metadata": {},
   "source": [
    "3. Write a Python program that accepts an integer and determines whether it is greater than 4^4 and which is 4 mod 34.\n",
    "Input:\n",
    "922\n",
    "Output:\n",
    "True\n",
    "Input:\n",
    "914\n",
    "Output:\n",
    "False\n",
    "Input:\n",
    "854\n",
    "Output:\n",
    "True\n",
    "Input:\n",
    "854\n",
    "Output:\n",
    "Truer"
   ]
  },
  {
   "attachments": {},
   "cell_type": "markdown",
   "id": "cc1e0d56-a1e8-4a90-bf62-a6e409507b46",
   "metadata": {},
   "source": [
    "Write a  Python function that takes a sequence of numbers and determines whether all the numbers are different from each other.\n",
    "\n",
    "[2, 4, 5, 5, 7, 9]"
   ]
  },
  {
   "cell_type": "code",
   "execution_count": 6,
   "id": "e73965d5-9f6c-429e-888f-16959dc0ca25",
   "metadata": {},
   "outputs": [
    {
     "name": "stdout",
     "output_type": "stream",
     "text": [
      "False\n"
     ]
    }
   ],
   "source": [
    "arr = [2, 4, 5, 5, 7, 9]\n",
    "# first way \n",
    "so = sorted(set(arr))\n",
    "print(True) if len(arr) == len(so) else print(\"False\")"
   ]
  },
  {
   "cell_type": "raw",
   "id": "690e8de3-e355-4fcb-baf5-423935c4f30d",
   "metadata": {},
   "source": [
    "2. Write a Python program that creates all possible strings using the letters 'a', 'e', 'i', 'o', and 'I'. Ensure that each character is used only once."
   ]
  },
  {
   "cell_type": "code",
   "execution_count": 12,
   "id": "358bf341-f354-4ff5-96cb-7f6ef9a1c537",
   "metadata": {},
   "outputs": [
    {
     "data": {
      "text/plain": [
       "120"
      ]
     },
     "execution_count": 12,
     "metadata": {},
     "output_type": "execute_result"
    }
   ],
   "source": [
    "from itertools import permutations\n",
    "len([\"\".join(i) for i in permutations(\"aeioI\")])"
   ]
  },
  {
   "cell_type": "raw",
   "id": "490445cb-db37-416d-92ea-dee201a8a9d6",
   "metadata": {},
   "source": [
    "Write a  Python program that removes and prints every third number from a list of numbers until the list is empty."
   ]
  },
  {
   "cell_type": "code",
   "execution_count": 9,
   "id": "5cec4fcb-b4cb-44b4-b99e-74f212b6ef49",
   "metadata": {},
   "outputs": [
    {
     "name": "stdout",
     "output_type": "stream",
     "text": [
      "30\n",
      "60\n",
      "90\n",
      "40\n",
      "80\n",
      "50\n",
      "20\n",
      "70\n",
      "10\n"
     ]
    },
    {
     "data": {
      "text/plain": [
       "[]"
      ]
     },
     "execution_count": 9,
     "metadata": {},
     "output_type": "execute_result"
    }
   ],
   "source": [
    "position = 3-1\n",
    "idx = 0\n",
    "nums = [10, 20, 30, 40, 50, 60, 70, 80, 90]\n",
    "\n",
    "while len(nums) > 0:\n",
    "    t = ( position + idx)\n",
    "    idx =t % len(nums)\n",
    "    n =nums.pop(idx)\n",
    "    print(n)\n",
    "nums"
   ]
  },
  {
   "cell_type": "raw",
   "id": "0b350096-c882-4308-85f7-c55a3da26335",
   "metadata": {},
   "source": [
    "4. Write a Python program to identify unique triplets whose three elements sum to zero from an array of n integers\n",
    "\n",
    "x = [1, -6, 4, 2, -1, 2, 0, -2, 0]\n",
    "\n",
    "Sample Output:\n",
    "\n",
    "[(-6, 2, 4), (-2, 0, 2), (-1, 0, 1)]"
   ]
  },
  {
   "cell_type": "code",
   "execution_count": 42,
   "id": "8a94627a-9ae2-4048-b79c-84a0f945c2c1",
   "metadata": {},
   "outputs": [
    {
     "data": {
      "text/plain": [
       "[[-6, 2, 4], [-2, 0, 2], [-1, 0, 1]]"
      ]
     },
     "execution_count": 42,
     "metadata": {},
     "output_type": "execute_result"
    }
   ],
   "source": [
    "x = [1, -6, 4, 2, -1, 2, 0, -2, 0]\n",
    "x.sort()\n",
    "stack = []\n",
    "for i in range(len(x)):\n",
    "    for j in range(i+1,len(x)):\n",
    "        val = x[i]+x[j]\n",
    "        if -val in x[j+1:] and [x[i],x[j],-val] not in stack:\n",
    "            stack.append([ x[i],x[j],-val])\n",
    "stack"
   ]
  },
  {
   "cell_type": "raw",
   "id": "feb0bdb3-a22c-402c-a4ed-19372da5bc71",
   "metadata": {},
   "source": [
    "5. Write a Python program to make combinations of 3 digits.\n"
   ]
  },
  {
   "cell_type": "code",
   "execution_count": 43,
   "id": "7706ec77-a989-4754-841c-bc049f492395",
   "metadata": {},
   "outputs": [
    {
     "data": {
      "text/plain": [
       "'0lalit'"
      ]
     },
     "execution_count": 43,
     "metadata": {},
     "output_type": "execute_result"
    }
   ],
   "source": [
    "\"lalit\".zfill(6)"
   ]
  },
  {
   "cell_type": "raw",
   "id": "f28927ac-679f-4106-8251-da2899faf61e",
   "metadata": {},
   "source": [
    "6. Write a Python program that prints long text, converts it to a list, and prints all the words and the frequency of each word.\n",
    "\n",
    "text  = \"\"\"\n",
    "United States Declaration of Independence\n",
    "From Wikipedia, the free encyclopedia\n",
    "... (omitting the rest for brevity) ... \n",
    "... much scholarly inquiry.\n",
    "The Declaration justified the independence of the United States by listing colonial grievances against\n",
    "King George III, and by asserting certain natural and legal rights, including a right of revolution.\n",
    "Having served its original purpose in announcing independence, references to the text of the\n",
    "Declaration were few in the following years. Abraham Lincoln made it the centerpiece of his rhetoric\n",
    "(as in the Gettysburg Address of 1863) and his policies. Since then, it has become a well-known statement\n",
    "on human rights, particularly its second sentence:\n",
    "\n",
    "We hold these truths to be self-evident, that all men are created equal, that they are endowed by their\n",
    "Creator with certain unalienable Rights, that among these are Life, Liberty and the pursuit of Happiness.\n",
    "\n",
    "This has been called \"one of the best-known sentences in the English language\", containing \"the most potent\n",
    "and consequential words in American history\". The passage came to represent a moral standard to which\n",
    "the United States should strive. This view was notably promoted by Abraham Lincoln, who considered the\n",
    "Declaration to be the foundation of his political philosophy and argued that it is a statement of principles\n",
    "through which the United States Constitution should be interpreted.\n",
    "\n",
    "The U.S. Declaration of Independence inspired many other similar documents in other countries, the first\n",
    "being the 1789 Declaration of Flanders issued during the Brabant Revolution in the Austrian Netherlands\n",
    "(modern-day Belgium). It also served as the primary model for numerous declarations of independence across\n",
    "Europe and Latin America, as well as Africa (Liberia) and Oceania (New Zealand) during the first half of the\n",
    "19th century.\n",
    "\"\"\"\n",
    "\n",
    "Output : \n",
    "\n",
    "Pairs (Words and Frequencies:\n",
    " [('United', 6), ('States', 6), ('Declaration', 12), ('of', 30), ('Independence', 6), ('From', 1), ('Wikipedia,', 1), ('the', 49), ('free', 1), ('encyclopedia', 1), ('The', 9), ('United', 6), ('States', 6), ('Declaration', 12), ('of', 30), ('Independence', 6), ('is', 6), ('the', 49), ('statement', 3), ('adopted', 1), ('by', 8), ('the', 49), ('Second', 2), ('Continental', 1), ('Congress', 6), ('meeting', 1), ('at', 4), ('the', 49), ('Pennsylvania', 1), ('State', 1), ('House', 1), ('(Independence', 1), ('Hall)', 1), ('in', 13), ('Philadelphia', 1), ('on', 9), ('July', 7), ('4,', 3), ('1776,', 2), ('which', 6), ('announced', 1), ('that', 8), ('the', 49), ('thirteen', 2), ('American', 3), ('colonies,', 1), ('then', 1), ('at', 4), ('war', 1), ('with', 4), ('the', 49), ('Kingdom', 1), ('of', 30), ('Great', 2), ('Britain,', 2), ('regarded', 2), ('themselves', 1), ('as', 6), ('thirteen', 2), ('independent', 1), ('sovereign', 1), ('states,', 1), ('no', 2), ('longer', 1), ('under', 1), ('British', 1), ('rule.', 1), ('These', 1), ('states', 1), ('would', 2), ('found', 1), ('a', 10), ('new', 1), ('nation', 1), ('–', 1), ('the', 49), ('United', 6), ('States', 6), ('of', 30), ('America.', 1), ('John', 3), ('Adams', 4), ('was', 8), ('a', 10), ('leader', 1), ('in', 13), ('pushing', 1), ('for', 3), ('independence,', 2), ('which', 6), ('was', 8), ('passed', 1), ('on', 9), ('July', 7), ('2', 2), ('with', 4), ('no', 2), ('opposing', 1), ('vote', 1), ('cast.', 1), ('A', 1), ('committee', 2), ('of', 30), ('five', 1), ('had', 2), ('already', 1), ('drafted', 1), ('the', 49), ('formal', 2), ('declaration,', 1), ('to', 12), ('be', 5), ('ready', 1), ('when', 1), ('Congress', 6), ('voted', 2), ('on', 9), ('independence.', 1), ('John', 3), ('Adams', 4), ('persuaded', 1), ('the', 49), ('committee', 2), ('to', 12), ('select', 1), ('Thomas', 2), ('Jefferson', 1), ('to', 12), ('compose', 1), ('the', 49), ('original', 3), ('draft', 1), ('of', 30), ('the', 49), ('document,', 1), ('which', 6), ('Congress', 6), ('would', 2), ('edit', 1), ('to', 12), ('produce', 1), ('the', 49), ('final', 1), ('version.', 1), ('The', 9), ('Declaration', 12), ('was', 8), ('ultimately', 1), ('a', 10), ('formal', 2), ('explanation', 1), ('of', 30), ('why', 1), ('Congress', 6), ('had', 2), ('voted', 2), ('on', 9), ('July', 7), ('2', 2), ('to', 12), ('declare', 1), ('independence', 3), ('from', 1), ('Great', 2), ('Britain,', 2), ('more', 1), ('than', 1), ('a', 10), ('year', 1), ('after', 1), ('the', 49), ('outbreak', 1), ('of', 30), ('the', 49), ('American', 3), ('Revolutionary', 1), ('War.', 1), ('The', 9), ('next', 1), ('day,', 1), ('Adams', 4), ('wrote', 1), ('to', 12), ('his', 4), ('wife', 1), ('Abigail:', 1), ('\"The', 1), ('Second', 2), ('Day', 2), ('of', 30), ('July', 7), ('1776,', 2), ('will', 1), ('be', 5), ('the', 49), ('most', 2), ('memorable', 1), ('Epocha,', 1), ('in', 13), ('the', 49), ('History', 1), ('of', 30), ('America.\"', 1), ('But', 1), ('Independence', 6), ('Day', 2), ('is', 6), ('actually', 1), ('celebrated', 1), ('on', 9), ('July', 7), ('4,', 3), ('the', 49), ('date', 1), ('that', 8), ('the', 49), ('Declaration', 12), ('of', 30), ('Independence', 6), ('was', 8), ('approved.', 1), ('After', 1), ('ratifying', 1), ('the', 49), ('text', 2), ('on', 9), ('July', 7), ('4,', 3), ('Congress', 6), ('issued', 2), ('the', 49), ('Declaration', 12), ('of', 30), ('Independence', 6), ('in', 13), ('several', 1), ('forms.', 1), ('It', 2), ('was', 8), ('initially', 1), ('published', 1), ('as', 6), ('the', 49), ('printed', 1), ('Dunlap', 1), ('broadside', 1), ('that', 8), ('was', 8), ('widely', 1), ('distributed', 1), ('and', 15), ('read', 1), ('to', 12), ('the', 49), ('public.', 1), ('The', 9), ('source', 1), ('copy', 4), ('used', 1), ('for', 3), ('this', 1), ('printing', 1), ('has', 3), ('been', 4), ('lost,', 1), ('and', 15), ('may', 1), ('have', 2), ('been', 4), ('a', 10), ('copy', 4), ('in', 13), ('Thomas', 2), (\"Jefferson's\", 3), ('hand.[5]', 1), (\"Jefferson's\", 3), ('original', 3), ('draft,', 1), ('complete', 1), ('with', 4), ('changes', 2), ('made', 3), ('by', 8), ('John', 3), ('Adams', 4), ('and', 15), ('Benjamin', 1), ('Franklin,', 1), ('and', 15), (\"Jefferson's\", 3), ('notes', 1), ('of', 30), ('changes', 2), ('made', 3), ('by', 8), ('Congress,', 1), ('are', 4), ('preserved', 1), ('at', 4), ('the', 49), ('Library', 1), ('of', 30), ('Congress.', 1), ('The', 9), ('best-known', 2), ('version', 1), ('of', 30), ('the', 49), ('Declaration', 12), ('is', 6), ('a', 10), ('signed', 2), ('copy', 4), ('that', 8), ('is', 6), ('displayed', 1), ('at', 4), ('the', 49), ('National', 1), ('Archives', 1), ('in', 13), ('Washington,', 1), ('D.C.,', 1), ('and', 15), ('which', 6), ('is', 6), ('popularly', 1), ('regarded', 2), ('as', 6), ('the', 49), ('official', 1), ('document.', 1), ('This', 3), ('engrossed', 1), ('copy', 4), ('was', 8), ('ordered', 1), ('by', 8), ('Congress', 6), ('on', 9), ('July', 7), ('19', 1), ('and', 15), ('signed', 2), ('primarily', 1), ('on', 9), ('August', 1), ('2.', 1), ('The', 9), ('sources', 1), ('and', 15), ('interpretation', 1), ('of', 30), ('the', 49), ('Declaration', 12), ('have', 2), ('been', 4), ('the', 49), ('subject', 1), ('of', 30), ('much', 1), ('scholarly', 1), ('inquiry.', 1), ('The', 9), ('Declaration', 12), ('justified', 1), ('the', 49), ('independence', 3), ('of', 30), ('the', 49), ('United', 6), ('States', 6), ('by', 8), ('listing', 1), ('colonial', 1), ('grievances', 1), ('against', 1), ('King', 1), ('George', 1), ('III,', 1), ('and', 15), ('by', 8), ('asserting', 1), ('certain', 2), ('natural', 1), ('and', 15), ('legal', 1), ('rights,', 2), ('including', 1), ('a', 10), ('right', 1), ('of', 30), ('revolution.', 1), ('Having', 1), ('served', 2), ('its', 2), ('original', 3), ('purpose', 1), ('in', 13), ('announcing', 1), ('independence,', 2), ('references', 1), ('to', 12), ('the', 49), ('text', 2), ('of', 30), ('the', 49), ('Declaration', 12), ('were', 1), ('few', 1), ('in', 13), ('the', 49), ('following', 1), ('years.', 1), ('Abraham', 2), ('Lincoln', 1), ('made', 3), ('it', 3), ('the', 49), ('centerpiece', 1), ('of', 30), ('his', 4), ('rhetoric', 1), ('(as', 1), ('in', 13), ('the', 49), ('Gettysburg', 1), ('Address', 1), ('of', 30), ('1863)', 1), ('and', 15), ('his', 4), ('policies.', 1), ('Since', 1), ('then,', 1), ('it', 3), ('has', 3), ('become', 1), ('a', 10), ('well-known', 1), ('statement', 3), ('on', 9), ('human', 1), ('rights,', 2), ('particularly', 1), ('its', 2), ('second', 1), ('sentence:', 1), ('We', 1), ('hold', 1), ('these', 2), ('truths', 1), ('to', 12), ('be', 5), ('self-evident,', 1), ('that', 8), ('all', 1), ('men', 1), ('are', 4), ('created', 1), ('equal,', 1), ('that', 8), ('they', 1), ('are', 4), ('endowed', 1), ('by', 8), ('their', 1), ('Creator', 1), ('with', 4), ('certain', 2), ('unalienable', 1), ('Rights,', 1), ('that', 8), ('among', 1), ('these', 2), ('are', 4), ('Life,', 1), ('Liberty', 1), ('and', 15), ('the', 49), ('pursuit', 1), ('of', 30), ('Happiness.', 1), ('This', 3), ('has', 3), ('been', 4), ('called', 1), ('\"one', 1), ('of', 30), ('the', 49), ('best-known', 2), ('sentences', 1), ('in', 13), ('the', 49), ('English', 1), ('language\",', 1), ('containing', 1), ('\"the', 1), ('most', 2), ('potent', 1), ('and', 15), ('consequential', 1), ('words', 1), ('in', 13), ('American', 3), ('history\".', 1), ('The', 9), ('passage', 1), ('came', 1), ('to', 12), ('represent', 1), ('a', 10), ('moral', 1), ('standard', 1), ('to', 12), ('which', 6), ('the', 49), ('United', 6), ('States', 6), ('should', 2), ('strive.', 1), ('This', 3), ('view', 1), ('was', 8), ('notably', 1), ('promoted', 1), ('by', 8), ('Abraham', 2), ('Lincoln,', 1), ('who', 1), ('considered', 1), ('the', 49), ('Declaration', 12), ('to', 12), ('be', 5), ('the', 49), ('foundation', 1), ('of', 30), ('his', 4), ('political', 1), ('philosophy', 1), ('and', 15), ('argued', 1), ('that', 8), ('it', 3), ('is', 6), ('a', 10), ('statement', 3), ('of', 30), ('principles', 1), ('through', 1), ('which', 6), ('the', 49), ('United', 6), ('States', 6), ('Constitution', 1), ('should', 2), ('be', 5), ('interpreted.', 1), ('The', 9), ('U.S.', 1), ('Declaration', 12), ('of', 30), ('Independence', 6), ('inspired', 1), ('many', 1), ('other', 2), ('similar', 1), ('documents', 1), ('in', 13), ('other', 2), ('countries,', 1), ('the', 49), ('first', 2), ('being', 1), ('the', 49), ('1789', 1), ('Declaration', 12), ('of', 30), ('Flanders', 1), ('issued', 2), ('during', 2), ('the', 49), ('Brabant', 1), ('Revolution', 1), ('in', 13), ('the', 49), ('Austrian', 1), ('Netherlands', 1), ('(modern-day', 1), ('Belgium).', 1), ('It', 2), ('also', 1), ('served', 2), ('as', 6), ('the', 49), ('primary', 1), ('model', 1), ('for', 3), ('numerous', 1), ('declarations', 1), ('of', 30), ('independence', 3), ('across', 1), ('Europe', 1), ('and', 15), ('Latin', 1), ('America,', 1), ('as', 6), ('well', 1), ('as', 6), ('Africa', 1), ('(Liberia)', 1), ('and', 15), ('Oceania', 1), ('(New', 1), ('Zealand)', 1), ('during', 2), ('the', 49), ('first', 2), ('half', 1), ('of', 30), ('the', 49), ('19th', 1), ('century.', 1)]"
   ]
  },
  {
   "cell_type": "code",
   "execution_count": 49,
   "id": "9e7cbb24-d13b-4382-9b11-e706c742cff6",
   "metadata": {},
   "outputs": [
    {
     "data": {
      "text/plain": [
       "[('United', 4),\n",
       " ('States', 4),\n",
       " ('Declaration', 6),\n",
       " ('of', 14),\n",
       " ('Independence', 2),\n",
       " ('From', 1),\n",
       " ('Wikipedia,', 1),\n",
       " ('the', 23),\n",
       " ('free', 1),\n",
       " ('encyclopedia', 1),\n",
       " ('...', 3),\n",
       " ('(omitting', 1),\n",
       " ('the', 23),\n",
       " ('rest', 1),\n",
       " ('for', 2),\n",
       " ('brevity)', 1),\n",
       " ('...', 3),\n",
       " ('...', 3),\n",
       " ('much', 1),\n",
       " ('scholarly', 1),\n",
       " ('inquiry.', 1),\n",
       " ('The', 3),\n",
       " ('Declaration', 6),\n",
       " ('justified', 1),\n",
       " ('the', 23),\n",
       " ('independence', 2),\n",
       " ('of', 14),\n",
       " ('the', 23),\n",
       " ('United', 4),\n",
       " ('States', 4),\n",
       " ('by', 4),\n",
       " ('listing', 1),\n",
       " ('colonial', 1),\n",
       " ('grievances', 1),\n",
       " ('against', 1),\n",
       " ('King', 1),\n",
       " ('George', 1),\n",
       " ('III,', 1),\n",
       " ('and', 8),\n",
       " ('by', 4),\n",
       " ('asserting', 1),\n",
       " ('certain', 2),\n",
       " ('natural', 1),\n",
       " ('and', 8),\n",
       " ('legal', 1),\n",
       " ('rights,', 2),\n",
       " ('including', 1),\n",
       " ('a', 4),\n",
       " ('right', 1),\n",
       " ('of', 14),\n",
       " ('revolution.', 1),\n",
       " ('Having', 1),\n",
       " ('served', 2),\n",
       " ('its', 2),\n",
       " ('original', 1),\n",
       " ('purpose', 1),\n",
       " ('in', 7),\n",
       " ('announcing', 1),\n",
       " ('independence,', 1),\n",
       " ('references', 1),\n",
       " ('to', 5),\n",
       " ('the', 23),\n",
       " ('text', 1),\n",
       " ('of', 14),\n",
       " ('the', 23),\n",
       " ('Declaration', 6),\n",
       " ('were', 1),\n",
       " ('few', 1),\n",
       " ('in', 7),\n",
       " ('the', 23),\n",
       " ('following', 1),\n",
       " ('years.', 1),\n",
       " ('Abraham', 2),\n",
       " ('Lincoln', 1),\n",
       " ('made', 1),\n",
       " ('it', 3),\n",
       " ('the', 23),\n",
       " ('centerpiece', 1),\n",
       " ('of', 14),\n",
       " ('his', 3),\n",
       " ('rhetoric', 1),\n",
       " ('(as', 1),\n",
       " ('in', 7),\n",
       " ('the', 23),\n",
       " ('Gettysburg', 1),\n",
       " ('Address', 1),\n",
       " ('of', 14),\n",
       " ('1863)', 1),\n",
       " ('and', 8),\n",
       " ('his', 3),\n",
       " ('policies.', 1),\n",
       " ('Since', 1),\n",
       " ('then,', 1),\n",
       " ('it', 3),\n",
       " ('has', 2),\n",
       " ('become', 1),\n",
       " ('a', 4),\n",
       " ('well-known', 1),\n",
       " ('statement', 2),\n",
       " ('on', 1),\n",
       " ('human', 1),\n",
       " ('rights,', 2),\n",
       " ('particularly', 1),\n",
       " ('its', 2),\n",
       " ('second', 1),\n",
       " ('sentence:', 1),\n",
       " ('We', 1),\n",
       " ('hold', 1),\n",
       " ('these', 2),\n",
       " ('truths', 1),\n",
       " ('to', 5),\n",
       " ('be', 3),\n",
       " ('self-evident,', 1),\n",
       " ('that', 4),\n",
       " ('all', 1),\n",
       " ('men', 1),\n",
       " ('are', 3),\n",
       " ('created', 1),\n",
       " ('equal,', 1),\n",
       " ('that', 4),\n",
       " ('they', 1),\n",
       " ('are', 3),\n",
       " ('endowed', 1),\n",
       " ('by', 4),\n",
       " ('their', 1),\n",
       " ('Creator', 1),\n",
       " ('with', 1),\n",
       " ('certain', 2),\n",
       " ('unalienable', 1),\n",
       " ('Rights,', 1),\n",
       " ('that', 4),\n",
       " ('among', 1),\n",
       " ('these', 2),\n",
       " ('are', 3),\n",
       " ('Life,', 1),\n",
       " ('Liberty', 1),\n",
       " ('and', 8),\n",
       " ('the', 23),\n",
       " ('pursuit', 1),\n",
       " ('of', 14),\n",
       " ('Happiness.', 1),\n",
       " ('This', 2),\n",
       " ('has', 2),\n",
       " ('been', 1),\n",
       " ('called', 1),\n",
       " ('\"one', 1),\n",
       " ('of', 14),\n",
       " ('the', 23),\n",
       " ('best-known', 1),\n",
       " ('sentences', 1),\n",
       " ('in', 7),\n",
       " ('the', 23),\n",
       " ('English', 1),\n",
       " ('language\",', 1),\n",
       " ('containing', 1),\n",
       " ('\"the', 1),\n",
       " ('most', 1),\n",
       " ('potent', 1),\n",
       " ('and', 8),\n",
       " ('consequential', 1),\n",
       " ('words', 1),\n",
       " ('in', 7),\n",
       " ('American', 1),\n",
       " ('history\".', 1),\n",
       " ('The', 3),\n",
       " ('passage', 1),\n",
       " ('came', 1),\n",
       " ('to', 5),\n",
       " ('represent', 1),\n",
       " ('a', 4),\n",
       " ('moral', 1),\n",
       " ('standard', 1),\n",
       " ('to', 5),\n",
       " ('which', 2),\n",
       " ('the', 23),\n",
       " ('United', 4),\n",
       " ('States', 4),\n",
       " ('should', 2),\n",
       " ('strive.', 1),\n",
       " ('This', 2),\n",
       " ('view', 1),\n",
       " ('was', 1),\n",
       " ('notably', 1),\n",
       " ('promoted', 1),\n",
       " ('by', 4),\n",
       " ('Abraham', 2),\n",
       " ('Lincoln,', 1),\n",
       " ('who', 1),\n",
       " ('considered', 1),\n",
       " ('the', 23),\n",
       " ('Declaration', 6),\n",
       " ('to', 5),\n",
       " ('be', 3),\n",
       " ('the', 23),\n",
       " ('foundation', 1),\n",
       " ('of', 14),\n",
       " ('his', 3),\n",
       " ('political', 1),\n",
       " ('philosophy', 1),\n",
       " ('and', 8),\n",
       " ('argued', 1),\n",
       " ('that', 4),\n",
       " ('it', 3),\n",
       " ('is', 1),\n",
       " ('a', 4),\n",
       " ('statement', 2),\n",
       " ('of', 14),\n",
       " ('principles', 1),\n",
       " ('through', 1),\n",
       " ('which', 2),\n",
       " ('the', 23),\n",
       " ('United', 4),\n",
       " ('States', 4),\n",
       " ('Constitution', 1),\n",
       " ('should', 2),\n",
       " ('be', 3),\n",
       " ('interpreted.', 1),\n",
       " ('The', 3),\n",
       " ('U.S.', 1),\n",
       " ('Declaration', 6),\n",
       " ('of', 14),\n",
       " ('Independence', 2),\n",
       " ('inspired', 1),\n",
       " ('many', 1),\n",
       " ('other', 2),\n",
       " ('similar', 1),\n",
       " ('documents', 1),\n",
       " ('in', 7),\n",
       " ('other', 2),\n",
       " ('countries,', 1),\n",
       " ('the', 23),\n",
       " ('first', 2),\n",
       " ('being', 1),\n",
       " ('the', 23),\n",
       " ('1789', 1),\n",
       " ('Declaration', 6),\n",
       " ('of', 14),\n",
       " ('Flanders', 1),\n",
       " ('issued', 1),\n",
       " ('during', 2),\n",
       " ('the', 23),\n",
       " ('Brabant', 1),\n",
       " ('Revolution', 1),\n",
       " ('in', 7),\n",
       " ('the', 23),\n",
       " ('Austrian', 1),\n",
       " ('Netherlands', 1),\n",
       " ('(modern-day', 1),\n",
       " ('Belgium).', 1),\n",
       " ('It', 1),\n",
       " ('also', 1),\n",
       " ('served', 2),\n",
       " ('as', 3),\n",
       " ('the', 23),\n",
       " ('primary', 1),\n",
       " ('model', 1),\n",
       " ('for', 2),\n",
       " ('numerous', 1),\n",
       " ('declarations', 1),\n",
       " ('of', 14),\n",
       " ('independence', 2),\n",
       " ('across', 1),\n",
       " ('Europe', 1),\n",
       " ('and', 8),\n",
       " ('Latin', 1),\n",
       " ('America,', 1),\n",
       " ('as', 3),\n",
       " ('well', 1),\n",
       " ('as', 3),\n",
       " ('Africa', 1),\n",
       " ('(Liberia)', 1),\n",
       " ('and', 8),\n",
       " ('Oceania', 1),\n",
       " ('(New', 1),\n",
       " ('Zealand)', 1),\n",
       " ('during', 2),\n",
       " ('the', 23),\n",
       " ('first', 2),\n",
       " ('half', 1),\n",
       " ('of', 14),\n",
       " ('the', 23),\n",
       " ('19th', 1),\n",
       " ('century.', 1)]"
      ]
     },
     "execution_count": 49,
     "metadata": {},
     "output_type": "execute_result"
    }
   ],
   "source": [
    "\n",
    "text  = \"\"\"\n",
    "United States Declaration of Independence\n",
    "From Wikipedia, the free encyclopedia\n",
    "... (omitting the rest for brevity) ... \n",
    "... much scholarly inquiry.\n",
    "The Declaration justified the independence of the United States by listing colonial grievances against\n",
    "King George III, and by asserting certain natural and legal rights, including a right of revolution.\n",
    "Having served its original purpose in announcing independence, references to the text of the\n",
    "Declaration were few in the following years. Abraham Lincoln made it the centerpiece of his rhetoric\n",
    "(as in the Gettysburg Address of 1863) and his policies. Since then, it has become a well-known statement\n",
    "on human rights, particularly its second sentence:\n",
    "\n",
    "We hold these truths to be self-evident, that all men are created equal, that they are endowed by their\n",
    "Creator with certain unalienable Rights, that among these are Life, Liberty and the pursuit of Happiness.\n",
    "\n",
    "This has been called \"one of the best-known sentences in the English language\", containing \"the most potent\n",
    "and consequential words in American history\". The passage came to represent a moral standard to which\n",
    "the United States should strive. This view was notably promoted by Abraham Lincoln, who considered the\n",
    "Declaration to be the foundation of his political philosophy and argued that it is a statement of principles\n",
    "through which the United States Constitution should be interpreted.\n",
    "\n",
    "The U.S. Declaration of Independence inspired many other similar documents in other countries, the first\n",
    "being the 1789 Declaration of Flanders issued during the Brabant Revolution in the Austrian Netherlands\n",
    "(modern-day Belgium). It also served as the primary model for numerous declarations of independence across\n",
    "Europe and Latin America, as well as Africa (Liberia) and Oceania (New Zealand) during the first half of the\n",
    "19th century.\n",
    "\"\"\"\n",
    "text = text.split()\n",
    "[(i,text.count(i)) for i in text]"
   ]
  },
  {
   "cell_type": "code",
   "execution_count": 48,
   "id": "1cdd3a85-a99c-4d4d-85bd-64872adaf7d5",
   "metadata": {},
   "outputs": [
    {
     "data": {
      "text/plain": [
       "0"
      ]
     },
     "execution_count": 48,
     "metadata": {},
     "output_type": "execute_result"
    }
   ],
   "source": [
    "text2.count('Latin')"
   ]
  },
  {
   "cell_type": "raw",
   "id": "d1bfe443-6130-4bd7-9921-26656c15858a",
   "metadata": {},
   "source": [
    "11. Write a Python program to check the sum of three elements (each from an array) from three arrays is equal to a target value. Print all those three-element combinations.\n",
    "Sample data:\n",
    "/*\n",
    "X = [10, 20, 20, 20]\n",
    "Y = [10, 20, 30, 40]\n",
    "Z = [10, 30, 40, 20]\n",
    "target = 70\n",
    "*/"
   ]
  },
  {
   "cell_type": "code",
   "execution_count": 61,
   "id": "ce8e4024-d3aa-4337-a922-433fe4018131",
   "metadata": {},
   "outputs": [
    {
     "data": {
      "text/plain": [
       "[]"
      ]
     },
     "execution_count": 61,
     "metadata": {},
     "output_type": "execute_result"
    }
   ],
   "source": [
    "X =  [10, 30, 40, 20]\n",
    "x = sorted(X)\n",
    "target = 70\n",
    "stack = []\n",
    "for i in range(len(x)):\n",
    "    for j in range(i+1,len(x)):\n",
    "        val = x[i]+x[j]\n",
    "        if -val in x[j+1:] and [x[i],x[j],-val] not in stack:\n",
    "            stack.append([x[i],x[j],-val])\n",
    "stack\n",
    "            "
   ]
  },
  {
   "cell_type": "raw",
   "id": "3093eedd-7e37-4dcf-9223-73576a8f18dd",
   "metadata": {},
   "source": [
    "13. Write a Python program to get all possible two-digit letter combinations from a 1-9 digit string.\n",
    "string_maps = {\n",
    "\"1\": \"abc\",\n",
    "\"2\": \"def\",\n",
    "\"3\": \"ghi\",\n",
    "\"4\": \"jkl\",\n",
    "\"5\": \"mno\",\n",
    "\"6\": \"pqrs\",\n",
    "\"7\": \"tuv\",\n",
    "\"8\": \"wxy\",\n",
    "\"9\": \"z\"\n",
    "}\n",
    "input = 47\n",
    "['jt', 'ju', 'jv', 'kt', 'ku', 'kv', 'lt', 'lu', 'lv']\n",
    "29\n",
    "['dz', 'ez', 'fz']"
   ]
  },
  {
   "cell_type": "code",
   "execution_count": 70,
   "id": "2713bebd-aad9-420a-954f-0186083e6233",
   "metadata": {},
   "outputs": [
    {
     "name": "stdin",
     "output_type": "stream",
     "text": [
      "number 29\n"
     ]
    },
    {
     "data": {
      "text/plain": [
       "['dz', 'ez', 'fz']"
      ]
     },
     "execution_count": 70,
     "metadata": {},
     "output_type": "execute_result"
    }
   ],
   "source": [
    "def getcombination(no):\n",
    "    \n",
    "    string_maps = {\n",
    "    \"1\": \"abc\",\n",
    "    \"2\": \"def\",\n",
    "    \"3\": \"ghi\",\n",
    "    \"4\": \"jkl\",\n",
    "    \"5\": \"mno\",\n",
    "    \"6\": \"pqrs\",\n",
    "    \"7\": \"tuv\",\n",
    "    \"8\": \"wxy\",\n",
    "    \"9\": \"z\"\n",
    "    }\n",
    "\n",
    "    stack = []\n",
    "    for i in string_maps[no[0]]:\n",
    "        for j in string_maps[no[1]]:\n",
    "            stack.append(i+j)\n",
    "    return stack\n",
    "no = input(str(\"number\"))\n",
    "getcombination(no)"
   ]
  },
  {
   "cell_type": "raw",
   "id": "c09058d6-0197-4ff6-b295-3de4f48f05f0",
   "metadata": {},
   "source": [
    "14. Write a Python program to add two positive integers without using the '+' operator.\n",
    "Note: Use bit wise operations to add two numbers."
   ]
  },
  {
   "cell_type": "code",
   "execution_count": 80,
   "id": "6e2deb10-bff4-48ca-8e3c-7ff8f254bb2b",
   "metadata": {},
   "outputs": [
    {
     "data": {
      "text/plain": [
       "55"
      ]
     },
     "execution_count": 80,
     "metadata": {},
     "output_type": "execute_result"
    }
   ],
   "source": [
    "a = 32\n",
    "b = 23\n",
    "\n",
    "while a != 0:\n",
    "    temp = a & b\n",
    "    b = a ^ b\n",
    "    a = temp << 1\n",
    "b"
   ]
  },
  {
   "cell_type": "raw",
   "id": "03295ca4-094a-4392-9e2e-b612521fb39a",
   "metadata": {},
   "source": [
    "16. Write a Python program to get the third side of a right-angled triangle from two given sides."
   ]
  },
  {
   "cell_type": "code",
   "execution_count": null,
   "id": "86998c39-9dec-4af0-a8ae-85630ecd5aa1",
   "metadata": {},
   "outputs": [],
   "source": [
    "a = 5\n",
    "b = 6\n"
   ]
  }
 ],
 "metadata": {
  "kernelspec": {
   "display_name": "Python 3 (ipykernel)",
   "language": "python",
   "name": "python3"
  },
  "language_info": {
   "codemirror_mode": {
    "name": "ipython",
    "version": 3
   },
   "file_extension": ".py",
   "mimetype": "text/x-python",
   "name": "python",
   "nbconvert_exporter": "python",
   "pygments_lexer": "ipython3",
   "version": "3.12.1"
  }
 },
 "nbformat": 4,
 "nbformat_minor": 5
}
