{
 "cells": [
  {
   "cell_type": "markdown",
   "id": "719c4d6b",
   "metadata": {},
   "source": [
    "\n",
    "## Dictionary "
   ]
  },
  {
   "cell_type": "raw",
   "id": "c20d1bc3",
   "metadata": {},
   "source": [
    "Exercise 1: Convert two lists into a dictionary\n",
    "Below are the two lists. Write a Python program to convert them into a dictionary in a way that item from list1 is the key and item from list2 is the value\n",
    "\n",
    "keys = ['Ten', 'Twenty', 'Thirty']\n",
    "values = [10, 20, 30]\n",
    "Expected output:\n",
    "\n",
    "{'Ten': 10, 'Twenty': 20, 'Thirty': 30}"
   ]
  },
  {
   "cell_type": "code",
   "execution_count": 8,
   "id": "8c991c54",
   "metadata": {},
   "outputs": [
    {
     "name": "stdout",
     "output_type": "stream",
     "text": [
      "first_way :  {'Ten': 10, 'Twenty': 20, 'Thirty': 30}\n",
      "{'Ten': 10, 'Twenty': 20, 'Thirty': 30}\n"
     ]
    }
   ],
   "source": [
    "keys = ['Ten', 'Twenty', 'Thirty']\n",
    "values = [10, 20, 30]\n",
    "\n",
    "# first way\n",
    "first_way = dict(zip(keys,values))\n",
    "print('first_way : ',first_way)\n",
    "\n",
    "sec_dic = {k:v for k,v in zip(keys,values)}\n",
    "print(sec_dic)\n",
    "\n"
   ]
  },
  {
   "cell_type": "raw",
   "id": "85a90e32",
   "metadata": {},
   "source": [
    "Exercise 2: Merge two Python dictionaries into one\n",
    "dict1 = {'Ten': 10, 'Twenty': 20, 'Thirty': 30}\n",
    "dict2 = {'Thirty': 30, 'Fourty': 40, 'Fifty': 50}\n",
    "Expected output:\n",
    "\n",
    "{'Ten': 10, 'Twenty': 20, 'Thirty': 30, 'Fourty': 40, 'Fifty': 50}"
   ]
  },
  {
   "cell_type": "code",
   "execution_count": 10,
   "id": "15b5aa2c",
   "metadata": {},
   "outputs": [
    {
     "name": "stdout",
     "output_type": "stream",
     "text": [
      "{'Ten': 10, 'Twenty': 20, 'Thirty': 30, 'Fourty': 40, 'Fifty': 50}\n"
     ]
    }
   ],
   "source": [
    "dict1 = {'Ten': 10, 'Twenty': 20, 'Thirty': 30}\n",
    "dict2 = {'Thirty': 30, 'Fourty': 40, 'Fifty': 50}\n",
    "\n",
    "dict1.update(dict2)\n",
    "\n",
    "print(dict1)"
   ]
  },
  {
   "cell_type": "code",
   "execution_count": 13,
   "id": "3d0a8ef2",
   "metadata": {},
   "outputs": [
    {
     "data": {
      "text/plain": [
       "{'Ten': 10, 'Twenty': 20, 'Thirty': 30, 'Fourty': 40, 'Fifty': 50}"
      ]
     },
     "execution_count": 13,
     "metadata": {},
     "output_type": "execute_result"
    }
   ],
   "source": [
    "second_dict = {**dict1,**dict2}\n",
    "second_dict"
   ]
  },
  {
   "cell_type": "raw",
   "id": "321a6ff9",
   "metadata": {},
   "source": [
    "Exercise 3: Print the value of key ‘history’ from the below dict\n",
    "sampleDict = {\n",
    "    \"class\": {\n",
    "        \"student\": {\n",
    "            \"name\": \"Mike\",\n",
    "            \"marks\": {\n",
    "                \"physics\": 70,\n",
    "                \"history\": 80\n",
    "            }\n",
    "        }\n",
    "    }\n",
    "}\n",
    "Expected output:\n",
    "\n",
    "80"
   ]
  },
  {
   "cell_type": "code",
   "execution_count": 17,
   "id": "a2f53c01",
   "metadata": {},
   "outputs": [
    {
     "data": {
      "text/plain": [
       "80"
      ]
     },
     "execution_count": 17,
     "metadata": {},
     "output_type": "execute_result"
    }
   ],
   "source": [
    "sampleDict = {\n",
    "    \"class\": {\n",
    "        \"student\": {\n",
    "            \"name\": \"Mike\",\n",
    "            \"marks\": {\n",
    "                \"physics\": 70,\n",
    "                \"history\": 80\n",
    "            }\n",
    "        }\n",
    "    }\n",
    "}\n",
    "\n",
    "sampleDict[\"class\"][\"student\"][\"marks\"][\"history\"]"
   ]
  },
  {
   "cell_type": "raw",
   "id": "be919ea0",
   "metadata": {},
   "source": [
    "Exercise 4: Initialize dictionary with default values\n",
    "In Python, we can initialize the keys with the same values.\n",
    "\n",
    "Given:\n",
    "\n",
    "employees = ['Kelly', 'Emma']\n",
    "defaults = {\"designation\": 'Developer', \"salary\": 8000}\n",
    "Expected output:\n",
    "\n",
    "{'Kelly': {'designation': 'Developer', 'salary': 8000}, 'Emma': {'designation': 'Developer', 'salary': 8000}}"
   ]
  },
  {
   "cell_type": "code",
   "execution_count": 20,
   "id": "54761334",
   "metadata": {},
   "outputs": [
    {
     "data": {
      "text/plain": [
       "{'Kelly': {'designation': 'Developer', 'salary': 8000},\n",
       " 'Emma': {'designation': 'Developer', 'salary': 8000}}"
      ]
     },
     "execution_count": 20,
     "metadata": {},
     "output_type": "execute_result"
    }
   ],
   "source": [
    "employees = ['Kelly', 'Emma']\n",
    "defaults = {\"designation\": 'Developer', \"salary\": 8000}\n",
    "\n",
    "output = {k:defaults for k in employees}\n",
    "output"
   ]
  },
  {
   "cell_type": "raw",
   "id": "6876c3b0",
   "metadata": {},
   "source": [
    "Exercise 5: Create a dictionary by extracting the keys from a given dictionary\n",
    "Write a Python program to create a new dictionary by extracting the mentioned keys from the below dictionary.\n",
    "\n",
    "Given dictionary:\n",
    "\n",
    "sample_dict = {\n",
    "    \"name\": \"Kelly\",\n",
    "    \"age\": 25,\n",
    "    \"salary\": 8000,\n",
    "    \"city\": \"New york\"}\n",
    "\n",
    "# Keys to extract\n",
    "keys = [\"name\", \"salary\"]\n",
    "Expected output:\n",
    "\n",
    "{'name': 'Kelly', 'salary': 8000}"
   ]
  },
  {
   "cell_type": "code",
   "execution_count": 24,
   "id": "b978a756",
   "metadata": {},
   "outputs": [
    {
     "data": {
      "text/plain": [
       "{'name': 'Kelly', 'salary': 8000}"
      ]
     },
     "execution_count": 24,
     "metadata": {},
     "output_type": "execute_result"
    }
   ],
   "source": [
    "sample_dict = {\n",
    "    \"name\": \"Kelly\",\n",
    "    \"age\": 25,\n",
    "    \"salary\": 8000,\n",
    "    \"city\": \"New york\"}\n",
    "keys = [\"name\", \"salary\"]\n",
    "\n",
    "output = {k:sample_dict[k] for k in keys}\n",
    "output"
   ]
  },
  {
   "cell_type": "raw",
   "id": "a4d7d8aa",
   "metadata": {},
   "source": [
    "Exercise 6: Delete a list of keys from a dictionary\n",
    "Given:\n",
    "\n",
    "sample_dict = {\n",
    "    \"name\": \"Kelly\",\n",
    "    \"age\": 25,\n",
    "    \"salary\": 8000,\n",
    "    \"city\": \"New york\"\n",
    "}\n",
    "\n",
    "# Keys to remove\n",
    "keys = [\"name\", \"salary\"]\n",
    "Expected output:\n",
    "\n",
    "{'city': 'New york', 'age': 25}"
   ]
  },
  {
   "cell_type": "code",
   "execution_count": 25,
   "id": "778d9124",
   "metadata": {},
   "outputs": [
    {
     "data": {
      "text/plain": [
       "{'age': 25, 'city': 'New york'}"
      ]
     },
     "execution_count": 25,
     "metadata": {},
     "output_type": "execute_result"
    }
   ],
   "source": [
    "sample_dict = {\n",
    "    \"name\": \"Kelly\",\n",
    "    \"age\": 25,\n",
    "    \"salary\": 8000,\n",
    "    \"city\": \"New york\"\n",
    "}\n",
    "\n",
    "# Keys to remove\n",
    "keys = [\"name\", \"salary\"]\n",
    "for k in keys:\n",
    "    del(sample_dict[k])\n",
    "sample_dict"
   ]
  },
  {
   "cell_type": "raw",
   "id": "3f1c47b1",
   "metadata": {},
   "source": [
    "Exercise 7: Check if a value exists in a dictionary\n",
    "We know how to check if the key exists in a dictionary. Sometimes it is required to check if the given value is present.\n",
    "\n",
    "Write a Python program to check if value 200 exists in the following dictionary.\n",
    "\n",
    "Given:\n",
    "\n",
    "aExpected output:\n",
    "\n",
    "200 present in a dict"
   ]
  },
  {
   "cell_type": "code",
   "execution_count": 27,
   "id": "d0dbdb91",
   "metadata": {},
   "outputs": [
    {
     "name": "stdout",
     "output_type": "stream",
     "text": [
      "200 present in a dict\n"
     ]
    }
   ],
   "source": [
    "sample_dict = {'a': 100, 'b': 200, 'c': 300}\n",
    "if 200 in sample_dict.values():\n",
    "    print('200 present in a dict')\n",
    "else:\n",
    "    print(\"no\")"
   ]
  },
  {
   "cell_type": "code",
   "execution_count": null,
   "id": "d196a774",
   "metadata": {},
   "outputs": [],
   "source": []
  },
  {
   "cell_type": "raw",
   "id": "62724f69",
   "metadata": {},
   "source": [
    "Exercise 8: Rename key of a dictionary\n",
    "Write a program to rename a key city to a location in the following dictionary.\n",
    "\n",
    "Given:\n",
    "\n",
    "sample_dict = {\n",
    "  \"name\": \"Kelly\",\n",
    "  \"age\":25,\n",
    "  \"salary\": 8000,\n",
    "  \"city\": \"New york\"\n",
    "}\n",
    "Expected output:\n",
    "\n",
    "{'name': 'Kelly', 'age': 25, 'salary': 8000, 'location': 'New york'}"
   ]
  },
  {
   "cell_type": "code",
   "execution_count": 32,
   "id": "8f92d139",
   "metadata": {},
   "outputs": [
    {
     "data": {
      "text/plain": [
       "{'name': 'Kelly', 'age': 25, 'salary': 8000, 'location': 'New york'}"
      ]
     },
     "execution_count": 32,
     "metadata": {},
     "output_type": "execute_result"
    }
   ],
   "source": [
    "sample_dict = {\n",
    "  \"name\": \"Kelly\",\n",
    "  \"age\":25,\n",
    "  \"salary\": 8000,\n",
    "  \"city\": \"New york\"\n",
    "}\n",
    "\n",
    "sample_dict[\"location\"] = sample_dict.pop(\"city\")\n",
    "sample_dict"
   ]
  },
  {
   "cell_type": "code",
   "execution_count": 29,
   "id": "40da3fcd",
   "metadata": {},
   "outputs": [
    {
     "data": {
      "text/plain": [
       "{'name': 'Kelly', 'age': 25, 'salary': 8000, 'location': 'New york'}"
      ]
     },
     "execution_count": 29,
     "metadata": {},
     "output_type": "execute_result"
    }
   ],
   "source": [
    "sample_dict = {\n",
    "  \"name\": \"Kelly\",\n",
    "  \"age\":25,\n",
    "  \"salary\": 8000,\n",
    "  \"city\": \"New york\"\n",
    "}\n",
    "\n",
    "sample_dict[\"location\"] = sample_dict[\"city\"]\n",
    "del(sample_dict[\"city\"])\n",
    "sample_dict"
   ]
  },
  {
   "cell_type": "raw",
   "id": "f5432478",
   "metadata": {},
   "source": [
    "Exercise 9: Get the key of a minimum value from the following dictionary\n",
    "sample_dict = {\n",
    "  'Physics': 82,\n",
    "  'Math': 65,\n",
    "  'history': 75\n",
    "}\n",
    "Expected output:\n",
    "\n",
    "Math"
   ]
  },
  {
   "cell_type": "code",
   "execution_count": 33,
   "id": "74fa545b",
   "metadata": {},
   "outputs": [
    {
     "data": {
      "text/plain": [
       "'Math'"
      ]
     },
     "execution_count": 33,
     "metadata": {},
     "output_type": "execute_result"
    }
   ],
   "source": [
    "sample_dict = {\n",
    "  'Physics': 82,\n",
    "  'Math': 65,\n",
    "  'history': 75\n",
    "}\n",
    "\n",
    "sorted(sample_dict.keys(), key=lambda x:x[0])[0]\n"
   ]
  },
  {
   "cell_type": "raw",
   "id": "34c1aa7d",
   "metadata": {},
   "source": [
    "Exercise 10: Change value of a key in a nested dictionary\n",
    "Write a Python program to change Brad’s salary to 8500 in the following dictionary.\n",
    "\n",
    "Given:\n",
    "\n",
    "sample_dict = {\n",
    "    'emp1': {'name': 'Jhon', 'salary': 7500},\n",
    "    'emp2': {'name': 'Emma', 'salary': 8000},\n",
    "    'emp3': {'name': 'Brad', 'salary': 500}\n",
    "}\n",
    "Expected output:\n",
    "\n",
    "{\n",
    "   'emp1': {'name': 'Jhon', 'salary': 7500},\n",
    "   'emp2': {'name': 'Emma', 'salary': 8000},\n",
    "   'emp3': {'name': 'Brad', 'salary': 8500}\n",
    "}"
   ]
  },
  {
   "cell_type": "code",
   "execution_count": 39,
   "id": "dfa097d1",
   "metadata": {},
   "outputs": [
    {
     "data": {
      "text/plain": [
       "{'emp1': {'name': 'Jhon', 'salary': 7500},\n",
       " 'emp2': {'name': 'Emma', 'salary': 8000},\n",
       " 'emp3': {'name': 'Brad', 'salary': 8500}}"
      ]
     },
     "execution_count": 39,
     "metadata": {},
     "output_type": "execute_result"
    }
   ],
   "source": [
    "\n",
    "sample_dict = {\n",
    "    'emp1': {'name': 'Jhon', 'salary': 7500},\n",
    "    'emp2': {'name': 'Emma', 'salary': 8000},\n",
    "    'emp3': {'name': 'Brad', 'salary': 500}\n",
    "}\n",
    "\n",
    "emp_name = \"Brad\"\n",
    "inc_sal = 8500\n",
    "for i in sample_dict.keys():\n",
    "    if sample_dict[i][\"name\"] == emp_name:\n",
    "        sample_dict[i][\"salary\"] = inc_sal\n",
    "sample_dict"
   ]
  },
  {
   "cell_type": "markdown",
   "id": "c2a8d739",
   "metadata": {},
   "source": [
    "# List "
   ]
  },
  {
   "cell_type": "raw",
   "id": "e7585757",
   "metadata": {},
   "source": [
    "Exercise 1: Create a list by picking an odd-index items from the first list and even index items from the second\n",
    "Given two lists, l1 and l2, write a program to create a third list l3 by picking an odd-index element from the list l1 and even index elements from the list l2.\n",
    "\n",
    "Given:\n",
    "\n",
    "l1 = [3, 6, 9, 12, 15, 18, 21]\n",
    "l2 = [4, 8, 12, 16, 20, 24, 28]\n",
    "Expected Output:\n",
    "\n",
    "Element at odd-index positions from list one\n",
    "[6, 12, 18]\n",
    "Element at even-index positions from list two\n",
    "[4, 12, 20, 28]\n",
    "\n",
    "Printing Final third list\n",
    "[6, 12, 18, 4, 12, 20, 28]"
   ]
  },
  {
   "cell_type": "code",
   "execution_count": 48,
   "id": "5b7ce7c8",
   "metadata": {},
   "outputs": [
    {
     "data": {
      "text/plain": [
       "[6, 12, 18, 4, 12, 20, 28]"
      ]
     },
     "execution_count": 48,
     "metadata": {},
     "output_type": "execute_result"
    }
   ],
   "source": [
    "\n",
    "l1 = [3, 6, 9, 12, 15, 18, 21]\n",
    "l2 = [4, 8, 12, 16, 20, 24, 28]\n",
    "\n",
    "even_pos = [l1[i] for i in range(1,len(l1),2)]\n",
    "odd_pos = [l2[i] for i in range(0,len(l2),2)]\n",
    "even_pos + odd_pos"
   ]
  },
  {
   "cell_type": "raw",
   "id": "563740da",
   "metadata": {},
   "source": [
    "Exercise 2: Remove and add item in a list\n",
    "Write a program to remove the item present at index 4 and add it to the 2nd position and at the end of the list.\n",
    "\n",
    "Given:\n",
    "\n",
    "list1 = [54, 44, 27, 79, 91, 41]\n",
    "Expected Output:\n",
    "\n",
    "List After removing element at index 4  [34, 54, 67, 89, 43, 94]\n",
    "List after Adding element at index 2  [34, 54, 11, 67, 89, 43, 94]\n",
    "List after Adding element at last  [34, 54, 11, 67, 89, 43, 94, 11]"
   ]
  },
  {
   "cell_type": "code",
   "execution_count": 51,
   "id": "b3564a3f",
   "metadata": {},
   "outputs": [
    {
     "name": "stdout",
     "output_type": "stream",
     "text": [
      "List After removing element at index 4: [54, 44, 27, 79, 41]\n",
      "List after Adding element at index 2: [54, 44, 91, 27, 79, 41]\n",
      "List after Adding element at last: [54, 44, 91, 27, 79, 41, 91]\n"
     ]
    }
   ],
   "source": [
    "# Given list\n",
    "list1 = [54, 44, 27, 79, 91, 41]\n",
    "\n",
    "# Step 1: Remove the item at index 4\n",
    "removed_item = list1.pop(4)\n",
    "print(\"List After removing element at index 4:\", list1)\n",
    "\n",
    "# Step 2: Add the removed item at the 2nd position (index 2)\n",
    "list1.insert(2, removed_item)\n",
    "print(\"List after Adding element at index 2:\", list1)\n",
    "\n",
    "# Step 3: Add the removed item at the end of the list\n",
    "list1.append(removed_item)\n",
    "print(\"List after Adding element at last:\", list1)\n"
   ]
  },
  {
   "cell_type": "raw",
   "id": "2a52639e",
   "metadata": {},
   "source": [
    "Exercise 3: Slice list into 3 equal chunks and reverse each chunk\n",
    "Given:\n",
    "\n",
    "sample_list = [11, 45, 8, 23, 14, 12, 78, 45, 89]\n",
    "Expected Outcome:\n",
    "\n",
    "Chunk  1 [11, 45, 8]\n",
    "After reversing it  [8, 45, 11]\n",
    "Chunk  2 [23, 14, 12]\n",
    "After reversing it  [12, 14, 23]\n",
    "Chunk  3 [78, 45, 89]\n",
    "After reversing it  [89, 45, 78]"
   ]
  },
  {
   "cell_type": "code",
   "execution_count": 3,
   "id": "ebded902",
   "metadata": {},
   "outputs": [
    {
     "name": "stdout",
     "output_type": "stream",
     "text": [
      "[11, 45, 8]\n",
      "[23, 14, 12]\n",
      "[78, 45, 89]\n"
     ]
    }
   ],
   "source": [
    "sample_list = [11, 45, 8, 23, 14, 12, 78, 45, 89]\n",
    "chunks = []\n",
    "\n",
    "for i in range(0,len(sample_list),3):\n",
    "    print(sample_list[i:i+3])\n",
    "    chunks.append(sample_list[i:i+3][::-1])\n"
   ]
  },
  {
   "cell_type": "raw",
   "id": "19f580f3",
   "metadata": {},
   "source": [
    "Exercise 4: Count the occurrence of each element from a list\n",
    "Write a program to iterate a given list and count the occurrence of each element and create a dictionary to show the count of each element.\n",
    "\n",
    "Given:\n",
    "\n",
    "sample_list = [11, 45, 8, 11, 23, 45, 23, 45, 89]\n",
    "Expected Output:\n",
    "\n",
    "Printing count of each item   {11: 2, 45: 3, 8: 1, 23: 2, 89: 1}"
   ]
  },
  {
   "cell_type": "code",
   "execution_count": 5,
   "id": "8fc71fc5",
   "metadata": {},
   "outputs": [
    {
     "data": {
      "text/plain": [
       "{11: 2, 45: 3, 8: 1, 23: 2, 89: 1}"
      ]
     },
     "execution_count": 5,
     "metadata": {},
     "output_type": "execute_result"
    }
   ],
   "source": [
    "sample_list = [11, 45, 8, 11, 23, 45, 23, 45, 89]\n",
    "occurrence = {k:sample_list.count(k) for k in (sample_list)}\n",
    "occurrence"
   ]
  },
  {
   "cell_type": "raw",
   "id": "10746f23",
   "metadata": {},
   "source": [
    "Exercise 5: Create a Python set such that it shows the element from both lists in a pair\n",
    "Given:\n",
    "\n",
    "first_list = [2, 3, 4, 5, 6, 7, 8]\n",
    "second_list = [4, 9, 16, 25, 36, 49, 64]\n",
    "Expected Output:\n",
    "\n",
    "Result is  {(6, 36), (8, 64), (4, 16), (5, 25), (3, 9), (7, 49), (2, 4)}"
   ]
  },
  {
   "cell_type": "code",
   "execution_count": 6,
   "id": "0c2a3939",
   "metadata": {},
   "outputs": [
    {
     "data": {
      "text/plain": [
       "{(2, 4), (3, 9), (4, 16), (5, 25), (6, 36), (7, 49), (8, 64)}"
      ]
     },
     "execution_count": 6,
     "metadata": {},
     "output_type": "execute_result"
    }
   ],
   "source": [
    "first_list = [2, 3, 4, 5, 6, 7, 8]\n",
    "second_list = [4, 9, 16, 25, 36, 49, 64]\n",
    "s =set()\n",
    "for k,v in zip(first_list,second_list):\n",
    "    s.add((k,v))\n",
    "s"
   ]
  },
  {
   "cell_type": "code",
   "execution_count": null,
   "id": "0b78f984",
   "metadata": {},
   "outputs": [],
   "source": []
  },
  {
   "cell_type": "raw",
   "id": "50e902d2",
   "metadata": {},
   "source": [
    "Exercise 6: Find the intersection (common) of two sets and remove those elements from the first set\n",
    "See: Python Set\n",
    "\n",
    "Given:\n",
    "\n",
    "first_set = {23, 42, 65, 57, 78, 83, 29}\n",
    "second_set = {57, 83, 29, 67, 73, 43, 48}\n",
    "Expected Output:\n",
    "\n",
    "Intersection is  {57, 83, 29}\n",
    "First Set after removing common element  {65, 42, 78, 23}"
   ]
  },
  {
   "cell_type": "code",
   "execution_count": 9,
   "id": "d9696f8e",
   "metadata": {},
   "outputs": [
    {
     "data": {
      "text/plain": [
       "{23, 42, 65, 78}"
      ]
     },
     "execution_count": 9,
     "metadata": {},
     "output_type": "execute_result"
    }
   ],
   "source": [
    "first_set = {23, 42, 65, 57, 78, 83, 29}\n",
    "second_set = {57, 83, 29, 67, 73, 43, 48}\n",
    "\n",
    "common = first_set.intersection(second_set)\n",
    "for comm in common:\n",
    "    first_set.remove(comm)\n",
    "first_set"
   ]
  },
  {
   "cell_type": "code",
   "execution_count": null,
   "id": "eba72921",
   "metadata": {},
   "outputs": [],
   "source": []
  },
  {
   "cell_type": "raw",
   "id": "0d4634c8",
   "metadata": {},
   "source": [
    "Exercise 7: Checks if one set is a subset or superset of another set. If found, delete all elements from that set\n",
    "Given:\n",
    "\n",
    "first_set = {27, 43, 34}\n",
    "second_set = {34, 93, 22, 27, 43, 53, 48}\n",
    "Expected Output:\n",
    "\n",
    "First set is subset of second set - True\n",
    "Second set is subset of First set -  False\n",
    "\n",
    "First set is Super set of second set -  False\n",
    "Second set is Super set of First set -  True\n",
    "\n",
    "First Set  set()\n",
    "Second Set  {67, 73, 43, 48, 83, 57, 29}"
   ]
  },
  {
   "cell_type": "code",
   "execution_count": 10,
   "id": "ee306af4",
   "metadata": {},
   "outputs": [],
   "source": [
    "first_set = {27, 43, 34}\n",
    "second_set = {34, 93, 22, 27, 43, 53, 48}"
   ]
  },
  {
   "cell_type": "raw",
   "id": "c6a8c471",
   "metadata": {},
   "source": [
    "Exercise 8: Iterate a given list and check if a given element exists as a key’s value in a dictionary. If not, delete it from the list\n",
    "Given:\n",
    "\n",
    "roll_number = [47, 64, 69, 37, 76, 83, 95, 97]\n",
    "sample_dict = {'Jhon':47, 'Emma':69, 'Kelly':76, 'Jason':97}\n",
    "Expected Outcome:\n",
    "\n",
    "After removing unwanted elements from list [47, 69, 76, 97]"
   ]
  },
  {
   "cell_type": "code",
   "execution_count": 12,
   "id": "a0911367",
   "metadata": {},
   "outputs": [],
   "source": [
    "roll_number = [47, 64, 69, 37, 76, 83, 95, 97]\n",
    "sample_dict = {'Jhon':47, 'Emma':69, 'Kelly':76, 'Jason':97}\n",
    "for i in roll_number:\n",
    "    if i not in sample_dict.values():\n",
    "        roll_number.remove(i)"
   ]
  },
  {
   "cell_type": "raw",
   "id": "3bd2683a",
   "metadata": {},
   "source": [
    "Exercise 9: Get all values from the dictionary and add them to a list but don’t add duplicates\n",
    "Given:\n",
    "\n",
    "speed = {'jan': 47, 'feb': 52, 'march': 47, 'April': 44, 'May': 52, 'June': 53, 'july': 54, 'Aug': 44, 'Sept': 54}\n",
    "Expected Outcome:\n",
    "\n",
    "[47, 52, 44, 53, 54]"
   ]
  },
  {
   "cell_type": "code",
   "execution_count": 13,
   "id": "86186a5d",
   "metadata": {},
   "outputs": [
    {
     "data": {
      "text/plain": [
       "[47, 52, 44, 53, 54]"
      ]
     },
     "execution_count": 13,
     "metadata": {},
     "output_type": "execute_result"
    }
   ],
   "source": [
    "speed = {'jan': 47, 'feb': 52, 'march': 47, 'April': 44, 'May': 52, 'June': 53, 'july': 54, 'Aug': 44, 'Sept': 54}\n",
    "lst = []\n",
    "for v in speed.values():\n",
    "    if v not in lst:\n",
    "        lst.append(v)\n",
    "lst"
   ]
  },
  {
   "cell_type": "raw",
   "id": "40ca8b51",
   "metadata": {},
   "source": [
    "Exercise 10: Remove duplicates from a list and create a tuple and find the minimum and maximum number\n",
    "Given:\n",
    "\n",
    "sample_list = [87, 45, 41, 65, 94, 41, 99, 94]\n",
    "Expected Outcome:\n",
    "\n",
    "unique items [87, 45, 41, 65, 99]\n",
    "tuple (87, 45, 41, 65, 99)\n",
    "min: 41\n",
    "max: 99"
   ]
  },
  {
   "cell_type": "markdown",
   "id": "57621e84",
   "metadata": {},
   "source": [
    "# string"
   ]
  },
  {
   "cell_type": "raw",
   "id": "3b10dd1f",
   "metadata": {},
   "source": [
    "Exercise 1A: Create a string made of the first, middle and last character\n",
    "Write a program to create a new string made of an input string’s first, middle, and last character.\n",
    "\n",
    "Given:\n",
    "\n",
    "str1 = \"James\"\n",
    "Expected Output:\n",
    "\n",
    "Jms"
   ]
  },
  {
   "cell_type": "code",
   "execution_count": 14,
   "id": "855efc84",
   "metadata": {},
   "outputs": [
    {
     "name": "stdout",
     "output_type": "stream",
     "text": [
      "Jms"
     ]
    }
   ],
   "source": [
    "str1 = \"James\"\n",
    "for i in range(0,len(str1),2):\n",
    "    print(str1[i],end=\"\")\n",
    "\n"
   ]
  },
  {
   "cell_type": "raw",
   "id": "54567cec",
   "metadata": {},
   "source": [
    "Exercise 1B: Create a string made of the middle three characters\n",
    "Write a program to create a new string made of the middle three characters of an input string.\n",
    "\n",
    "Given:\n",
    "\n",
    "Case 1\n",
    "\n",
    "str1 = \"JhonDipPeta\"\n",
    "Output\n",
    "\n",
    "Dip\n",
    "Case 2\n",
    "\n",
    "str2 = \"JaSonAy\"\n",
    "Output\n",
    "\n",
    "Son"
   ]
  },
  {
   "cell_type": "code",
   "execution_count": null,
   "id": "d46f2df4",
   "metadata": {},
   "outputs": [],
   "source": [
    "str1 = \"JhonDipPeta\"\n",
    "output = \"\"\n",
    "for i in "
   ]
  },
  {
   "cell_type": "raw",
   "id": "fc5f6c56",
   "metadata": {},
   "source": [
    "Exercise 2: Append new string in the middle of a given string\n",
    "Given two strings, s1 and s2. Write a program to create a new string s3 by appending s2 in the middle of s1.\n",
    "\n",
    "Given:\n",
    "\n",
    "s1 = \"Ault\"\n",
    "s2 = \"Kelly\"\n",
    "Expected Output:\n",
    "\n",
    "AuKellylt"
   ]
  },
  {
   "cell_type": "raw",
   "id": "a290999d",
   "metadata": {},
   "source": [
    "Exercise 3: Create a new string made of the first, middle, and last characters of each input string\n",
    "Given two strings, s1 and s2, write a program to return a new string made of s1 and s2’s first, middle, and last characters.\n",
    "\n",
    "Given:\n",
    "\n",
    "s1 = \"America\"\n",
    "s2 = \"Japan\"\n",
    "Expected Output:\n",
    "\n",
    "AJrpan"
   ]
  },
  {
   "cell_type": "raw",
   "id": "2fce82e8",
   "metadata": {},
   "source": [
    "Exercise 4: Arrange string characters such that lowercase letters should come first\n",
    "Given string contains a combination of the lower and upper case letters. Write a program to arrange the characters of a string so that all lowercase letters should come first.\n",
    "\n",
    "Given:\n",
    "\n",
    "str1 = PyNaTive\n",
    "Expected Output:\n",
    "\n",
    "yaivePNT"
   ]
  },
  {
   "cell_type": "raw",
   "id": "6f0b1176",
   "metadata": {},
   "source": [
    "Exercise 5: Count all letters, digits, and special symbols from a given string\n",
    "Given:\n",
    "\n",
    "str1 = \"P@#yn26at^&i5ve\"\n",
    "Expected Outcome:\n",
    "\n",
    "Total counts of chars, digits, and symbols \n",
    "\n",
    "Chars = 8 \n",
    "Digits = 3 \n",
    "Symbol = 4"
   ]
  },
  {
   "cell_type": "code",
   "execution_count": 122,
   "id": "7d9bde53",
   "metadata": {},
   "outputs": [
    {
     "name": "stdout",
     "output_type": "stream",
     "text": [
      "3\n",
      "4\n"
     ]
    }
   ],
   "source": [
    "str1 = \"P@#yn26at^&i5ve\"\n",
    "char = len(re.findall(r\"[a-zA-Z]\",str1))\n",
    "digits = len(re.findall(r\"[0-9]\",str1))\n",
    "print(digits)\n",
    "spe = len(re.findall(r\"[^a-zA-Z0-9]\",str1))\n",
    "print(spe)"
   ]
  },
  {
   "cell_type": "raw",
   "id": "c0431db4",
   "metadata": {},
   "source": [
    "Exercise 6: Create a mixed String using the following rules\n",
    "Given two strings, s1 and s2. Write a program to create a new string s3 made of the first char of s1, then the last char of s2, Next, the second char of s1 and second last char of s2, and so on. Any leftover chars go at the end of the result.\n",
    "\n",
    "Given:\n",
    "\n",
    "s1 = \"Abc\"\n",
    "s2 = \"Xyz\"\n",
    "Expected Output:\n",
    "\n",
    "AzbycX"
   ]
  },
  {
   "cell_type": "raw",
   "id": "c24f8e87",
   "metadata": {},
   "source": [
    "Exercise 7: String characters balance Test\n",
    "Write a program to check if two strings are balanced. For example, strings s1 and s2 are balanced if all the characters in the s1 are present in s2. The character’s position doesn’t matter.\n",
    "\n",
    "Given:\n",
    "\n",
    "Case 1:\n",
    "\n",
    "s1 = \"Yn\"\n",
    "s2 = \"PYnative\"\n",
    "Expected Output:\n",
    "\n",
    "True\n",
    "Case 2:\n",
    "\n",
    "s1 = \"Ynf\"\n",
    "s2 = \"PYnative\"\n",
    "Expected Output:\n",
    "\n",
    "False"
   ]
  },
  {
   "cell_type": "raw",
   "id": "f52e8a69",
   "metadata": {},
   "source": [
    "Exercise 8: Find all occurrences of a substring in a given string by ignoring the case\n",
    "Write a program to find all occurrences of “USA” in a given string ignoring the case.\n",
    "\n",
    "Given:\n",
    "\n",
    "str1 = \"Welcome to USA. usa awesome, isn't it?\"\n",
    "Expected Outcome:\n",
    "\n",
    "The USA count is: 2"
   ]
  },
  {
   "cell_type": "code",
   "execution_count": 111,
   "id": "d9690a0a",
   "metadata": {},
   "outputs": [
    {
     "data": {
      "text/plain": [
       "2"
      ]
     },
     "execution_count": 111,
     "metadata": {},
     "output_type": "execute_result"
    }
   ],
   "source": [
    "str1 = \"Welcome to USA. usa awesome, isn't it?\".lower().count(\"usa\")\n",
    "str1"
   ]
  },
  {
   "cell_type": "raw",
   "id": "46aa9cd8",
   "metadata": {},
   "source": [
    "Exercise 9: Calculate the sum and average of the digits present in a string\n",
    "Given a string s1, write a program to return the sum and average of the digits that appear in the string, ignoring all other characters.\n",
    "\n",
    "Given:\n",
    "\n",
    "str1 = \"PYnative29@#8496\"\n",
    "Expected Outcome:\n",
    "\n",
    "Sum is: 38 Average is  6.333333333333333"
   ]
  },
  {
   "cell_type": "code",
   "execution_count": 109,
   "id": "93b6cb55",
   "metadata": {},
   "outputs": [
    {
     "data": {
      "text/plain": [
       "38"
      ]
     },
     "execution_count": 109,
     "metadata": {},
     "output_type": "execute_result"
    }
   ],
   "source": [
    "str1 = \"PYnative29@#8496\"\n",
    "l = re.findall(r\"[0-9]\",str1)\n",
    "s = 0\n",
    "sum([int(i) for i in l]\n",
    ")"
   ]
  },
  {
   "cell_type": "code",
   "execution_count": 104,
   "id": "662a46f2",
   "metadata": {},
   "outputs": [
    {
     "data": {
      "text/plain": [
       "0"
      ]
     },
     "execution_count": 104,
     "metadata": {},
     "output_type": "execute_result"
    }
   ],
   "source": [
    "summ"
   ]
  },
  {
   "cell_type": "raw",
   "id": "4ea75523",
   "metadata": {},
   "source": [
    "Exercise 10: Write a program to count occurrences of all characters within a string\n",
    "Given:\n",
    "\n",
    "str1 = \"Apple\"\n",
    "Expected Outcome:\n",
    "\n",
    "{'A': 1, 'p': 2, 'l': 1, 'e': 1}"
   ]
  },
  {
   "cell_type": "raw",
   "id": "c88ef86f",
   "metadata": {},
   "source": [
    "Exercise 11: Reverse a given string\n",
    "Given:\n",
    "\n",
    "str1 = \"PYnative\"\n",
    "Expected Output:\n",
    "\n",
    "evitanYP"
   ]
  },
  {
   "cell_type": "raw",
   "id": "063c1438",
   "metadata": {},
   "source": [
    "Exercise 12: Find the last position of a given substring\n",
    "Write a program to find the last position of a substring “Emma” in a given string.\n",
    "\n",
    "Given:\n",
    "\n",
    "str1 = \"Emma is a data scientist who knows Python. Emma works at google.\"\n",
    "Expected Output:\n",
    "\n",
    "Last occurrence of Emma starts at index 43"
   ]
  },
  {
   "cell_type": "code",
   "execution_count": 98,
   "id": "2596c782",
   "metadata": {},
   "outputs": [
    {
     "data": {
      "text/plain": [
       "43"
      ]
     },
     "execution_count": 98,
     "metadata": {},
     "output_type": "execute_result"
    }
   ],
   "source": [
    "str1 = \"Emma is a data scientist who knows Python. Emma works at google.\"\n",
    "str1.rfind('Emma')"
   ]
  },
  {
   "cell_type": "raw",
   "id": "6e6a4429",
   "metadata": {},
   "source": [
    "Exercise 13: Split a string on hyphens\n",
    "Write a program to split a given string on hyphens and display each substring.\n",
    "\n",
    "Given:\n",
    "\n",
    "aExpected Output:\n",
    "\n",
    "Displaying each substring\n",
    "\n",
    "Emma\n",
    "is\n",
    "a\n",
    "data\n",
    "scientist"
   ]
  },
  {
   "cell_type": "code",
   "execution_count": 97,
   "id": "a73677a7",
   "metadata": {},
   "outputs": [
    {
     "name": "stdout",
     "output_type": "stream",
     "text": [
      "Emma\n",
      "is\n",
      "a\n",
      "data\n",
      "scientist\n"
     ]
    }
   ],
   "source": [
    "str1 = \"Emma-is-a-data-scientist\"\n",
    "for i in str1.split(\"-\"):\n",
    "    print(i)"
   ]
  },
  {
   "cell_type": "raw",
   "id": "ff2b370e",
   "metadata": {},
   "source": [
    "Exercise 14: Remove empty strings from a list of strings\n",
    "Given:\n",
    "\n",
    "str_list = [\"Emma\", \"Jon\", \"\", \"Kelly\", None, \"Eric\", \"\"]\n",
    "Expected Output:\n",
    "\n",
    "Original list of sting\n",
    "['Emma', 'Jon', '', 'Kelly', None, 'Eric', '']\n",
    "\n",
    "After removing empty strings\n",
    "['Emma', 'Jon', 'Kelly', 'Eric']"
   ]
  },
  {
   "cell_type": "code",
   "execution_count": 96,
   "id": "9f6acf43",
   "metadata": {},
   "outputs": [
    {
     "data": {
      "text/plain": [
       "['Emma', 'Jon', 'Kelly', 'Eric']"
      ]
     },
     "execution_count": 96,
     "metadata": {},
     "output_type": "execute_result"
    }
   ],
   "source": [
    "str_list = [\"Emma\", \"Jon\", \"\", \"Kelly\", None, \"Eric\", \"\"]\n",
    "[i for i in str_list if i!=\"\" and i!= None]"
   ]
  },
  {
   "cell_type": "raw",
   "id": "039b6c6d",
   "metadata": {},
   "source": [
    "Exercise 15: Remove special symbols / punctuation from a string\n",
    "Given:\n",
    "\n",
    "str1 = \"/*Jon is @developer & musician\"\n",
    "Expected Output:\n",
    "\n",
    "\"Jon is developer musician\""
   ]
  },
  {
   "cell_type": "code",
   "execution_count": 95,
   "id": "604f4c95",
   "metadata": {},
   "outputs": [
    {
     "data": {
      "text/plain": [
       "'Jon is developer musician'"
      ]
     },
     "execution_count": 95,
     "metadata": {},
     "output_type": "execute_result"
    }
   ],
   "source": [
    "str1 = \"/*Jon is @developer & musician\"\n",
    "\" \".join(re.findall(r\"[a-zA-Z]+\",str1))"
   ]
  },
  {
   "cell_type": "raw",
   "id": "2eb768a8",
   "metadata": {},
   "source": [
    "Exercise 16: Removal all characters from a string except integers\n",
    "Given:\n",
    "\n",
    "str1 = 'I am 25 years and 10 months old'\n",
    "Expected Output:\n",
    "\n",
    "2510"
   ]
  },
  {
   "cell_type": "code",
   "execution_count": 92,
   "id": "4ea5dc13",
   "metadata": {},
   "outputs": [
    {
     "data": {
      "text/plain": [
       "'2510'"
      ]
     },
     "execution_count": 92,
     "metadata": {},
     "output_type": "execute_result"
    }
   ],
   "source": [
    "import re\n",
    "\n",
    "str1 = 'I am 25 years and 10 months old'\n",
    "\"\".join(re.findall(r\"[0-9]+\",str1))"
   ]
  },
  {
   "cell_type": "code",
   "execution_count": 93,
   "id": "ca915322",
   "metadata": {},
   "outputs": [
    {
     "name": "stdout",
     "output_type": "stream",
     "text": [
      "2510"
     ]
    }
   ],
   "source": [
    "for i in str1.split():\n",
    "    if i.isnumeric():\n",
    "        print(i,end=\"\")"
   ]
  },
  {
   "cell_type": "raw",
   "id": "f1863f81",
   "metadata": {},
   "source": [
    "Exercise 17: Find words with both alphabets and numbers\n",
    "Write a program to find words with both alphabets and numbers from an input string.\n",
    "\n",
    "Given:\n",
    "\n",
    "str1 = \"Emma25 is Data scientist50 and AI Expert\"\n",
    "Expected Output:\n",
    "\n",
    "Emma25\n",
    "scientist50"
   ]
  },
  {
   "cell_type": "code",
   "execution_count": 87,
   "id": "bb84d610",
   "metadata": {},
   "outputs": [
    {
     "name": "stdout",
     "output_type": "stream",
     "text": [
      "Emma25\n",
      "scientist50\n"
     ]
    }
   ],
   "source": [
    "import re\n",
    "\n",
    "# Given string\n",
    "str1 = \"Emma25 is Data scientist50 and AI Expert\"\n",
    "\n",
    "# Split the string into words\n",
    "words = str1.split()\n",
    "\n",
    "# Find words that contain both alphabets and numbers\n",
    "result = [word for word in words if re.search(r'[A-Za-z]', word) and re.search(r'[0-9]', word)]\n",
    "\n",
    "# Print the result\n",
    "for word in result:\n",
    "    print(word)\n"
   ]
  },
  {
   "cell_type": "code",
   "execution_count": 83,
   "id": "03be9e0f",
   "metadata": {},
   "outputs": [
    {
     "name": "stdout",
     "output_type": "stream",
     "text": [
      "Emma25 is Data scientist50 and AI Expert "
     ]
    }
   ],
   "source": [
    "str1 = \"Emma25 is Data scientist50 and AI Expert\"\n",
    "for i in str1.split():\n",
    "    if i.isalnum():\n",
    "        print(i,end = \" \")"
   ]
  },
  {
   "cell_type": "raw",
   "id": "8c8bc93a",
   "metadata": {},
   "source": [
    "Exercise 18: Replace each special symbol with # in the following string\n",
    "Given:\n",
    "\n",
    "str1 = '/*Jon is @developer & musician!!'\n",
    "Expected Output:\n",
    "\n",
    "##Jon is #developer # musician##"
   ]
  },
  {
   "cell_type": "code",
   "execution_count": 80,
   "id": "55bf2bd0",
   "metadata": {},
   "outputs": [
    {
     "data": {
      "text/plain": [
       "'##Jon is #developer # musician##'"
      ]
     },
     "execution_count": 80,
     "metadata": {},
     "output_type": "execute_result"
    }
   ],
   "source": [
    "str1 = '/*Jon is @developer & musician!!'\n",
    "output = \"\"\n",
    "for i in str1:\n",
    "    if not i.isalpha() and not i.isspace():\n",
    "        output+= \"#\"\n",
    "    else:\n",
    "        output+= i\n",
    "output"
   ]
  },
  {
   "cell_type": "markdown",
   "id": "7c900b48",
   "metadata": {},
   "source": [
    "## Tuple"
   ]
  },
  {
   "cell_type": "raw",
   "id": "d05982d3",
   "metadata": {},
   "source": [
    "Exercise 1: Reverse the tuple\n",
    "Given:\n",
    "\n",
    "tuple1 = (10, 20, 30, 40, 50)\n",
    "Expected output:\n",
    "\n",
    "(50, 40, 30, 20, 10)"
   ]
  },
  {
   "cell_type": "code",
   "execution_count": 78,
   "id": "eedc645a",
   "metadata": {},
   "outputs": [
    {
     "data": {
      "text/plain": [
       "(50, 40, 30, 20, 10)"
      ]
     },
     "execution_count": 78,
     "metadata": {},
     "output_type": "execute_result"
    }
   ],
   "source": [
    "tuple1 = (10, 20, 30, 40, 50)\n",
    "tuple1[::-1]"
   ]
  },
  {
   "cell_type": "raw",
   "id": "652b908e",
   "metadata": {},
   "source": [
    "Exercise 2: Access value 20 from the tuple\n",
    "The given tuple is a nested tuple. write a Python program to print the value 20.\n",
    "\n",
    "Given:\n",
    "\n",
    "tuple1 = (\"Orange\", [10, 20, 30], (5, 15, 25))\n",
    "Expected output:\n",
    "\n",
    "20"
   ]
  },
  {
   "cell_type": "code",
   "execution_count": null,
   "id": "a3734e27",
   "metadata": {},
   "outputs": [],
   "source": []
  },
  {
   "cell_type": "raw",
   "id": "de8dcade",
   "metadata": {},
   "source": [
    "Exercise 3: Create a tuple with single item 50\n",
    "Show Solution\n",
    "tuple1= (50, )\n",
    "print(tuple1)"
   ]
  },
  {
   "cell_type": "code",
   "execution_count": null,
   "id": "57922a1e",
   "metadata": {},
   "outputs": [],
   "source": []
  },
  {
   "cell_type": "raw",
   "id": "88142ce2",
   "metadata": {},
   "source": [
    "Exercise 4: Unpack the tuple into 4 variables\n",
    "Write a program to unpack the following tuple into four variables and display each variable.\n",
    "\n",
    "Given:\n",
    "\n",
    "tuple1 = (10, 20, 30, 40)\n",
    "Expected output:\n",
    "\n",
    "tuple1 = (10, 20, 30, 40)\n",
    "# Your code\n",
    "print(a) # should print 10\n",
    "print(b) # should print 20\n",
    "print(c) # should print 30\n",
    "print(d) # should print 40"
   ]
  },
  {
   "cell_type": "code",
   "execution_count": null,
   "id": "7e4e5516",
   "metadata": {},
   "outputs": [],
   "source": []
  },
  {
   "cell_type": "raw",
   "id": "bd49965b",
   "metadata": {},
   "source": [
    "Exercise 5: Swap two tuples in Python\n",
    "Given:\n",
    "\n",
    "tuple1 = (11, 22)\n",
    "tuple2 = (99, 88)\n",
    "Expected output:\n",
    "\n",
    "tuple1: (99, 88)\n",
    "tuple2: (11, 22)\n"
   ]
  },
  {
   "cell_type": "code",
   "execution_count": 76,
   "id": "9d6afcd7",
   "metadata": {},
   "outputs": [],
   "source": [
    "tuple1 = (11, 22)\n",
    "tuple2 = (99, 88)\n",
    "tuple2,tuple1 = tuple1,tuple2"
   ]
  },
  {
   "cell_type": "code",
   "execution_count": 77,
   "id": "4c2e8e45",
   "metadata": {},
   "outputs": [
    {
     "data": {
      "text/plain": [
       "(99, 88)"
      ]
     },
     "execution_count": 77,
     "metadata": {},
     "output_type": "execute_result"
    }
   ],
   "source": [
    "tuple1"
   ]
  },
  {
   "cell_type": "raw",
   "id": "2b847adc",
   "metadata": {},
   "source": [
    "Exercise 6: Copy specific elements from one tuple to a new tuple\n",
    "Write a program to copy elements 44 and 55 from the following tuple into a new tuple.\n",
    "\n",
    "Given:\n",
    "\n",
    "tuple1 = (11, 22, 33, 44, 55, 66)\n",
    "Expected output:\n",
    "\n",
    "tuple2: (44, 55)"
   ]
  },
  {
   "cell_type": "code",
   "execution_count": 75,
   "id": "aa7d018c",
   "metadata": {},
   "outputs": [
    {
     "data": {
      "text/plain": [
       "(44, 55)"
      ]
     },
     "execution_count": 75,
     "metadata": {},
     "output_type": "execute_result"
    }
   ],
   "source": [
    "tuple1 = (11, 22, 33, 44, 55, 66)\n",
    "tuple1[3:5]"
   ]
  },
  {
   "cell_type": "raw",
   "id": "d0d72bcb",
   "metadata": {},
   "source": [
    "Exercise 7: Modify the tuple\n",
    "Given is a nested tuple. Write a program to modify the first item (22) of a list inside a following tuple to 222\n",
    "\n",
    "Given:\n",
    "\n",
    "tuple1 = (11, [22, 33], 44, 55)\n",
    "Expected output:\n",
    "\n",
    "tuple1: (11, [222, 33], 44, 55)"
   ]
  },
  {
   "cell_type": "code",
   "execution_count": 73,
   "id": "50d24d3a",
   "metadata": {},
   "outputs": [],
   "source": [
    "tuple1 = (11, [22, 33], 44, 55)\n",
    "tuple1[1][0] = 222\n",
    "        "
   ]
  },
  {
   "cell_type": "raw",
   "id": "15748581",
   "metadata": {},
   "source": [
    "Exercise 8: Sort a tuple of tuples by 2nd item\n",
    "Given:\n",
    "\n",
    "tuple1 = (('a', 23),('b', 37),('c', 11), ('d',29))\n",
    "Expected output:\n",
    "\n",
    "(('c', 11), ('a', 23), ('d', 29), ('b', 37))"
   ]
  },
  {
   "cell_type": "code",
   "execution_count": 64,
   "id": "abc9f0a5",
   "metadata": {},
   "outputs": [
    {
     "data": {
      "text/plain": [
       "[('c', 11), ('a', 23), ('d', 29), ('b', 37)]"
      ]
     },
     "execution_count": 64,
     "metadata": {},
     "output_type": "execute_result"
    }
   ],
   "source": [
    "tuple1 = (('a', 23),('b', 37),('c', 11), ('d',29))\n",
    "sorted(tuple1,key=lambda x :x[1])"
   ]
  },
  {
   "cell_type": "raw",
   "id": "472fd471",
   "metadata": {},
   "source": [
    "Exercise 9: Counts the number of occurrences of item 50 from a tuple\n",
    "Given:\n",
    "\n",
    "tuple1 = (50, 10, 60, 70, 50)\n",
    "Expected output:\n",
    "\n",
    "2"
   ]
  },
  {
   "cell_type": "code",
   "execution_count": 63,
   "id": "df4b4a77",
   "metadata": {},
   "outputs": [
    {
     "data": {
      "text/plain": [
       "2"
      ]
     },
     "execution_count": 63,
     "metadata": {},
     "output_type": "execute_result"
    }
   ],
   "source": [
    "tuple1 = (50, 10, 60, 70, 50)\n",
    "tuple1.count(50)"
   ]
  },
  {
   "cell_type": "code",
   "execution_count": null,
   "id": "3f00b93a",
   "metadata": {},
   "outputs": [],
   "source": []
  },
  {
   "cell_type": "raw",
   "id": "7655d26c",
   "metadata": {},
   "source": [
    "Exercise 10: Check if all items in the tuple are the same\n",
    "tuple1 = (45, 45, 45, 45)\n",
    "Expected output:\n",
    "\n",
    "True"
   ]
  },
  {
   "cell_type": "code",
   "execution_count": 62,
   "id": "661812ad",
   "metadata": {},
   "outputs": [
    {
     "name": "stdout",
     "output_type": "stream",
     "text": [
      "True\n"
     ]
    }
   ],
   "source": [
    "tuple1 = (45, 45, 45, 45)\n",
    "if len(set(tuple1)) == 1:\n",
    "    print(True)\n",
    "else:\n",
    "    print(False)"
   ]
  },
  {
   "cell_type": "markdown",
   "id": "4d9e3152",
   "metadata": {},
   "source": [
    "## Loop "
   ]
  },
  {
   "cell_type": "raw",
   "id": "64e39d96",
   "metadata": {},
   "source": [
    "Exercise 1: Print first 10 natural numbers using while loop\n",
    "Help: while loop in Python\n",
    "\n",
    "Expected output:\n",
    "\n",
    "1\n",
    "2\n",
    "3\n",
    "4\n",
    "5\n",
    "6\n",
    "7\n",
    "8\n",
    "9\n",
    "10"
   ]
  },
  {
   "cell_type": "code",
   "execution_count": 56,
   "id": "91d3fc30",
   "metadata": {},
   "outputs": [
    {
     "name": "stdout",
     "output_type": "stream",
     "text": [
      "1\n",
      "2\n",
      "3\n",
      "4\n",
      "5\n",
      "6\n",
      "7\n",
      "8\n",
      "9\n",
      "10\n"
     ]
    }
   ],
   "source": [
    "digit = 0\n",
    "while digit != 10:\n",
    "    digit += 1\n",
    "    print(digit)"
   ]
  },
  {
   "cell_type": "code",
   "execution_count": null,
   "id": "01709867",
   "metadata": {},
   "outputs": [],
   "source": []
  },
  {
   "cell_type": "raw",
   "id": "c87a1483",
   "metadata": {},
   "source": [
    "Exercise 2: Print the following pattern\n",
    "Write a Python code to print the following number pattern using a loop.\n",
    "\n",
    "1 \n",
    "1 2 \n",
    "1 2 3 \n",
    "1 2 3 4 \n",
    "1 2 3 4 5"
   ]
  },
  {
   "cell_type": "code",
   "execution_count": 54,
   "id": "c2c7d57b",
   "metadata": {},
   "outputs": [
    {
     "name": "stdout",
     "output_type": "stream",
     "text": [
      "1 \n",
      "1 2 \n",
      "1 2 3 \n",
      "1 2 3 4 \n",
      "1 2 3 4 5 \n"
     ]
    }
   ],
   "source": [
    "n = 5\n",
    "for i in range(1,n+1):\n",
    "    for j in range(1,i+1):\n",
    "        print(j,end=\" \")\n",
    "    print()"
   ]
  },
  {
   "cell_type": "raw",
   "id": "a42f97c7",
   "metadata": {},
   "source": [
    "Exercise 3: Calculate sum of all numbers from 1 to a given number\n",
    "Write a Python program to accept a number from a user and calculate the sum of all numbers from 1 to a given number\n",
    "\n",
    "For example, if the user entered 10, the output should be 55 (1+2+3+4+5+6+7+8+9+10)\n",
    "\n",
    "Expected Output:\n",
    "\n",
    "Enter number 10\n",
    "Sum is:  55"
   ]
  },
  {
   "cell_type": "code",
   "execution_count": 52,
   "id": "4be4de90",
   "metadata": {},
   "outputs": [
    {
     "data": {
      "text/plain": [
       "55.0"
      ]
     },
     "execution_count": 52,
     "metadata": {},
     "output_type": "execute_result"
    }
   ],
   "source": [
    "n = 10\n",
    "summ = (n*(n+1))/2\n",
    "summ"
   ]
  },
  {
   "cell_type": "code",
   "execution_count": null,
   "id": "5cd146e0",
   "metadata": {},
   "outputs": [],
   "source": []
  },
  {
   "cell_type": "raw",
   "id": "bae52035",
   "metadata": {},
   "source": [
    "Exercise 4: Print multiplication table of a given number\n",
    "Given:\n",
    "\n",
    "num = 2\n",
    "Expected output is:\n",
    "\n",
    "2\n",
    "4\n",
    "6\n",
    "8\n",
    "10\n",
    "12\n",
    "14\n",
    "16\n",
    "18\n",
    "20"
   ]
  },
  {
   "cell_type": "raw",
   "id": "5eaffa65",
   "metadata": {},
   "source": [
    "Exercise 5: Display numbers from a list using a loop\n",
    "Write a Python program to display only those numbers from a list that satisfy the following conditions\n",
    "\n",
    "The number must be divisible by five\n",
    "If the number is greater than 150, then skip it and move to the following number\n",
    "If the number is greater than 500, then stop the loop\n",
    "Given:\n",
    "\n",
    "numbers = [12, 75, 150, 180, 145, 525, 50]\n",
    "Expected output:\n",
    "\n",
    "75\n",
    "150\n",
    "145"
   ]
  },
  {
   "cell_type": "code",
   "execution_count": null,
   "id": "b7b8d27e",
   "metadata": {},
   "outputs": [],
   "source": []
  },
  {
   "cell_type": "raw",
   "id": "f26e768f",
   "metadata": {},
   "source": [
    "Exercise 6: Count the total number of digits in a number\n",
    "Write a Python program to count the total number of digits in a number using a while loop.\n",
    "\n",
    "For example, the number is 75869, so the output should be 5."
   ]
  },
  {
   "cell_type": "code",
   "execution_count": 50,
   "id": "dfd91d7f",
   "metadata": {},
   "outputs": [
    {
     "data": {
      "text/plain": [
       "5"
      ]
     },
     "execution_count": 50,
     "metadata": {},
     "output_type": "execute_result"
    }
   ],
   "source": [
    "digit = 75869\n",
    "count = 0\n",
    "while digit != 0:\n",
    "    count += 1\n",
    "    digit //=10\n",
    "count"
   ]
  },
  {
   "cell_type": "raw",
   "id": "abdbb72b",
   "metadata": {},
   "source": [
    "Exercise 7: Print the following pattern\n",
    "Write a Python program to print the reverse number pattern using a for loop.\n",
    "\n",
    "5 4 3 2 1 \n",
    "4 3 2 1 \n",
    "3 2 1 \n",
    "2 1 \n",
    "1"
   ]
  },
  {
   "cell_type": "code",
   "execution_count": 49,
   "id": "c7e57629",
   "metadata": {},
   "outputs": [
    {
     "name": "stdout",
     "output_type": "stream",
     "text": [
      "5 4 3 2 1 \n",
      "4 3 2 1 \n",
      "3 2 1 \n",
      "2 1 \n",
      "1 \n",
      "\n"
     ]
    }
   ],
   "source": [
    "n = 5\n",
    "for _ in range(n+1,0,-1):\n",
    "    for j in range(_-1,0,-1):\n",
    "        print(j,end = \" \")\n",
    "    print()"
   ]
  },
  {
   "cell_type": "raw",
   "id": "a9110c7b",
   "metadata": {},
   "source": [
    "Exercise 8: Print list in reverse order using a loop\n",
    "Given:\n",
    "\n",
    "list1 = [10, 20, 30, 40, 50]\n",
    "Expected output:\n",
    "\n",
    "50\n",
    "40\n",
    "30\n",
    "20\n",
    "10"
   ]
  },
  {
   "cell_type": "raw",
   "id": "336fb792",
   "metadata": {},
   "source": [
    "Exercise 9: Display numbers from -10 to -1 using for loop\n",
    "Expected output:\n",
    "\n",
    "-10\n",
    "-9\n",
    "-8\n",
    "-7\n",
    "-6\n",
    "-5\n",
    "-4\n",
    "-3\n",
    "-2\n",
    "-1"
   ]
  },
  {
   "cell_type": "code",
   "execution_count": 45,
   "id": "3f7a5f35",
   "metadata": {},
   "outputs": [
    {
     "name": "stdout",
     "output_type": "stream",
     "text": [
      "-10\n",
      "-9\n",
      "-8\n",
      "-7\n",
      "-6\n",
      "-5\n",
      "-4\n",
      "-3\n",
      "-2\n",
      "-1\n"
     ]
    }
   ],
   "source": [
    "for i in range(-10,0):\n",
    "    print(i)"
   ]
  },
  {
   "cell_type": "raw",
   "id": "2e88e5cc",
   "metadata": {},
   "source": [
    "Exercise 10: Display a message “Done” after the successful execution of the for loop\n",
    "For example, the following loop will execute without any error.\n",
    "\n",
    "Given:\n",
    "\n",
    "for i in range(5):\n",
    "    print(i)\n",
    "Expected output:\n",
    "\n",
    "0\n",
    "1\n",
    "2\n",
    "3\n",
    "4\n",
    "Done!"
   ]
  },
  {
   "cell_type": "code",
   "execution_count": null,
   "id": "f06dd54b",
   "metadata": {},
   "outputs": [],
   "source": []
  },
  {
   "cell_type": "code",
   "execution_count": null,
   "id": "a9736934",
   "metadata": {},
   "outputs": [],
   "source": []
  },
  {
   "cell_type": "raw",
   "id": "2208ac5a",
   "metadata": {},
   "source": [
    "Exercise 11: Print all prime numbers within a range\n",
    "Note: A Prime Number is a number that cannot be made by multiplying other whole numbers. A prime number is a natural number greater than 1 that is not a product of two smaller natural numbers.\n",
    "\n",
    "Examples:\n",
    "\n",
    "6 is not a prime number because it can be made by 2×3 = 6\n",
    "37 is a prime number because no other whole numbers multiply to make it.\n",
    "Given:\n",
    "\n",
    "# range\n",
    "start = 25\n",
    "end = 50\n",
    "Expected output:\n",
    "\n",
    "Prime numbers between 25 and 50 are:\n",
    "29\n",
    "31\n",
    "37\n",
    "41\n",
    "43\n",
    "47"
   ]
  },
  {
   "cell_type": "code",
   "execution_count": 41,
   "id": "09db6a53",
   "metadata": {},
   "outputs": [
    {
     "name": "stdout",
     "output_type": "stream",
     "text": [
      "Prime numbers between 25 and 50 are:\n",
      "29\n",
      "31\n",
      "37\n",
      "41\n",
      "43\n",
      "47\n"
     ]
    }
   ],
   "source": [
    "# Function to check if a number is prime\n",
    "def is_prime(num):\n",
    "    if num < 2:\n",
    "        return False\n",
    "    for i in range(2, int(num**0.5) + 1):\n",
    "        if num % i == 0:\n",
    "            return False\n",
    "    return True\n",
    "\n",
    "# Range values\n",
    "start = 25\n",
    "end = 50\n",
    "\n",
    "print(f\"Prime numbers between {start} and {end} are:\")\n",
    "\n",
    "# Loop through the range and check for primes\n",
    "for num in range(start, end + 1):\n",
    "    if is_prime(num):\n",
    "        print(num)\n"
   ]
  },
  {
   "cell_type": "raw",
   "id": "18e0e6e7",
   "metadata": {},
   "source": [
    "Exercise 12: Display Fibonacci series up to 10 terms\n",
    "Have you ever wondered about the Fibonacci Sequence? It’s a series of numbers in which the next number is found by adding up the two numbers before it. The first two numbers are 0 and 1.\n",
    "\n",
    "For example, 0, 1, 1, 2, 3, 5, 8, 13, 21. The next number in this series is 13 + 21 = 34.\n",
    "\n",
    "Expected output:\n",
    "\n",
    "Fibonacci sequence:\n",
    "0  1  1  2  3  5  8  13  21  34"
   ]
  },
  {
   "cell_type": "code",
   "execution_count": 39,
   "id": "e168e0fe",
   "metadata": {},
   "outputs": [
    {
     "name": "stdout",
     "output_type": "stream",
     "text": [
      "0 1\n",
      "1 2 3 5 8 13 21 34 "
     ]
    }
   ],
   "source": [
    "a,b = 0,1\n",
    "print(f\"{a} {b}\")\n",
    "for i in range(2,10):\n",
    "    print(a+b,end=\" \")\n",
    "    c = a+b\n",
    "    a = b\n",
    "    b = c"
   ]
  },
  {
   "cell_type": "raw",
   "id": "7454a586",
   "metadata": {},
   "source": [
    "Exercise 13: Find the factorial of a given number\n",
    "Write a Python program to use for loop to find the factorial of a given number.\n",
    "\n",
    "The factorial (symbol: !) means multiplying all numbers from the chosen number down to 1.\n",
    "\n",
    "For example, a factorial of 5! is 5 × 4 × 3 × 2 × 1 = 120\n",
    "\n",
    "Expected output:\n",
    "\n",
    "120"
   ]
  },
  {
   "cell_type": "code",
   "execution_count": null,
   "id": "cc711b59",
   "metadata": {},
   "outputs": [],
   "source": []
  },
  {
   "cell_type": "code",
   "execution_count": null,
   "id": "1e27b508",
   "metadata": {},
   "outputs": [],
   "source": []
  },
  {
   "cell_type": "raw",
   "id": "ad6f86a0",
   "metadata": {},
   "source": [
    "Exercise 14: Reverse a integer number\n",
    "Given:\n",
    "\n",
    "76542\n",
    "\n",
    "Expected output:\n",
    "\n",
    "24567"
   ]
  },
  {
   "cell_type": "code",
   "execution_count": 36,
   "id": "d4c94eea",
   "metadata": {},
   "outputs": [
    {
     "data": {
      "text/plain": [
       "24567"
      ]
     },
     "execution_count": 36,
     "metadata": {},
     "output_type": "execute_result"
    }
   ],
   "source": [
    "no = 76542\n",
    "c = no\n",
    "res = 0\n",
    "while c!= 0:\n",
    "    res = res*10 + c%10\n",
    "    c//=10\n",
    "res"
   ]
  },
  {
   "cell_type": "code",
   "execution_count": null,
   "id": "0d8e1ffa",
   "metadata": {},
   "outputs": [],
   "source": []
  },
  {
   "cell_type": "raw",
   "id": "c529fcc8",
   "metadata": {},
   "source": [
    "Exercise 15: Print elements from a given list present at odd index positions\n",
    "Given:\n",
    "\n",
    "my_list = [10, 20, 30, 40, 50, 60, 70, 80, 90, 100]\n",
    "Note: The list index always starts at 0\n",
    "\n",
    "Expected output:\n",
    "\n",
    "20 40 60 80 100"
   ]
  },
  {
   "cell_type": "code",
   "execution_count": 35,
   "id": "b3eaf1bb",
   "metadata": {},
   "outputs": [
    {
     "name": "stdout",
     "output_type": "stream",
     "text": [
      "20 40 60 80 100 "
     ]
    }
   ],
   "source": [
    "my_list = [10, 20, 30, 40, 50, 60, 70, 80, 90, 100]\n",
    "for i in my_list[1::2]:\n",
    "    print(i,end=\" \")"
   ]
  },
  {
   "cell_type": "raw",
   "id": "7035f31d",
   "metadata": {},
   "source": [
    "Exercise 16: Calculate the cube of all numbers from 1 to a given number\n",
    "Write a Python program to print the cube of all numbers from 1 to a given number\n",
    "\n",
    "Given:\n",
    "\n",
    "input_number = 6\n",
    "\n",
    "Expected output:\n",
    "\n",
    "Current Number is : 1  and the cube is 1\n",
    "Current Number is : 2  and the cube is 8\n",
    "Current Number is : 3  and the cube is 27\n",
    "Current Number is : 4  and the cube is 64\n",
    "Current Number is : 5  and the cube is 125\n",
    "Current Number is : 6  and the cube is 216"
   ]
  },
  {
   "cell_type": "code",
   "execution_count": 31,
   "id": "876185ab",
   "metadata": {},
   "outputs": [
    {
     "name": "stdout",
     "output_type": "stream",
     "text": [
      "Current Number is : 1  and the cube is 1\n",
      "Current Number is : 2  and the cube is 8\n",
      "Current Number is : 3  and the cube is 27\n",
      "Current Number is : 4  and the cube is 64\n",
      "Current Number is : 5  and the cube is 125\n",
      "Current Number is : 6  and the cube is 216\n"
     ]
    }
   ],
   "source": [
    "input_number = 6\n",
    "for i in range(1,input_number+1):\n",
    "    print(f\"Current Number is : {i}  and the cube is {i**3}\")"
   ]
  },
  {
   "cell_type": "raw",
   "id": "2f35568d",
   "metadata": {},
   "source": [
    "Exercise 17: Find the sum of the series up to n terms\n",
    "Write a program to calculate the sum of series up to n terms. For example, if n = 5 the series will become 2 + 22 + 222 + 2222 + 22222 = 24690\n",
    "\n",
    "Given:\n",
    "\n",
    "# number of terms\n",
    "n = 5\n",
    "Expected output:\n",
    "\n",
    "24690"
   ]
  },
  {
   "cell_type": "code",
   "execution_count": 27,
   "id": "70ddc480",
   "metadata": {},
   "outputs": [
    {
     "data": {
      "text/plain": [
       "24690"
      ]
     },
     "execution_count": 27,
     "metadata": {},
     "output_type": "execute_result"
    }
   ],
   "source": [
    "n = 5\n",
    "digit = 2\n",
    "s = 0\n",
    "final = 0\n",
    "for _ in range(5):\n",
    "    s =  s*10+digit\n",
    "    final += s\n",
    "final"
   ]
  },
  {
   "cell_type": "code",
   "execution_count": null,
   "id": "9c82326d",
   "metadata": {},
   "outputs": [],
   "source": []
  },
  {
   "cell_type": "raw",
   "id": "d2f5b55f",
   "metadata": {},
   "source": [
    "Exercise 18: Print the following pattern\n",
    "Write a program to print the following start pattern using the for loop\n",
    "\n",
    "* \n",
    "* * \n",
    "* * * \n",
    "* * * * \n",
    "* * * * * \n",
    "* * * * \n",
    "* * * \n",
    "* * \n",
    "*"
   ]
  },
  {
   "cell_type": "code",
   "execution_count": 18,
   "id": "753e4be5",
   "metadata": {},
   "outputs": [
    {
     "name": "stdout",
     "output_type": "stream",
     "text": [
      "* \n",
      "* * \n",
      "* * * \n",
      "* * * * \n",
      "* * * * * \n",
      "* * * * \n",
      "* * * \n",
      "* * \n",
      "* \n"
     ]
    }
   ],
   "source": [
    "n = 5\n",
    "for i in range(1,n+1):\n",
    "    print(\"* \"*i)\n",
    "for j in range(n-1,0,-1):\n",
    "    print(\"* \"*j)"
   ]
  },
  {
   "cell_type": "raw",
   "id": "0327436c",
   "metadata": {},
   "source": [
    "Write a function that takes a string and returns the first non-repeating character. For example, in the string \"swiss\", the function should return 'w'."
   ]
  },
  {
   "cell_type": "code",
   "execution_count": 3,
   "id": "7a50de54-4d40-43bb-a728-2a0da3c082f9",
   "metadata": {},
   "outputs": [
    {
     "data": {
      "text/plain": [
       "'w'"
      ]
     },
     "execution_count": 3,
     "metadata": {},
     "output_type": "execute_result"
    }
   ],
   "source": [
    "str1 = 'swiss'\n",
    "def non_reapeat(str1):\n",
    "    for i in str1:\n",
    "        if str1.count(i) ==1:\n",
    "            return i\n",
    "    return False\n",
    "non_reapeat(str1)"
   ]
  },
  {
   "cell_type": "raw",
   "id": "42ee5969",
   "metadata": {},
   "source": [
    "Given a list of integers, write a function that returns a dictionary where the keys are the integers from the list and the values are the counts of those integers. For example, for the input [1, 2, 2, 3, 1], the output should be {1: 2, 2: 2, 3: 1}."
   ]
  },
  {
   "cell_type": "code",
   "execution_count": 4,
   "id": "6e04ba13-300a-43aa-a072-330da3bd02eb",
   "metadata": {},
   "outputs": [
    {
     "data": {
      "text/plain": [
       "{1: 2, 2: 2, 3: 1}"
      ]
     },
     "execution_count": 4,
     "metadata": {},
     "output_type": "execute_result"
    }
   ],
   "source": [
    "lst =  [1, 2, 2, 3, 1]\n",
    "{i: lst.count(i) for i in lst}"
   ]
  },
  {
   "cell_type": "raw",
   "id": "d1ba9a91",
   "metadata": {},
   "source": [
    "Write a function that returns the nth Fibonacci number using an iterative approach."
   ]
  },
  {
   "cell_type": "code",
   "execution_count": 10,
   "id": "ca35eeb6-7450-4818-a27a-0882bcbec8d1",
   "metadata": {},
   "outputs": [
    {
     "data": {
      "text/plain": [
       "[0, 1, 1, 2, 3, 5, 8, 13, 21, 34]"
      ]
     },
     "execution_count": 10,
     "metadata": {},
     "output_type": "execute_result"
    }
   ],
   "source": [
    "f = [0,1]\n",
    "no = 10\n",
    "while len(f) != no:\n",
    "    s =f[-1]+f[-2]\n",
    "    f.append(s)\n",
    "f"
   ]
  },
  {
   "cell_type": "raw",
   "id": "3dbc3c0d",
   "metadata": {},
   "source": [
    "Implement a function that sorts a list of dictionaries based on a specified key. For example, given the list [{'name': 'John', 'age': 25}, {'name': 'Jane', 'age': 20}], sort by 'age'."
   ]
  },
  {
   "cell_type": "code",
   "execution_count": 18,
   "id": "a2adc4a4-6e05-4143-a17f-9d92131cb0e7",
   "metadata": {},
   "outputs": [
    {
     "data": {
      "text/plain": [
       "[{'name': 'John', 'age': 25}, {'name': 'Jane', 'age': 20}]"
      ]
     },
     "execution_count": 18,
     "metadata": {},
     "output_type": "execute_result"
    }
   ],
   "source": [
    "lst = [{'name': 'John', 'age': 25}, {'name': 'Jane', 'age': 20}]\n",
    "\n",
    "sorted(lst,key = lambda x : x[\"age\"],reverse=True)"
   ]
  },
  {
   "cell_type": "raw",
   "id": "2e48d68e",
   "metadata": {},
   "source": [
    "Create a function that checks whether a given string is a palindrome (reads the same backward as forward), ignoring spaces and punctuation."
   ]
  },
  {
   "cell_type": "code",
   "execution_count": 20,
   "id": "9ccb0e91-d8ee-4511-a23e-4f05786b3a65",
   "metadata": {},
   "outputs": [
    {
     "data": {
      "text/plain": [
       "'Palindrome'"
      ]
     },
     "execution_count": 20,
     "metadata": {},
     "output_type": "execute_result"
    }
   ],
   "source": [
    "str1 = \"sas\"\n",
    "\n",
    "\"Palindrome\" if str1 == str1[::-1] else \"Not Palindrome\""
   ]
  },
  {
   "cell_type": "raw",
   "id": "322c060e",
   "metadata": {},
   "source": [
    "Write a function that checks if a number is prime. The function should return True if the number is prime and False otherwise."
   ]
  },
  {
   "cell_type": "code",
   "execution_count": 28,
   "id": "e9b3dd14-5271-44af-81fa-1d91ab6a2453",
   "metadata": {},
   "outputs": [
    {
     "data": {
      "text/plain": [
       "'Not prime'"
      ]
     },
     "execution_count": 28,
     "metadata": {},
     "output_type": "execute_result"
    }
   ],
   "source": [
    "def check_prime(no = 6):\n",
    "    if no <= 2 and no >= 0:\n",
    "        return \"Not prime\"\n",
    "    else:\n",
    "        for i in range(2,int(no**0.5)+1):\n",
    "            if no%i == 0:\n",
    "                return \"Not prime\"\n",
    "        return \"Prime\"\n",
    "check_prime()"
   ]
  },
  {
   "cell_type": "raw",
   "id": "36a29faf",
   "metadata": {},
   "source": [
    "Given a list of integers and a target sum, write a function that returns the indices of the two numbers that add up to the target. You may assume that each input would have exactly one solution."
   ]
  },
  {
   "cell_type": "code",
   "execution_count": 38,
   "id": "da086ded-9e84-4721-8acb-fa9e7af501bb",
   "metadata": {},
   "outputs": [],
   "source": [
    "lst = [1,2,3,4,5,6,7,8,9]\n",
    "target = 9\n",
    "dic = dict()\n",
    "l = []\n",
    "for idx,no in enumerate(lst):\n",
    "    diff = target - no\n",
    "    if diff in dic:\n",
    "        l.append((dic[diff],idx))\n",
    "        break\n",
    "    dic[no] = idx"
   ]
  },
  {
   "cell_type": "raw",
   "id": "4ecc60c8",
   "metadata": {},
   "source": [
    "Given a list of intervals (each represented as a list of two integers), write a function to merge overlapping intervals. For example, [[1,3],[2,6],[8,10],[15,18]] should return [[1,6],[8,10],[15,18]]."
   ]
  },
  {
   "cell_type": "code",
   "execution_count": null,
   "id": "2b5ae25c-ffc4-4298-9a1d-1feffe96486c",
   "metadata": {},
   "outputs": [],
   "source": [
    "lst = [[1,3],[2,6],[8,10],[15,18]]\n"
   ]
  },
  {
   "cell_type": "raw",
   "id": "8a4e680d",
   "metadata": {},
   "source": [
    "Create a function that checks if two strings are anagrams of each other. For example, \"listen\" and \"silent\" are anagrams."
   ]
  },
  {
   "cell_type": "code",
   "execution_count": 44,
   "id": "3328aa99-2f2b-4d74-a650-7d25d12764ac",
   "metadata": {},
   "outputs": [
    {
     "data": {
      "text/plain": [
       "'anagrams'"
      ]
     },
     "execution_count": 44,
     "metadata": {},
     "output_type": "execute_result"
    }
   ],
   "source": [
    "str1 = \"listen\"\n",
    "str2 = \"silent\"\n",
    "\"anagrams\" if sorted(str1) == sorted(str2) else \"Non anagrams\""
   ]
  },
  {
   "cell_type": "raw",
   "id": "58f87853",
   "metadata": {},
   "source": [
    "Write a function that takes a string and returns the count of vowels (a, e, i, o, u) in it, both uppercase and lowercase."
   ]
  },
  {
   "cell_type": "raw",
   "id": "48f8a415",
   "metadata": {},
   "source": [
    "Write a function that checks if a string of parentheses is balanced. For example, \"(())\" is balanced, while \")(\" is not."
   ]
  },
  {
   "cell_type": "raw",
   "id": "ffcde892",
   "metadata": {},
   "source": []
  },
  {
   "cell_type": "code",
   "execution_count": 51,
   "id": "ad8fc03e-fc15-4faf-83e5-4f106893cbfe",
   "metadata": {},
   "outputs": [
    {
     "name": "stdout",
     "output_type": "stream",
     "text": [
      "balanced\n"
     ]
    }
   ],
   "source": [
    "par =  \"(())\"\n",
    "dic = {\"(\":\")\",\"[\":\"]\",\"{\":\"}\"}\n",
    "stack = []\n",
    "for i in par:\n",
    "    if i in dic.keys():\n",
    "        stack.append(i)\n",
    "    elif i in dic.values():\n",
    "        if not stack or dic[stack.pop()] != i:\n",
    "            print(\"not balance \")\n",
    "            break\n",
    "else:\n",
    "    if not stack:\n",
    "        print(\"balanced\")\n",
    "    else :\n",
    "        print('not balance')"
   ]
  },
  {
   "cell_type": "code",
   "execution_count": 48,
   "id": "ecd6050c-44d9-41eb-8ea7-acd28ca7e54f",
   "metadata": {},
   "outputs": [
    {
     "name": "stdout",
     "output_type": "stream",
     "text": [
      "Balanced\n",
      "[]\n"
     ]
    }
   ],
   "source": []
  },
  {
   "cell_type": "raw",
   "id": "50fde453",
   "metadata": {},
   "source": [
    "Given an array and a number k, write a function to rotate the array to the right by k steps. For example, for the input [1, 2, 3, 4, 5] and k = 2, the output should be [4, 5, 1, 2, 3]."
   ]
  },
  {
   "cell_type": "code",
   "execution_count": 60,
   "id": "3839c848-e5fa-410b-a42a-9f18622a7250",
   "metadata": {},
   "outputs": [],
   "source": [
    "arr = [1, 2, 3, 4, 5]\n",
    "\n",
    "strin = 'lalit'"
   ]
  },
  {
   "cell_type": "code",
   "execution_count": 62,
   "id": "ffa9648a-d44e-40e4-a8c2-8a969042c4fe",
   "metadata": {},
   "outputs": [
    {
     "data": {
      "text/plain": [
       "'tilal'"
      ]
     },
     "execution_count": 62,
     "metadata": {},
     "output_type": "execute_result"
    }
   ],
   "source": [
    "k=2\n",
    "arr = 'lalit'\n",
    "arr[-k:][::-1] + arr[:-k]"
   ]
  },
  {
   "cell_type": "code",
   "execution_count": 58,
   "id": "f03739e1-36b2-473a-b289-cc972537ca45",
   "metadata": {},
   "outputs": [
    {
     "data": {
      "text/plain": [
       "[4, 5, 1, 2, 3]"
      ]
     },
     "execution_count": 58,
     "metadata": {},
     "output_type": "execute_result"
    }
   ],
   "source": [
    "k = 2\n",
    "for i in range(k):\n",
    "    # x = arr.pop()\n",
    "    # arr.insert(0,x)\n",
    "    arr = arr[-1:] + arr[:-1] \n",
    "arr"
   ]
  },
  {
   "cell_type": "code",
   "execution_count": 55,
   "id": "54c6c645-3935-4ace-9d12-79c0144f834d",
   "metadata": {},
   "outputs": [
    {
     "data": {
      "text/plain": [
       "'itlal'"
      ]
     },
     "execution_count": 55,
     "metadata": {},
     "output_type": "execute_result"
    }
   ],
   "source": [
    "k = 2\n",
    "for i in range(k):\n",
    "    strin = strin[-1] + strin[:-1]\n",
    "strin"
   ]
  },
  {
   "cell_type": "raw",
   "id": "0a614aa4-7118-4b59-9a61-31454b4c6922",
   "metadata": {},
   "source": [
    "Write a function that takes a list and returns a new list containing the duplicates from the original list. For example, given the input [1, 2, 3, 1, 2, 4], the output should be [1, 2]."
   ]
  },
  {
   "cell_type": "code",
   "execution_count": 67,
   "id": "09a5615c-1113-4743-9166-fd014d103e2d",
   "metadata": {},
   "outputs": [],
   "source": [
    "arr = [1, 2, 3, 1, 2, 4]\n",
    "temp = [i for i in set(arr) if arr.count(i) > 1]\n"
   ]
  },
  {
   "cell_type": "code",
   "execution_count": 68,
   "id": "e559bfe1-a736-4932-b09c-1966f99ef8b5",
   "metadata": {},
   "outputs": [
    {
     "data": {
      "text/plain": [
       "[1, 2]"
      ]
     },
     "execution_count": 68,
     "metadata": {},
     "output_type": "execute_result"
    }
   ],
   "source": [
    "temp"
   ]
  },
  {
   "cell_type": "raw",
   "id": "60b1b9a9-4350-4395-98eb-5006e03e90bc",
   "metadata": {},
   "source": [
    "Write a function that takes a list of strings and returns the longest common prefix. For example, for the input [\"flower\", \"flow\", \"flight\"], the output should be \"fl\"."
   ]
  },
  {
   "cell_type": "code",
   "execution_count": 85,
   "id": "eaffe0ad-ef18-4937-b2ce-6af2f5ac8512",
   "metadata": {},
   "outputs": [
    {
     "name": "stdout",
     "output_type": "stream",
     "text": [
      "{'f'}\n",
      "{'l'}\n",
      "{'o', 'i'}\n",
      "{'g', 'w'}\n"
     ]
    },
    {
     "data": {
      "text/plain": [
       "'fl'"
      ]
     },
     "execution_count": 85,
     "metadata": {},
     "output_type": "execute_result"
    }
   ],
   "source": [
    "arr = [\"flower\", \"flow\", \"flight\"]\n",
    "max_f = \"\"\n",
    "max_s = max(arr,key=len)\n",
    "for i in zip(*arr):\n",
    "    print(set(i))\n",
    "    if len(set(i))==1:\n",
    "        max_f += i[0]\n",
    "max_f"
   ]
  },
  {
   "cell_type": "raw",
   "id": "26f38416-2e9b-47ba-a714-d7a297e457c4",
   "metadata": {},
   "source": [
    "Given two linked lists representing non-negative integers, where each node contains a single digit, write a function to add the two numbers and return the result as a linked list. The digits are stored in reverse order."
   ]
  },
  {
   "cell_type": "raw",
   "id": "05bf3781-d4d6-488c-be30-a40c94531a01",
   "metadata": {},
   "source": [
    "Write a function that checks if a string has all unique characters without using any additional data structures."
   ]
  },
  {
   "cell_type": "raw",
   "id": "cb1fda3c-73c2-42f4-8b4b-b066ac13bca7",
   "metadata": {},
   "source": [
    "Write a function that takes a string and returns a dictionary with the frequency count of each word in the string. Ignore punctuation and consider words to be case-insensitive.\n"
   ]
  },
  {
   "cell_type": "code",
   "execution_count": 87,
   "id": "7ecf9fcd-94f5-4a36-b331-1384eea4f5f6",
   "metadata": {},
   "outputs": [
    {
     "data": {
      "text/plain": [
       "{'I': 1, 'n': 2, 's': 2, 'e': 2, 'i': 2, 't': 1, 'v': 1}"
      ]
     },
     "execution_count": 87,
     "metadata": {},
     "output_type": "execute_result"
    }
   ],
   "source": [
    "s = \"Insensitive\"\n",
    "{i:s.count(i) for i in s}"
   ]
  },
  {
   "cell_type": "raw",
   "id": "4d7d43b3-dbd8-4c5c-bdd2-b03f60537884",
   "metadata": {},
   "source": [
    "Given an array containing n distinct numbers taken from 0, 1, 2, ..., n, write a function to find the one number that is missing from the array."
   ]
  },
  {
   "cell_type": "code",
   "execution_count": 94,
   "id": "083bfb53-cc68-453d-b130-60e668d9d676",
   "metadata": {},
   "outputs": [
    {
     "data": {
      "text/plain": [
       "5"
      ]
     },
     "execution_count": 94,
     "metadata": {},
     "output_type": "execute_result"
    }
   ],
   "source": [
    "lst = [i for i in range(11)]\n",
    "lst.remove(5)\n",
    "n = len(lst)\n",
    "n_sum = (n*(n+1))/2\n",
    "int(n_sum - sum(lst))"
   ]
  },
  {
   "cell_type": "raw",
   "id": "0a63cccb-61e1-441c-b7c2-982091a14b12",
   "metadata": {},
   "source": [
    "Write a function that takes a nested list and flattens it into a single list. For example, for the input [1, [2, [3, 4], 5], 6], the output should be [1, 2, 3, 4, 5, 6]."
   ]
  },
  {
   "cell_type": "code",
   "execution_count": 113,
   "id": "26a2cc47-c472-44b2-8b43-cb04f7c705fe",
   "metadata": {},
   "outputs": [
    {
     "data": {
      "text/plain": [
       "[1, 2, 3, 4, 5, 6]"
      ]
     },
     "execution_count": 113,
     "metadata": {},
     "output_type": "execute_result"
    }
   ],
   "source": [
    "home = [1, [2, [3, 4], 5], 6]\n",
    "temp = []\n",
    "\n",
    "def check(lst):\n",
    "    final = []\n",
    "    for i in lst:\n",
    "        if isinstance(i,list): # important\n",
    "            final.extend(check(i))\n",
    "        else:\n",
    "            final.append(i)\n",
    "    return final\n",
    "check(home)"
   ]
  },
  {
   "cell_type": "raw",
   "id": "5a381a0b-4183-4a62-b2b7-d06df5243e37",
   "metadata": {},
   "source": [
    "Write a function that checks if one string is a rotation of another. For example, \"waterbottle\" is a rotation of \"erbottlewat\"."
   ]
  },
  {
   "cell_type": "code",
   "execution_count": 116,
   "id": "10b42d26-b245-4aed-b79d-b27d71da1fca",
   "metadata": {},
   "outputs": [
    {
     "data": {
      "text/plain": [
       "'erbottlewat'"
      ]
     },
     "execution_count": 116,
     "metadata": {},
     "output_type": "execute_result"
    }
   ],
   "source": [
    "test = \"waterbottle\"\n",
    "for i in range(3):\n",
    "    test = test[1:] + test[0]\n",
    "test"
   ]
  },
  {
   "cell_type": "raw",
   "id": "d44f7865-47f1-4bce-a10a-c379a4ff2da5",
   "metadata": {},
   "source": [
    "Given an integer array, find the contiguous subarray within the array that has the largest product and return that product."
   ]
  },
  {
   "cell_type": "code",
   "execution_count": 118,
   "id": "027ddbe9-dfc6-492d-8eaf-0c1533c5ac81",
   "metadata": {},
   "outputs": [
    {
     "data": {
      "text/plain": [
       "(3, 4, 12)"
      ]
     },
     "execution_count": 118,
     "metadata": {},
     "output_type": "execute_result"
    }
   ],
   "source": [
    "arr = [2, 3, -2, 4]\n",
    "max_product = 1\n",
    "a,b = 0,0\n",
    "\n",
    "for i in range(len(arr)):\n",
    "    for j in range(i+1,len(arr)):\n",
    "        if arr[i]*arr[j] > max_product:\n",
    "            max_product = arr[i]*arr[j]\n",
    "            a,b =arr[i],arr[j]\n",
    "a,b,max_product"
   ]
  },
  {
   "cell_type": "raw",
   "id": "080b70e0-c230-4b06-88b9-182381cdacc0",
   "metadata": {},
   "source": [
    "Write a function to find the kth largest element in an unsorted array. Note that it is the kth largest element in sorted order, not the kth distinct element."
   ]
  },
  {
   "cell_type": "code",
   "execution_count": 122,
   "id": "d39843db-fdf7-4353-82f8-529187399513",
   "metadata": {},
   "outputs": [
    {
     "data": {
      "text/plain": [
       "3"
      ]
     },
     "execution_count": 122,
     "metadata": {},
     "output_type": "execute_result"
    }
   ],
   "source": [
    "arr = [2, 3, -2, 4]\n",
    "k = 2\n",
    "arr.sort(reverse=True)\n",
    "arr[2-1]"
   ]
  },
  {
   "cell_type": "raw",
   "id": "6de47e76-ff1c-486e-bdcd-81dc9999965a",
   "metadata": {},
   "source": [
    "Given two sorted linked lists, write a function to merge them into one sorted linked list and return it."
   ]
  },
  {
   "cell_type": "code",
   "execution_count": 135,
   "id": "640cc7fc-25f4-4b66-9166-2c17933bd1d6",
   "metadata": {},
   "outputs": [
    {
     "data": {
      "text/plain": [
       "[1, 2, 3, 4, 5, 6, -2, 2, 3, 4]"
      ]
     },
     "execution_count": 135,
     "metadata": {},
     "output_type": "execute_result"
    }
   ],
   "source": [
    "arr = [2, 3, -2, 4]\n",
    "arr2 = [1, 2, 3, 4, 5, 6]\n",
    "lst = sorted(arr2)#.extend(sorted(arr2))\n",
    "lst.extend((sorted(arr)))\n",
    "lst"
   ]
  },
  {
   "cell_type": "raw",
   "id": "e9a8fbaa-e63c-4130-bec6-610b1c19ea5b",
   "metadata": {},
   "source": [
    "Write a function that checks if two strings are anagrams of each other, considering spaces and punctuation."
   ]
  },
  {
   "cell_type": "code",
   "execution_count": 140,
   "id": "38f72c88-ceea-4b55-b1e9-f947b8bd1e68",
   "metadata": {},
   "outputs": [
    {
     "name": "stdout",
     "output_type": "stream",
     "text": [
      "yes\n"
     ]
    }
   ],
   "source": [
    "str1 = \"listen\"\n",
    "str2 = \"silent\"\n",
    "if sorted(str1) == sorted(str2):\n",
    "    print(\"yes\")\n",
    "else:\n",
    "    print(\"no\")"
   ]
  },
  {
   "cell_type": "raw",
   "id": "4c93129c-0859-494b-8abd-6ddf876ba717",
   "metadata": {},
   "source": [
    "Given an array of sorted integers and a target value, write a function to find the starting and ending position of the target value in the array. If the target is not found, return [-1, -1]."
   ]
  },
  {
   "cell_type": "raw",
   "id": "ef812035-57d3-4611-b058-197278ee502e",
   "metadata": {},
   "source": [
    "Write a function to determine if a given integer is a power of two."
   ]
  },
  {
   "cell_type": "raw",
   "id": "8dcc0065-c3bc-41c5-b929-6517768219f0",
   "metadata": {},
   "source": [
    "Implement a function that counts the number of unique characters in a given string, ignoring case."
   ]
  },
  {
   "cell_type": "raw",
   "id": "dd45a86e-e185-417c-a42e-bc603f4f7b66",
   "metadata": {},
   "source": [
    "Given a list of integers and a target, return the indices of the two numbers such that they add up to the target. Ensure your solution has a time complexity better than O(n²)."
   ]
  },
  {
   "cell_type": "raw",
   "id": "9fb264f0-3f79-4f90-8f66-958d46dc7402",
   "metadata": {},
   "source": [
    "Write a function that compresses a string using the counts of repeated characters. For example, \"aabcccccaaa\" would become \"a2b1c5a3\". If the compressed string is not smaller than the original, return the original string."
   ]
  },
  {
   "cell_type": "code",
   "execution_count": 158,
   "id": "483dccdf-eff6-4e94-b775-85387f2c53dc",
   "metadata": {},
   "outputs": [
    {
     "data": {
      "text/plain": [
       "'a2b1c5a3'"
      ]
     },
     "execution_count": 158,
     "metadata": {},
     "output_type": "execute_result"
    }
   ],
   "source": [
    "from itertools import groupby\n",
    "\n",
    "a = \"aabcccccaaa\"\n",
    "target  = \"a2b1c5a3\"\n",
    "str1 = \"\"\n",
    "for char,group in groupby(a):\n",
    "    count = len(list(group))\n",
    "    str1 += f\"{char}{count}\"\n",
    "str1"
   ]
  },
  {
   "cell_type": "code",
   "execution_count": 160,
   "id": "d8216bf2-13da-4971-b0ec-703cd5d7c2d5",
   "metadata": {},
   "outputs": [
    {
     "data": {
      "text/plain": [
       "'a2b1c5a3'"
      ]
     },
     "execution_count": 160,
     "metadata": {},
     "output_type": "execute_result"
    }
   ],
   "source": [
    "a = \"aabcccccaaa\"\n",
    "target  = \"a2b1c5a3\"\n",
    "str1 = \"\"\n",
    "i = 0\n",
    "while i <len(a):\n",
    "    char = a[i]\n",
    "    count = 1\n",
    "\n",
    "    while i+1 < len(a) and a[i+1] == char:\n",
    "        count += 1\n",
    "        i+= 1\n",
    "    str1 += f\"{char}{count}\"\n",
    "    i+= 1\n",
    "str1"
   ]
  },
  {
   "cell_type": "raw",
   "id": "3de73f80-8972-43cf-898c-5ef70aab81be",
   "metadata": {},
   "source": [
    "Given an array of integers and a target sum, write a function to find a contiguous subarray that sums to the target. Return the indices of the start and end of the subarray, or [-1, -1] if no such subarray exists."
   ]
  },
  {
   "cell_type": "raw",
   "id": "9215f56d-85a2-45cf-91ec-b087ae792860",
   "metadata": {},
   "source": [
    "Implement an algorithm to find the next lexicographical permutation of a list of numbers."
   ]
  },
  {
   "cell_type": "raw",
   "id": "e9e87f36-56d8-4c2a-89e9-c23816190824",
   "metadata": {},
   "source": [
    "Write a function that removes duplicates from a sorted array in-place and returns the new length."
   ]
  },
  {
   "cell_type": "raw",
   "id": "4a00ca2c-9892-463a-a0fb-16cb24ebae90",
   "metadata": {},
   "source": [
    "Given a binary tree, write a function to determine if it is a valid binary search tree."
   ]
  },
  {
   "cell_type": "raw",
   "id": "12a504f2-e74a-460a-8074-2b7ac138e8e0",
   "metadata": {},
   "source": [
    "Write a function that takes an array and a target sum and returns all pairs of integers that add up to that sum."
   ]
  },
  {
   "cell_type": "raw",
   "id": "dd273d9e-3096-4810-84f7-2ea6ce597bf6",
   "metadata": {},
   "source": [
    "Write a function that groups anagrams from a list of strings.\n",
    "Input: [\"eat\", \"tea\", \"tan\", \"ate\", \"nat\", \"bat\"]\n",
    "Output: [['eat', 'tea', 'ate'], ['tan', 'nat'], ['bat']]\n"
   ]
  },
  {
   "cell_type": "raw",
   "id": "b32d3ae5-c532-4f84-9fe9-27f8f58a41e2",
   "metadata": {},
   "source": [
    "Write a function to find the length of the longest substring without repeating characters.\n",
    "Input: \"abcabcbb\"\n",
    "Output: 3 (The longest substring is \"abc\".)"
   ]
  },
  {
   "cell_type": "raw",
   "id": "ca32b7a5-095a-4074-86f7-88ac069886cd",
   "metadata": {},
   "source": [
    "Given a list of n integers where each integer is in the range [1, n], one number is missing. Write a function to find that number.\n",
    "Input: [3, 7, 1, 2, 8, 4, 5]\n",
    "Output: 6"
   ]
  },
  {
   "cell_type": "raw",
   "id": "447fff59-1681-4dae-aa31-4feb39d4421b",
   "metadata": {},
   "source": [
    "Write a function that implements strStr(), which locates a substring within a string.\n",
    "Input: (\"hello\", \"ll\")\n",
    "Output: 2"
   ]
  },
  {
   "cell_type": "raw",
   "id": "6ae3e5e1-c2c4-42b8-937f-dc5ecbc1919f",
   "metadata": {},
   "source": [
    "Write a function that counts the number of prime numbers less than a given non-negative number, n.\n",
    "Input: 10\n",
    "Output: 4 (The prime numbers are 2, 3, 5, 7.)"
   ]
  },
  {
   "cell_type": "raw",
   "id": "94356611-fb14-435d-aa65-6c2e738ef86e",
   "metadata": {},
   "source": [
    "Given a sorted array of integers, return the indices of the two numbers such that they add up to a specific target.\n",
    "Input: ([2, 7, 11, 15], 9)\n",
    "Output: [1, 2] (1-based index)"
   ]
  },
  {
   "cell_type": "raw",
   "id": "22262bf5-07b3-470c-9696-827c30034b5c",
   "metadata": {},
   "source": [
    "Implement a queue using two stacks. The queue should support the following operations: push, pop, and peek.\n",
    "Input: push(1), push(2), pop()\n",
    "Output: 1"
   ]
  },
  {
   "cell_type": "raw",
   "id": "5336fb44-f082-4ec8-ab38-7a0abf157c31",
   "metadata": {},
   "source": [
    "Write a function that determines if a given string can be a palindrome after deleting at most one character.\n",
    "Input: \"abca\"\n",
    "Output: True"
   ]
  },
  {
   "cell_type": "raw",
   "id": "7086987e-7ea7-4955-b9fb-965524b20a00",
   "metadata": {},
   "source": [
    "Given an array of integers, find all unique triplets that sum up to zero.\n",
    "Input: [-1, 0, 1, 2, -1, -4]\n",
    "Output: [[-1, -1, 2], [-1, 0, 1]]"
   ]
  },
  {
   "cell_type": "raw",
   "id": "ccd7cf87-b5f5-4695-9e1f-5ac8eb6304b2",
   "metadata": {},
   "source": [
    "Given a 2D grid of '1's (land) and '0's (water), write a function to count the number of islands. An island is surrounded by water and is formed by connecting adjacent lands horizontally or vertically.\n",
    "Input:\n",
    "\n",
    "[  [\"1\",\"1\",\"0\",\"0\",\"0\"],\n",
    "  [\"1\",\"1\",\"0\",\"0\",\"0\"],\n",
    "  [\"0\",\"0\",\"1\",\"0\",\"0\"],\n",
    "  [\"0\",\"0\",\"0\",\"1\",\"1\"]\n",
    "]"
   ]
  },
  {
   "cell_type": "raw",
   "id": "9fa8dd61-8f8e-4f46-89ca-112d0a62abf6",
   "metadata": {},
   "source": [
    "Given a non-empty array of integers, return the k most frequent elements.\n",
    "Input: ([1,1,1,2,2,3], 2)\n",
    "Output: [1, 2]\n"
   ]
  },
  {
   "cell_type": "raw",
   "id": "0593e77a-3048-4b64-b904-a148d97a5bb0",
   "metadata": {},
   "source": [
    "Implement binary search in a sorted array to find the index of a target element.\n",
    "Input: ([1, 2, 3, 4, 5], 3)\n",
    "Output: 2"
   ]
  },
  {
   "cell_type": "raw",
   "id": "393de95c-15ef-43b9-a9f6-1132d72d1ed1",
   "metadata": {},
   "source": [
    "Given an array of integers, return an array such that output[i] is equal to the product of all the elements of the input array except nums[i].\n",
    "Input: [1, 2, 3, 4]\n",
    "Output: [24, 12, 8, 6]"
   ]
  },
  {
   "cell_type": "raw",
   "id": "60511477-8733-4831-8629-3d02dfede015",
   "metadata": {},
   "source": [
    "Write a function to generate all possible permutations of a list of numbers.\n",
    "Input: [1, 2, 3]\n",
    "Output: [[1, 2, 3], [1, 3, 2], [2, 1, 3], [2, 3, 1], [3, 1, 2], [3, 2, 1]]"
   ]
  },
  {
   "cell_type": "raw",
   "id": "5af11f61-80ff-4176-84d6-81c600e69f25",
   "metadata": {},
   "source": [
    "Given a list of coin denominations and a total amount, write a function to compute the minimum number of coins needed to make the amount.\n",
    "Input: ([1, 2, 5], 11)\n",
    "Output: 3 (11 = 5 + 5 + 1)"
   ]
  },
  {
   "cell_type": "raw",
   "id": "dfaa2e02-8aef-4b7a-99e6-521b975d7c96",
   "metadata": {},
   "source": [
    "Given the total number of courses and a list of prerequisites, write a function to determine if you can finish all courses.\n",
    "Input: numCourses = 2, prerequisites = [[1, 0]]\n",
    "Output: True\n",
    "Let me know if you want ev"
   ]
  },
  {
   "cell_type": "raw",
   "id": "b00a1bf7-c115-4783-8ad5-8c1c400c8d8d",
   "metadata": {},
   "source": [
    "You are climbing a staircase with n steps. You can take either 1 or 2 steps at a time. Write a function to find how many distinct ways you can climb to the top.\n",
    "Input: n = 5\n",
    "Output: 8"
   ]
  },
  {
   "cell_type": "raw",
   "id": "626ddcc0-a584-4b11-a4d1-838d18711db7",
   "metadata": {},
   "source": [
    "Write a function to find the longest palindromic substring in a string.\n",
    "Input: \"babad\"\n",
    "Output: \"bab\" or \"aba\""
   ]
  },
  {
   "cell_type": "raw",
   "id": "d49a0814-cd68-4113-94dc-75676dcd5d6b",
   "metadata": {},
   "source": [
    "Given an array of daily temperatures, return an array such that answer[i] is the number of days until a warmer temperature.\n",
    "Input: [73, 74, 75, 71, 69, 72, 76, 73]\n",
    "Output: [1, 1, 4, 2, 1, 1, 0, 0]"
   ]
  },
  {
   "cell_type": "raw",
   "id": "f62c529e-9101-4d3f-92a4-2cd0a919824e",
   "metadata": {},
   "source": [
    "A robot is located at the top-left corner of a m x n grid. Write a function to find the number of unique paths to reach the bottom-right corner.\n",
    "Input: m = 3, n = 7\n",
    "Output: 28"
   ]
  },
  {
   "cell_type": "raw",
   "id": "b63a0e37-7b9c-4029-bbbc-60570fc1660d",
   "metadata": {},
   "source": [
    "Implement a trie with insert and search methods.\n",
    "Input: insert(\"apple\"), search(\"apple\")\n",
    "Output: True"
   ]
  },
  {
   "cell_type": "raw",
   "id": "c5c37181-b75f-4371-b989-0ce4ce804a9e",
   "metadata": {},
   "source": [
    "Given an m x n matrix, return all elements of the matrix in spiral order.\n",
    "Input:\n",
    "\n",
    "[\n",
    "  [1, 2, 3],\n",
    "  [4, 5, 6],\n",
    "  [7, 8, 9]\n",
    "]\n",
    "Output: [1, 2, 3, 6, 9, 8, 7, 4, 5]"
   ]
  },
  {
   "cell_type": "raw",
   "id": "c1e3ce99-cabf-4cb3-bee4-1a4717d5bbe2",
   "metadata": {},
   "source": [
    "Given a string, write a function to partition it into all possible palindrome partitions.\n",
    "Input: \"aab\"\n",
    "Output: [['a', 'a', 'b'], ['aa', 'b']]"
   ]
  },
  {
   "cell_type": "raw",
   "id": "3f7f4510-ceaa-4ef9-94aa-27d1078c4269",
   "metadata": {},
   "source": [
    "Given an integer array, find the length of the longest increasing subsequence.\n",
    "Input: [10, 9, 2, 5, 3, 7, 101, 18]\n",
    "Output: 4 (The longest increasing subsequence is [2, 3, 7, 101])"
   ]
  },
  {
   "cell_type": "raw",
   "id": "f09ac314-6480-437e-9264-5cbed23be2d5",
   "metadata": {},
   "source": [
    "An element is a peak if it is greater than or equal to its neighbors. Write a function to find a peak element in an array.\n",
    "Input: [1, 2, 3, 1]\n",
    "Output: 3"
   ]
  },
  {
   "cell_type": "raw",
   "id": "fc5e82ae-0ab5-4512-8f6e-deb23c231b3f",
   "metadata": {},
   "source": [
    "Write a function to find the length of the longest consecutive elements sequence.\n",
    "Input: [100, 4, 200, 1, 3, 2]\n",
    "Output: 4 (The longest consecutive sequence is [1, 2, 3, 4])"
   ]
  },
  {
   "cell_type": "raw",
   "id": "68f3957e-0a88-4641-9948-c77b986c47e6",
   "metadata": {},
   "source": [
    "Write a function that finds the maximum product of any three numbers in an array.\n",
    "Input: [-10, -10, 5, 2]\n",
    "Output: 500 (The maximum product is -10 * -10 * 5)"
   ]
  },
  {
   "cell_type": "raw",
   "id": "36d7944b-3e87-4a63-aacc-de24900f6aa4",
   "metadata": {},
   "source": [
    "Given an array of integers and a target sum, write a function to count the number of continuous subarrays whose sum equals the target.\n",
    "Input: arr = [1, 1, 1], target = 2\n",
    "Output: 2 (The subarrays are [1, 1] and [1, 1])"
   ]
  },
  {
   "cell_type": "raw",
   "id": "759039d8-1a36-4e5b-9745-7f14671836f0",
   "metadata": {},
   "source": [
    "Evaluate the value of an arithmetic expression in Reverse Polish Notation (RPN).\n",
    "Input: [\"2\", \"1\", \"+\", \"3\", \"*\"]\n",
    "Output: 9 (The expression is (2 + 1) * 3)"
   ]
  },
  {
   "cell_type": "raw",
   "id": "1d1098d6-7000-4a3b-9341-768bd58e7db0",
   "metadata": {},
   "source": []
  },
  {
   "cell_type": "raw",
   "id": "218d32e0-82b3-404e-a51f-f5162a3bdfe0",
   "metadata": {},
   "source": []
  },
  {
   "cell_type": "raw",
   "id": "b9cc4677-ee59-410d-b0d8-1a5399082d8b",
   "metadata": {},
   "source": []
  },
  {
   "cell_type": "raw",
   "id": "9f577955-0194-42bb-98f6-3cf13cea5ed9",
   "metadata": {},
   "source": []
  },
  {
   "cell_type": "raw",
   "id": "4bd38f73-9a33-44fb-8b9f-97d5d3b9e10d",
   "metadata": {},
   "source": []
  },
  {
   "cell_type": "raw",
   "id": "720f7fb6-a030-49a6-8e8c-86083a197789",
   "metadata": {},
   "source": []
  }
 ],
 "metadata": {
  "kernelspec": {
   "display_name": "Python 3 (ipykernel)",
   "language": "python",
   "name": "python3"
  },
  "language_info": {
   "codemirror_mode": {
    "name": "ipython",
    "version": 3
   },
   "file_extension": ".py",
   "mimetype": "text/x-python",
   "name": "python",
   "nbconvert_exporter": "python",
   "pygments_lexer": "ipython3",
   "version": "3.12.2"
  }
 },
 "nbformat": 4,
 "nbformat_minor": 5
}
