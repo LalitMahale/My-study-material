{
 "cells": [
  {
   "cell_type": "markdown",
   "id": "68141d24-1cb3-4d71-9901-2263032cb040",
   "metadata": {},
   "source": [
    "## 1. Write a python program to sort characters and number so that first alphabets and then numbers are printed."
   ]
  },
  {
   "cell_type": "code",
   "execution_count": 14,
   "id": "621fd181-1933-4bcb-80f6-8c2ffd2fe533",
   "metadata": {},
   "outputs": [
    {
     "data": {
      "text/plain": [
       "'bcl1247'"
      ]
     },
     "execution_count": 14,
     "metadata": {},
     "output_type": "execute_result"
    }
   ],
   "source": [
    "a = \"l1b47c2\"\n",
    "char = []\n",
    "dig = []\n",
    "for i in a:\n",
    "    dig.append(i) if i.isnumeric() else char.append(i)\n",
    "\"\".join(sorted(char) + sorted(dig))"
   ]
  },
  {
   "cell_type": "markdown",
   "id": "2a5a3250-613f-490d-830f-a76ac0a6d661",
   "metadata": {},
   "source": [
    "## 2. Write a program to display the words that are repeated more than or equal to N times in the text.\n",
    "**Input**\n",
    "\n",
    "input = cat batman latt matter cat matter cat cat latt latt\n",
    "n = 3\n",
    "\n",
    "**Output**:\n",
    "\n",
    "cat latt"
   ]
  },
  {
   "cell_type": "code",
   "execution_count": 29,
   "id": "25a0863c-9b8e-4f57-a752-997ad0778be2",
   "metadata": {},
   "outputs": [
    {
     "data": {
      "text/plain": [
       "'cat latt'"
      ]
     },
     "execution_count": 29,
     "metadata": {},
     "output_type": "execute_result"
    }
   ],
   "source": [
    "inputs = \"cat batman latt matter cat matter cat cat latt latt\"\n",
    "n = 3\n",
    "d = {}\n",
    "for text in set(inputs.split()):\n",
    "    if inputs.count(text) >= n:\n",
    "        d[text] = inputs.count(text)\n",
    "lst = sorted(list(d.keys()),key= lambda x :x[0])\n",
    "\" \".join(lst)"
   ]
  },
  {
   "cell_type": "markdown",
   "id": "af5d29d8-a2fe-4ee1-ab2a-f341baab2fad",
   "metadata": {},
   "source": [
    "## _OR_"
   ]
  },
  {
   "cell_type": "code",
   "execution_count": 34,
   "id": "d4d08a94-7c91-466d-a825-2e4291efe740",
   "metadata": {},
   "outputs": [
    {
     "name": "stdout",
     "output_type": "stream",
     "text": [
      "{'latt': 3, 'cat': 4}\n",
      "['cat', 'latt']\n"
     ]
    },
    {
     "data": {
      "text/plain": [
       "'cat latt'"
      ]
     },
     "execution_count": 34,
     "metadata": {},
     "output_type": "execute_result"
    }
   ],
   "source": [
    "inputs = \"cat batman latt matter cat matter cat cat latt latt\"\n",
    "n = 3\n",
    "dic = {text:inputs.count(text) for text in set(inputs.split()) if inputs.count(text) >= n}\n",
    "sorted_lst = sorted(dic.keys(), key = lambda x :x[0])\n",
    "print(dic)\n",
    "print(sorted_lst)\n",
    "\" \".join(sorted_lst)"
   ]
  },
  {
   "cell_type": "markdown",
   "id": "4fb4f474-a7e4-4cdc-a690-638f996fce5e",
   "metadata": {},
   "source": [
    "### 3. write a program for finding pair of highest product.\n",
    "\n",
    "Input : [5,3,1,4,3,7,6,9,2]\n",
    "\n",
    "output : Maximum product pair is : (7,9)\n",
    "\n",
    "Input : [0,-2,-1,-4,5,-8,7,-8,8]\n",
    "\n",
    "output : Maximum product pair is : (-8,-8)\n"
   ]
  },
  {
   "cell_type": "code",
   "execution_count": 48,
   "id": "958199ac-132c-4e1f-870b-5379a49bcb3c",
   "metadata": {},
   "outputs": [
    {
     "name": "stdin",
     "output_type": "stream",
     "text": [
      "Enter Array  [5,3,1,4,3,7,6,9,2]\n"
     ]
    },
    {
     "name": "stdout",
     "output_type": "stream",
     "text": [
      "(7, 9)\n"
     ]
    }
   ],
   "source": [
    "def max_product(arr):\n",
    "    if len(arr) >= 2:\n",
    "        a,b = arr[0],arr[1]\n",
    "        for i in range(len(arr)):\n",
    "            for j in range(i+1, len(arr)):\n",
    "                if arr[i]*arr[j] > (a*b):\n",
    "                    a,b = arr[i],arr[j]\n",
    "        return (a,b)\n",
    "    else:\n",
    "        print(\"no such pair exist\")\n",
    "        return \n",
    "\n",
    "arr = eval(input(\"Enter Array\"))\n",
    "print(max_product(arr))"
   ]
  },
  {
   "cell_type": "markdown",
   "id": "25cd3e77-e8fa-4099-b9e5-d817bf7db16c",
   "metadata": {},
   "source": [
    "### 4. You are given \"N\" sticks each of negligible thickness and the ith stick has lenght A[i].\n",
    "\n",
    "Find the maximum area of rectangle that is possible.\n",
    "\n",
    "notes:- \n",
    "1) rectangle is a figure having opposite side equal.\n",
    "2) A squre is also a ractangle\n",
    "\n",
    "return value : integer denoting maximum possible area.\n",
    "\n",
    "**Example**:\n",
    "\n",
    "Inputs : 5,[1 8 1 8 8]\n",
    "\n",
    "Output : 8\n",
    "\n",
    "Explaination: We can create a rectangle of 8*1 and it has maximum area.\n",
    "\n",
    "Inputs : 8,[4,2,3,2,3,4,5,1]\n",
    "\n",
    "output : 12"
   ]
  },
  {
   "cell_type": "code",
   "execution_count": 57,
   "id": "dabc5be3-c8ee-4f48-8f38-e0eada40052f",
   "metadata": {},
   "outputs": [
    {
     "data": {
      "text/plain": [
       "8"
      ]
     },
     "execution_count": 57,
     "metadata": {},
     "output_type": "execute_result"
    }
   ],
   "source": [
    "lst = [1,8,1,8,8]\n",
    "# remove which don't have pair\n",
    "arr = [i for i in set(lst) if lst.count(i) >= 2]\n",
    "# find max product\n",
    "max_p = 0\n",
    "for i in range(len(arr)):\n",
    "    for j in range(i+1, len(arr)):\n",
    "        if arr[i] * arr[j] > max_p:\n",
    "            max_p = arr[i] * arr[j]\n",
    "max_p"
   ]
  },
  {
   "cell_type": "markdown",
   "id": "1b4b1d87-b406-4e73-bd02-7b418d04652d",
   "metadata": {},
   "source": [
    "## 5. you are given a string s of lenght n and an array of strings t containg m strings each of lenght n-1\n",
    "you need to remove one character from s such that s became equal to any of m strings.\n",
    "\n",
    "find the total number of strings from the m given strings which can be obtained by removing one character from s.\n",
    "\n",
    "input:\n",
    "length of string s (n) - 5\n",
    "\n",
    "string - abcde\n",
    "\n",
    "no of string in t (m) - 4\n",
    "\n",
    "enter string (t) - [\"abcd\",\"abcc\",\"cddd\",\"acde\"]\n",
    "\n",
    "output : 2\n",
    "\n",
    "explaination: \n",
    "\n",
    "              abcd :- after removing e\n",
    "\n",
    "              acde :- after removing b"
   ]
  },
  {
   "cell_type": "code",
   "execution_count": 59,
   "id": "90ba7c4f-abe5-44be-9673-c164741b88cf",
   "metadata": {},
   "outputs": [
    {
     "name": "stdout",
     "output_type": "stream",
     "text": [
      "2\n"
     ]
    }
   ],
   "source": [
    "string = 'abcde'\n",
    "n = 5\n",
    "m = 4\n",
    "t = [\"abcd\",\"abcc\",\"cddd\",\"acde\"]\n",
    "count = 0\n",
    "for i in range(n):\n",
    "    temp =  string.replace(string[i],\"\")\n",
    "    if temp in t:\n",
    "        count += 1\n",
    "print(count)"
   ]
  },
  {
   "cell_type": "markdown",
   "id": "62e23110-b7bf-4f70-b11c-6814e5349e16",
   "metadata": {},
   "source": [
    "## 6 Give an array of integers \"nums\" and an integer \"target\". return indices of two numbers such that they add up to target.\n",
    "\n",
    "You may assume that each input would have exactly one solution, and you may not use the same element twice.\n",
    "\n",
    "you can return answer in any order.\n",
    "\n",
    "ex. \n",
    "\n",
    "input: nums = [2,7,11,15],\n",
    "target = 9\n",
    "\n",
    "outptu = [0,1]\n",
    "\n",
    "num = [3,2,4]\n",
    "target = 6\n",
    "\n",
    "output = [1,2]\n",
    "\n",
    "nums = [3,3] \n",
    "target = 6\n",
    "\n",
    "output = [0,1]"
   ]
  },
  {
   "cell_type": "code",
   "execution_count": 63,
   "id": "cff4f458-e835-40c4-b5f1-40ec5e1006a8",
   "metadata": {},
   "outputs": [
    {
     "data": {
      "text/plain": [
       "[1, 2]"
      ]
     },
     "execution_count": 63,
     "metadata": {},
     "output_type": "execute_result"
    }
   ],
   "source": [
    "def get_indices(nums, target):\n",
    "    for i in range(len(nums)):\n",
    "        for j in range(i+1,len(nums)):\n",
    "            if nums[i]+nums[j] == target:\n",
    "                return [i,j]\n",
    "get_indices(nums = [3,2,4],target = 6)"
   ]
  },
  {
   "cell_type": "code",
   "execution_count": 76,
   "id": "2ee144b9-8666-4f51-a5cf-c5066aeb786d",
   "metadata": {},
   "outputs": [
    {
     "data": {
      "text/plain": [
       "(0, 1)"
      ]
     },
     "execution_count": 76,
     "metadata": {},
     "output_type": "execute_result"
    }
   ],
   "source": [
    "def get_indices_2(nums,target):\n",
    "    dic = {}\n",
    "    for idx, no in enumerate(nums):\n",
    "        diff = target - no\n",
    "        if diff in dic:\n",
    "            return dic[diff],idx\n",
    "        dic[no] = idx\n",
    "    return None\n",
    "get_indices_2(nums = [2,7,11,15],\n",
    "target = 9)"
   ]
  },
  {
   "cell_type": "markdown",
   "id": "c6c43666-56cd-4b32-abf1-63fda0c3ca67",
   "metadata": {},
   "source": [
    "## 7. Iterate on list without using loop from start to end.\n",
    "nums = [10,20,30,40,50]\n",
    "\n",
    "start_idx = 1\n",
    "\n",
    "end_idx = 4\n",
    "\n",
    "output : 20 30 40"
   ]
  },
  {
   "cell_type": "code",
   "execution_count": 79,
   "id": "99ad3691-8db3-4c79-9936-5c028e18f17d",
   "metadata": {},
   "outputs": [
    {
     "name": "stdout",
     "output_type": "stream",
     "text": [
      "20 30 40 "
     ]
    }
   ],
   "source": [
    "def iterator(arr, start , end):\n",
    "    if start < 0 or start >= end or end >= len(arr):\n",
    "        return None\n",
    "    print(arr[start],end= \" \")\n",
    "    ## recursive \n",
    "    iterator(arr,start+1,end)\n",
    "        \n",
    "\n",
    "arr = [10,20,30,40,50]\n",
    "iterator(arr, 1 , 4)"
   ]
  },
  {
   "cell_type": "markdown",
   "id": "001530a0-2e91-45a2-be90-dddd2962a0b9",
   "metadata": {},
   "source": [
    "### Input : \"a3b2c4\"\n",
    "\n",
    "### output : aaabbcccc"
   ]
  },
  {
   "cell_type": "code",
   "execution_count": 80,
   "id": "b66549e6-903b-4b57-8964-316c61ba59e9",
   "metadata": {},
   "outputs": [
    {
     "data": {
      "text/plain": [
       "'aaabbcccc'"
      ]
     },
     "execution_count": 80,
     "metadata": {},
     "output_type": "execute_result"
    }
   ],
   "source": [
    "Input = \"a3b2c4\"\n",
    "out = \"\"\n",
    "tem = \"\"\n",
    "for i in Input:\n",
    "    if i.isalpha():\n",
    "        temp = i\n",
    "    elif i.isnumeric():\n",
    "        out += temp*int(i)\n",
    "out"
   ]
  },
  {
   "cell_type": "markdown",
   "id": "90544966-f512-4bcb-a5bf-ec30b763a13a",
   "metadata": {},
   "source": [
    "https://www.youtube.com/watch?v=L9HM7SGxu9I&list=PLI4OVrCFuY54S0RMuEYAgF2WguzROM1w3&index=10"
   ]
  },
  {
   "cell_type": "markdown",
   "id": "4dfc63d9-10d8-4adf-a59d-dc6003a25e32",
   "metadata": {},
   "source": [
    "### Write a python program for following requirements \n",
    "\n",
    "if input   2 512\n",
    "\n",
    "  2 * 2 = 4 * 2 = 8*2  == .... 512\n",
    "\n",
    "result = 512\n",
    "\n",
    "count = 8 "
   ]
  },
  {
   "cell_type": "code",
   "execution_count": 91,
   "id": "13b1b36b-e6b7-43fe-851b-31e1c9767495",
   "metadata": {},
   "outputs": [
    {
     "data": {
      "text/plain": [
       "8"
      ]
     },
     "execution_count": 91,
     "metadata": {},
     "output_type": "execute_result"
    }
   ],
   "source": [
    "def get_count(no,check):\n",
    "    n1 = 1\n",
    "    while no <= check:\n",
    "        no = no*2\n",
    "        if no == 512:\n",
    "            break\n",
    "        else:\n",
    "            n1 += 1 \n",
    "    return n1\n",
    "get_count(2,512)"
   ]
  },
  {
   "cell_type": "markdown",
   "id": "2cf9284e-b1d5-41c0-97ad-7b82948fc3e8",
   "metadata": {},
   "source": [
    "### Write a python program for following \n",
    "\n",
    "input : \"aaaabbbccd\"\n",
    "\n",
    "output : 4a3b2c1d"
   ]
  },
  {
   "cell_type": "code",
   "execution_count": 96,
   "id": "02407717-166c-404b-b062-5b5c376db58e",
   "metadata": {},
   "outputs": [
    {
     "data": {
      "text/plain": [
       "'4a3b2c1d'"
      ]
     },
     "execution_count": 96,
     "metadata": {},
     "output_type": "execute_result"
    }
   ],
   "source": [
    "str1 = 'aaaabbbccd'\n",
    "lst = []\n",
    "[lst.append(i) for i in str1 if i not in lst] \n",
    "output = \"\"\n",
    "for i in lst:\n",
    "    output += str(str1.count(i)) + i\n",
    "output"
   ]
  },
  {
   "cell_type": "code",
   "execution_count": 99,
   "id": "17e769ed-6607-49fc-b5c4-e073f5c191f5",
   "metadata": {},
   "outputs": [
    {
     "data": {
      "text/plain": [
       "{'a': '2', 'b': '23', 'name': 'prakash'}"
      ]
     },
     "execution_count": 99,
     "metadata": {},
     "output_type": "execute_result"
    }
   ],
   "source": [
    "# convert into dictionary\n",
    "\n",
    "query = \"a=2&b=23&name=prakash\"\n",
    "\n",
    "#output = {\"a\":\"2\",\"b\":\"23\",\"name\":\"prakash\"}\n",
    "\n",
    "query = query.split(\"&\")\n",
    "d = {}\n",
    "for i in query:\n",
    "    i = i.split(\"=\")\n",
    "    d[i[0]] = i[1]\n",
    "d"
   ]
  },
  {
   "cell_type": "code",
   "execution_count": 103,
   "id": "b59b95a6-e236-43df-a9a4-42ea09aac90e",
   "metadata": {},
   "outputs": [
    {
     "data": {
      "text/plain": [
       "84"
      ]
     },
     "execution_count": 103,
     "metadata": {},
     "output_type": "execute_result"
    }
   ],
   "source": [
    "### Find the second larget element\n",
    "nums = [78,45,76,90,23,37,84]\n",
    "nums.sort(reverse=True) # by default ascending\n",
    "nums[1]"
   ]
  },
  {
   "cell_type": "code",
   "execution_count": 102,
   "id": "e920f186-9d78-44c0-8961-8528b55afb3b",
   "metadata": {},
   "outputs": [
    {
     "data": {
      "text/plain": [
       "84"
      ]
     },
     "execution_count": 102,
     "metadata": {},
     "output_type": "execute_result"
    }
   ],
   "source": [
    "nums.remove(max(nums))\n",
    "max(nums)"
   ]
  },
  {
   "cell_type": "code",
   "execution_count": 108,
   "id": "512d5336-823c-4c18-a57d-fa1545cb1da7",
   "metadata": {},
   "outputs": [
    {
     "data": {
      "text/plain": [
       "84"
      ]
     },
     "execution_count": 108,
     "metadata": {},
     "output_type": "execute_result"
    }
   ],
   "source": [
    "first = second = float('-inf')\n",
    "for num in nums:\n",
    "    if num > first:\n",
    "        second = first\n",
    "        first = num\n",
    "    elif first > num > second:\n",
    "        second = num\n",
    "\n",
    "second if second != float('-inf') else None\n",
    "second"
   ]
  },
  {
   "cell_type": "markdown",
   "id": "0e3b5214-0bc9-4168-827e-15a2212d39e3",
   "metadata": {},
   "source": [
    "### Given an integer/string x, return true if x is palidrome integer/string\n",
    "\n",
    "Palidrome : when a string or number is equal to reverse of it \n"
   ]
  },
  {
   "cell_type": "code",
   "execution_count": 113,
   "id": "a38a3bb3-3bd6-4ece-a9af-63d50e96123c",
   "metadata": {},
   "outputs": [
    {
     "data": {
      "text/plain": [
       "True"
      ]
     },
     "execution_count": 113,
     "metadata": {},
     "output_type": "execute_result"
    }
   ],
   "source": [
    "# for number \n",
    "old = 151\n",
    "no = old\n",
    "res = 0\n",
    "\n",
    "while no!= 0:\n",
    "    res = res*10 + no%10\n",
    "    no//=10\n",
    "True if res == old else False\n"
   ]
  },
  {
   "cell_type": "markdown",
   "id": "a2a8d90d-24ba-4653-956f-ff4c4f0284bf",
   "metadata": {},
   "source": [
    "## convert roman into number \n"
   ]
  },
  {
   "cell_type": "code",
   "execution_count": 128,
   "id": "69b8dcf6-191e-415d-bbef-db129f5f7053",
   "metadata": {},
   "outputs": [
    {
     "data": {
      "text/plain": [
       "9"
      ]
     },
     "execution_count": 128,
     "metadata": {},
     "output_type": "execute_result"
    }
   ],
   "source": [
    "value = {\"I\":1,\"V\":5,\"X\":10,\"L\":50,\"C\":100,\"D\":500,\"M\":1000,\"IV\":4,\"IX\":9,\"XL\":40,\"XC\":90,\"CD\":400,\"CM\":900}\n",
    "\n",
    "inputs = \"IX\"\n",
    "count = 0\n",
    "i = 0\n",
    "while i < len(inputs):\n",
    "    if inputs[i:i+2] in value:\n",
    "        count += value[inputs[i:i+2]]\n",
    "        i+=2\n",
    "    elif inputs[i] in value:\n",
    "        count += value[inputs[i]]\n",
    "        i+=1\n",
    "    else:\n",
    "        i+= 1\n",
    "count"
   ]
  },
  {
   "cell_type": "markdown",
   "id": "0cdd0a07-8e5e-4659-87de-9d77476b09b1",
   "metadata": {},
   "source": [
    "### Given an expression string, write a python program to find whether a given string has balanced or unbalanced\n",
    "\n",
    "Input : \"{[]{()}}\"\n",
    "\n",
    "Output ; Balanaced\n",
    "\n",
    "Input = \"[{}{}(]\"\n",
    "\n",
    "output : unbalanced\n",
    "\n",
    "\"solution : Stack : LIFO\""
   ]
  },
  {
   "cell_type": "code",
   "execution_count": 135,
   "id": "173ca29a-68bb-47ee-9cb8-20abf9628766",
   "metadata": {},
   "outputs": [
    {
     "data": {
      "text/plain": [
       "'Balanced'"
      ]
     },
     "execution_count": 135,
     "metadata": {},
     "output_type": "execute_result"
    }
   ],
   "source": [
    "Input = \"{[]{()}}\"\n",
    "\n",
    "def check(str1):\n",
    "    bracket = {\"}\":\"{\",\"]\":\"[\",\")\":\"(\"}\n",
    "    stack = []\n",
    "    for i in str1:\n",
    "        if i in bracket.values():\n",
    "            stack.append(i)\n",
    "        elif i in bracket.keys():\n",
    "            stack.remove(bracket[i])\n",
    "            \n",
    "    return \"Unbalanced\" if stack else 'Balanced'\n",
    "\n",
    "check(Input)"
   ]
  },
  {
   "cell_type": "markdown",
   "id": "b4eff791-6239-433f-bf7f-36408b5a6ace",
   "metadata": {},
   "source": [
    "## Write a python program to find complement of given number.\n",
    "\n",
    "Input : 5\n",
    "\n",
    "Output : 2\n",
    "\n",
    "Input : 8\n",
    "\n",
    "Output : 7\n",
    "\n",
    "\n",
    "Note: convet into binary and flip every two binary\n",
    "1100 - 1001\n"
   ]
  },
  {
   "cell_type": "code",
   "execution_count": 148,
   "id": "d403b13c-49a5-4b60-b657-204d56260eba",
   "metadata": {},
   "outputs": [
    {
     "data": {
      "text/plain": [
       "7"
      ]
     },
     "execution_count": 148,
     "metadata": {},
     "output_type": "execute_result"
    }
   ],
   "source": [
    "def complement(no):\n",
    "    binary = bin(no).replace(\"0b\",\"\")\n",
    "    complement = \"\"\n",
    "    for bit in binary:\n",
    "        if bit == \"1\":\n",
    "            complement += \"0\"\n",
    "        else:\n",
    "            complement += \"1\"\n",
    "    return int(complement,base=2)\n",
    "\n",
    "complement(8)"
   ]
  },
  {
   "cell_type": "code",
   "execution_count": 165,
   "id": "ee69f7e1-594b-4fe6-8f5e-d46f8b51e974",
   "metadata": {},
   "outputs": [
    {
     "data": {
      "text/plain": [
       "'si23eman45ym'"
      ]
     },
     "execution_count": 165,
     "metadata": {},
     "output_type": "execute_result"
    }
   ],
   "source": [
    "Input = \"my23name45is\"\n",
    "# output = \"si23eman45ym\"\n",
    "str1 = [i for i in Input if i.isalpha()][::-1]\n",
    "output = \"\"\n",
    "for i in Input:\n",
    "    if i.isalpha():\n",
    "        output+= str1[0]\n",
    "        str1.remove(str1[0])\n",
    "    elif i.isnumeric():\n",
    "        output+= i\n",
    "output"
   ]
  },
  {
   "cell_type": "code",
   "execution_count": null,
   "id": "d522286d-e4f5-43a2-8cc2-ae4d139345fe",
   "metadata": {},
   "outputs": [],
   "source": [
    "# Write a pytho program to Find out common letters between two strings\n",
    "\n",
    "str1 = \"NAINA\"\n",
    "str2 = \"REENE\""
   ]
  },
  {
   "cell_type": "code",
   "execution_count": 170,
   "id": "55c0bcfa-99ba-4361-910e-f7c9922832d1",
   "metadata": {},
   "outputs": [
    {
     "data": {
      "text/plain": [
       "{'a', 'l'}"
      ]
     },
     "execution_count": 170,
     "metadata": {},
     "output_type": "execute_result"
    }
   ],
   "source": [
    "str1 = \"Lalit\" #\"NAINA\"\n",
    "str2 = \"Mahale\" #\"REENE\"\n",
    "str1 = set(i for i in str1)\n",
    "str2 = set(i for i in str2)\n",
    "str1.intersection(str2)"
   ]
  },
  {
   "cell_type": "code",
   "execution_count": 173,
   "id": "db5cb2c2-093a-4397-9e7b-8d8589680dc7",
   "metadata": {},
   "outputs": [],
   "source": [
    "# Write a python program to count the frequency of words appearing in a string\n",
    "\n",
    "eg = \"Sheena loves eating apple and mango. Her sister also loves eating apple and mango.\"\n"
   ]
  },
  {
   "cell_type": "code",
   "execution_count": 174,
   "id": "14b0f129-a544-4b63-815d-f6f7c8b75cae",
   "metadata": {},
   "outputs": [
    {
     "data": {
      "text/plain": [
       "{'and': 2,\n",
       " 'her': 1,\n",
       " 'loves': 2,\n",
       " 'apple': 2,\n",
       " 'sister': 1,\n",
       " 'eating': 2,\n",
       " 'mango.': 2,\n",
       " 'sheena': 1,\n",
       " 'also': 1}"
      ]
     },
     "execution_count": 174,
     "metadata": {},
     "output_type": "execute_result"
    }
   ],
   "source": [
    "eg = eg.lower()\n",
    "d = {}\n",
    "for text in set(eg.split()):\n",
    "    d[text] = eg.count(text)\n",
    "d"
   ]
  },
  {
   "cell_type": "code",
   "execution_count": 177,
   "id": "36ed1433-567f-4880-8bea-309f8fd255ed",
   "metadata": {},
   "outputs": [
    {
     "data": {
      "text/plain": [
       "{'Naina': 852345, 'Kimi': 763567, 'sheena': 691276}"
      ]
     },
     "execution_count": 177,
     "metadata": {},
     "output_type": "execute_result"
    }
   ],
   "source": [
    "## write a python program to convert two list into a dictionary\n",
    "\n",
    "lst1 = [\"Naina\",\"Kimi\",\"sheena\"]\n",
    "lst2 = [852345,763567,691276]\n",
    "{key:value for key,value in zip(lst1,lst2)}"
   ]
  },
  {
   "cell_type": "code",
   "execution_count": 178,
   "id": "03d2562d-5148-46f3-aa15-2493e644633b",
   "metadata": {},
   "outputs": [
    {
     "data": {
      "text/plain": [
       "{'Naina': 852345, 'Kimi': 763567, 'sheena': 691276}"
      ]
     },
     "execution_count": 178,
     "metadata": {},
     "output_type": "execute_result"
    }
   ],
   "source": [
    "dict(zip(lst1,lst2))"
   ]
  },
  {
   "cell_type": "markdown",
   "id": "54facbcc-5a23-4b82-b69d-e2f2bf75fbbe",
   "metadata": {},
   "source": [
    "find missing number in an array using summation and XOR operation\n",
    "\n"
   ]
  },
  {
   "cell_type": "code",
   "execution_count": 184,
   "id": "6a788f71-a027-464a-b292-9f1039cc048c",
   "metadata": {},
   "outputs": [
    {
     "data": {
      "text/plain": [
       "3.0"
      ]
     },
     "execution_count": 184,
     "metadata": {},
     "output_type": "execute_result"
    }
   ],
   "source": [
    "# summation \n",
    "lst = [1,2,4,5,6,7]\n",
    "\n",
    "# find the sum of natural number\n",
    "n_sum = (max(lst)*(max(lst)+1))/2\n",
    "sum_list = sum(lst)\n",
    "missing_no = n_sum-sum_list\n",
    "missing_no"
   ]
  },
  {
   "cell_type": "markdown",
   "id": "c9e73f5f-e010-4357-a50f-844c4f3c3285",
   "metadata": {},
   "source": [
    "## Find out pairs with given sum values of an array\n",
    "\n",
    "arr = [5,7,4,3,9,8,19,21]\n",
    "\n",
    "sum = 17"
   ]
  },
  {
   "cell_type": "code",
   "execution_count": 189,
   "id": "ae6d5155-f663-46fe-82d6-90d662525bda",
   "metadata": {},
   "outputs": [
    {
     "name": "stdout",
     "output_type": "stream",
     "text": [
      "4 5\n"
     ]
    }
   ],
   "source": [
    "arr = [5,7,4,3,9,8,19,21]\n",
    "t = 17\n",
    "for idx,no in enumerate(arr):\n",
    "    if t-no in arr:\n",
    "        print(idx,arr.index(t-no))\n",
    "        break\n"
   ]
  },
  {
   "cell_type": "code",
   "execution_count": 187,
   "id": "d187abce-3578-4f42-8090-864b336d370e",
   "metadata": {},
   "outputs": [
    {
     "data": {
      "text/plain": [
       "9"
      ]
     },
     "execution_count": 187,
     "metadata": {},
     "output_type": "execute_result"
    }
   ],
   "source": [
    "arr[4]"
   ]
  },
  {
   "cell_type": "code",
   "execution_count": 188,
   "id": "8d010e4c-242a-441d-a06c-c6cf90af137b",
   "metadata": {},
   "outputs": [
    {
     "data": {
      "text/plain": [
       "52"
      ]
     },
     "execution_count": 188,
     "metadata": {},
     "output_type": "execute_result"
    }
   ],
   "source": [
    "sum([9,27,2,5,9,])"
   ]
  },
  {
   "cell_type": "markdown",
   "id": "6ef87cc2-5741-4629-bace-c807ae0797a7",
   "metadata": {},
   "source": [
    "# find the min difference between two elements of array\n",
    "arr = [5,32,45,4,12,18,25]"
   ]
  },
  {
   "cell_type": "code",
   "execution_count": 191,
   "id": "70e408c6-c1e8-4227-a0d4-78cbaba6ace8",
   "metadata": {},
   "outputs": [
    {
     "data": {
      "text/plain": [
       "1"
      ]
     },
     "execution_count": 191,
     "metadata": {},
     "output_type": "execute_result"
    }
   ],
   "source": [
    "arr = [5,32,45,4,12,18,25]\n",
    "arr.sort()\n",
    "min_dist = 100\n",
    "\n",
    "for i in range(len(arr)-1):\n",
    "    if (arr[i+1] - arr[i]) < min_dist:\n",
    "        min_dist = arr[i+1] - arr[i]\n",
    "min_dist"
   ]
  },
  {
   "cell_type": "markdown",
   "id": "d2d2d48e-a695-4d5a-9fe7-028629cb3bcb",
   "metadata": {},
   "source": [
    "### Postfix Expression\n",
    "\n",
    "arr = [\"2\",'1',\"+\",\"3\",\"*\"]"
   ]
  },
  {
   "cell_type": "code",
   "execution_count": 197,
   "id": "e5178e20-437f-4dda-8349-7b7022851301",
   "metadata": {},
   "outputs": [
    {
     "data": {
      "text/plain": [
       "9"
      ]
     },
     "execution_count": 197,
     "metadata": {},
     "output_type": "execute_result"
    }
   ],
   "source": [
    "arr = [\"2\",'1',\"+\",\"3\",\"*\"]\n",
    "stack = []\n",
    "for i in arr:\n",
    "    if i.isdigit():\n",
    "        stack.append(i)\n",
    "    else:\n",
    "        b = int(stack.pop())\n",
    "        a = int(stack.pop())\n",
    "        if i == \"+\":\n",
    "            stack.append(b+a)\n",
    "        elif i == \"*\":\n",
    "            stack.append(b*a)\n",
    "stack[0]"
   ]
  },
  {
   "cell_type": "markdown",
   "id": "647abb70-8f1e-49e0-8385-cc781ff19433",
   "metadata": {},
   "source": [
    "## Water Tapping\n",
    "\n",
    "**Given \"n\" non negative integers representing an elevation map where the width of each bar is 1. The amount of water that is trapped between these bars after raining**\n",
    "\n",
    "A = [1,0,2,0,1,0,3,1,0,2]\n"
   ]
  },
  {
   "cell_type": "code",
   "execution_count": 201,
   "id": "0821dbd0-4ec6-4d48-b5d1-ff7b3fa156b1",
   "metadata": {},
   "outputs": [],
   "source": [
    "## Find the maximum sum of subarray\n",
    "\n",
    "arr = [4,-3,-2,2,3,1,-2,-3,6,-6,-4,2,1]\n"
   ]
  },
  {
   "cell_type": "code",
   "execution_count": 205,
   "id": "84d2a5ea-e589-4dba-a1df-ef2c70b83ce9",
   "metadata": {},
   "outputs": [
    {
     "name": "stdout",
     "output_type": "stream",
     "text": [
      "7\n"
     ]
    }
   ],
   "source": [
    "def max_subarray_sum(arr):\n",
    "    max_sum = float('-inf')  # Initialize to the smallest possible value\n",
    "    current_sum = 0\n",
    "\n",
    "    for num in arr:\n",
    "        current_sum += num  # Add the current number to the current sum\n",
    "        max_sum = max(max_sum, current_sum)  # Update the maximum sum if current is greater\n",
    "\n",
    "        if current_sum < 0:  # If the current sum becomes negative, reset it to 0\n",
    "            current_sum = 0\n",
    "\n",
    "    return max_sum\n",
    "\n",
    "# Example usage:\n",
    "arr = [4, -3, -2, 2, 3, 1, -2, -3, 6, -6, -4, 2, 1]\n",
    "result = max_subarray_sum(arr)\n",
    "print(result)  # Output: 8\n"
   ]
  },
  {
   "cell_type": "code",
   "execution_count": 206,
   "id": "63fa614f-d765-425a-900c-7982437a1a7c",
   "metadata": {},
   "outputs": [
    {
     "name": "stdout",
     "output_type": "stream",
     "text": [
      "7\n"
     ]
    }
   ],
   "source": [
    "max_sum = float(\"-inf\")\n",
    "curr_sum = 0\n",
    "\n",
    "for no in arr:\n",
    "    curr_sum += no\n",
    "    max_sum = max(max_sum, curr_sum)\n",
    "\n",
    "    if curr_sum < 0:\n",
    "        curr_sum = 0\n",
    "print(max_sum)"
   ]
  },
  {
   "cell_type": "markdown",
   "id": "851a8383-7ce0-405d-8e54-0d164c633ee1",
   "metadata": {},
   "source": [
    "## Rotate the string \n",
    "\n",
    "str1 = \"NETSET\"\n",
    "\n",
    "output = \"TESTEN\""
   ]
  },
  {
   "cell_type": "code",
   "execution_count": 213,
   "id": "772f6f03-147a-4eaf-9d64-31389e216ad9",
   "metadata": {},
   "outputs": [
    {
     "name": "stdout",
     "output_type": "stream",
     "text": [
      "NETSET\n",
      "ETSETN\n",
      "TSETNE\n",
      "SETNET\n",
      "ETNETS\n",
      "TNETSE\n"
     ]
    }
   ],
   "source": [
    "str1 = \"NETSET\"\n",
    "l = len(str1)\n",
    "temp = str1*2\n",
    "for i in range(l):\n",
    "    for j in range(l):\n",
    "        print(temp[i+j],end = \"\")\n",
    "    print()"
   ]
  },
  {
   "cell_type": "markdown",
   "id": "c76d92cc-2e6c-4b2e-8959-efb4b22e9cd2",
   "metadata": {},
   "source": [
    "### First non repeating chracter in a string\n",
    "\n",
    "test = \"NETSETOSNETM\""
   ]
  },
  {
   "cell_type": "code",
   "execution_count": 214,
   "id": "6a168c97-61d7-4a1b-bada-4034be37a690",
   "metadata": {},
   "outputs": [
    {
     "name": "stdout",
     "output_type": "stream",
     "text": [
      "O\n"
     ]
    }
   ],
   "source": [
    "\n",
    "test = \"NETSETOSNETM\"\n",
    "for i in test:\n",
    "    if test.count(i) == 1:\n",
    "        print(i)\n",
    "        break"
   ]
  },
  {
   "cell_type": "markdown",
   "id": "2d49b687-352f-485c-bbd8-7c706203af44",
   "metadata": {},
   "source": [
    "# Multiplication of two number \n",
    "\n",
    "# \"45\" and \"67\""
   ]
  },
  {
   "cell_type": "markdown",
   "id": "898e66e7-00fc-4910-8269-eb8ab2853261",
   "metadata": {},
   "source": [
    "## Find the substring\n",
    "\n",
    "## Pascal Triangle\n",
    "\n",
    "## \n"
   ]
  },
  {
   "cell_type": "markdown",
   "id": "7779cd1b-af30-4c0e-a837-e37d41e98dd5",
   "metadata": {},
   "source": [
    "## Given a string. Extract all the number in the string and return the numbers as a list\n",
    "\n",
    "Input:\n",
    "\n",
    "str1 = \"I am 89 Year old. My father name is 120\"\n",
    "\n",
    "output = [89,120]"
   ]
  },
  {
   "cell_type": "code",
   "execution_count": 16,
   "id": "61a38f4b-703f-44e6-acd6-91b2ca84516e",
   "metadata": {},
   "outputs": [
    {
     "data": {
      "text/plain": [
       "['89', '120']"
      ]
     },
     "execution_count": 16,
     "metadata": {},
     "output_type": "execute_result"
    }
   ],
   "source": [
    "import re\n",
    "str1 = \"I am 89 Year old. My father name is 120\"\n",
    "re.findall(r\"\\d+\",str1)"
   ]
  },
  {
   "cell_type": "code",
   "execution_count": 21,
   "id": "d202401f-5591-49e6-b4e8-ec13d4bd6142",
   "metadata": {},
   "outputs": [],
   "source": [
    "# swap the number \n",
    "no = 198\n",
    "temp = no\n",
    "resv = 0\n",
    "while temp != 0:\n",
    "    resv = resv*10 + temp%10\n",
    "    temp //=10\n",
    "    \n",
    "resv"
   ]
  },
  {
   "cell_type": "code",
   "execution_count": 24,
   "id": "1a457024",
   "metadata": {},
   "outputs": [
    {
     "data": {
      "text/plain": [
       "'Not prime'"
      ]
     },
     "execution_count": 24,
     "metadata": {},
     "output_type": "execute_result"
    }
   ],
   "source": [
    "# check no is prime or  not\n",
    "\n",
    "no = 17\n",
    "\n",
    "def check_prime(no):\n",
    "    for i in range(0,no//2):\n",
    "        if no%1 ==0:\n",
    "            return(\"Not prime\")\n",
    "        \n",
    "    return (\"It is prime\")\n",
    "check_prime(no)"
   ]
  },
  {
   "cell_type": "code",
   "execution_count": 25,
   "id": "7e8daffc",
   "metadata": {},
   "outputs": [
    {
     "data": {
      "text/plain": [
       "120"
      ]
     },
     "execution_count": 25,
     "metadata": {},
     "output_type": "execute_result"
    }
   ],
   "source": [
    "## find factorial of a number \n",
    "from math import factorial\n",
    "\n",
    "factorial(5)"
   ]
  },
  {
   "cell_type": "code",
   "execution_count": 26,
   "id": "5e977b3e",
   "metadata": {},
   "outputs": [
    {
     "data": {
      "text/plain": [
       "120"
      ]
     },
     "execution_count": 26,
     "metadata": {},
     "output_type": "execute_result"
    }
   ],
   "source": [
    "## or \n",
    "no = 5\n",
    "fact  = 1\n",
    "while no!= 0:\n",
    "    fact *= no\n",
    "    no -=1\n",
    "fact"
   ]
  },
  {
   "cell_type": "code",
   "execution_count": 28,
   "id": "b471fcc5",
   "metadata": {},
   "outputs": [
    {
     "data": {
      "text/plain": [
       "120"
      ]
     },
     "execution_count": 28,
     "metadata": {},
     "output_type": "execute_result"
    }
   ],
   "source": [
    "## or \n",
    "no = 5\n",
    "fact  = 1\n",
    "if no < 0:\n",
    "    fact = 0\n",
    "else:\n",
    "    for i in range(1,no+1):\n",
    "        fact *= i\n",
    "fact"
   ]
  },
  {
   "cell_type": "code",
   "execution_count": 29,
   "id": "a47a8b20",
   "metadata": {},
   "outputs": [
    {
     "data": {
      "text/plain": [
       "[0, 1, 1, 2, 3, 5, 8, 13, 21, 34]"
      ]
     },
     "execution_count": 29,
     "metadata": {},
     "output_type": "execute_result"
    }
   ],
   "source": [
    "# fibonnachi series\n",
    "lst = [0,1]\n",
    "no = 10\n",
    "while len(lst) != no:\n",
    "    f = lst[-1]+lst[-2]\n",
    "    lst.append(f)\n",
    "lst"
   ]
  },
  {
   "cell_type": "code",
   "execution_count": 33,
   "id": "e91e2831",
   "metadata": {},
   "outputs": [
    {
     "data": {
      "text/plain": [
       "[0, 1, 1, 2, 3, 5, 8, 13, 21, 34]"
      ]
     },
     "execution_count": 33,
     "metadata": {},
     "output_type": "execute_result"
    }
   ],
   "source": [
    "lst = [0,1]\n",
    "no = 10\n",
    "\n",
    "for i in range(2,no):\n",
    "    lst.append(lst[-1]+lst[-2])\n",
    "(lst)"
   ]
  },
  {
   "cell_type": "code",
   "execution_count": 35,
   "id": "14279b64",
   "metadata": {},
   "outputs": [
    {
     "data": {
      "text/plain": [
       "(58, 1)"
      ]
     },
     "execution_count": 35,
     "metadata": {},
     "output_type": "execute_result"
    }
   ],
   "source": [
    "# find the maximum and min without using max and min \n",
    "arr = [10,20,4,1,12,58,3]\n",
    "maxi = 0\n",
    "mini = 1000\n",
    "\n",
    "for i in arr:\n",
    "    if maxi < i:\n",
    "        maxi = i\n",
    "    elif mini > i :\n",
    "        mini = i\n",
    "maxi,mini"
   ]
  },
  {
   "cell_type": "code",
   "execution_count": 40,
   "id": "60f6fa55",
   "metadata": {},
   "outputs": [
    {
     "data": {
      "text/plain": [
       "5"
      ]
     },
     "execution_count": 40,
     "metadata": {},
     "output_type": "execute_result"
    }
   ],
   "source": [
    "# find the length of list without using len\n",
    "\n",
    "arr = [10,20,30,40,50]\n",
    "lenght  = 0\n",
    "for i in arr:\n",
    "    lenght += 1\n",
    "lenght"
   ]
  },
  {
   "cell_type": "code",
   "execution_count": 41,
   "id": "57aadb33",
   "metadata": {},
   "outputs": [],
   "source": [
    "## swap the first and last element in the list \n",
    "arr  = [12,35,9,56,24]\n",
    "arr[0],arr[-1] = arr[-1],arr[0]"
   ]
  },
  {
   "cell_type": "code",
   "execution_count": 42,
   "id": "9a81b685",
   "metadata": {},
   "outputs": [
    {
     "data": {
      "text/plain": [
       "[24, 35, 9, 56, 12]"
      ]
     },
     "execution_count": 42,
     "metadata": {},
     "output_type": "execute_result"
    }
   ],
   "source": [
    "arr"
   ]
  },
  {
   "cell_type": "code",
   "execution_count": 49,
   "id": "71992412",
   "metadata": {},
   "outputs": [
    {
     "data": {
      "text/plain": [
       "['geeks', 'for']"
      ]
     },
     "execution_count": 49,
     "metadata": {},
     "output_type": "execute_result"
    }
   ],
   "source": [
    "## remove the Nth occurance of the give word \n",
    "\n",
    "lst = [\"geeks\",\"for\",\"geeks\"]\n",
    "word = \"geeks\" \n",
    "n = 2\n",
    "\n",
    "lst.pop(2)\n",
    "lst"
   ]
  },
  {
   "cell_type": "code",
   "execution_count": 50,
   "id": "9db2f0f4",
   "metadata": {},
   "outputs": [],
   "source": [
    "lst = [\"geeks\",\"for\",\"geeks\"]\n",
    "lst.clear()"
   ]
  },
  {
   "cell_type": "code",
   "execution_count": 51,
   "id": "70182bba",
   "metadata": {},
   "outputs": [
    {
     "data": {
      "text/plain": [
       "[]"
      ]
     },
     "execution_count": 51,
     "metadata": {},
     "output_type": "execute_result"
    }
   ],
   "source": [
    "lst"
   ]
  },
  {
   "cell_type": "markdown",
   "id": "fe8446d2",
   "metadata": {},
   "source": [
    "### Pattern questions\n"
   ]
  },
  {
   "cell_type": "raw",
   "id": "c9c2fa84",
   "metadata": {},
   "source": [
    "a) \n",
    "\n",
    "*\n",
    "**\n",
    "***\n",
    "****\n",
    "*****\n"
   ]
  },
  {
   "cell_type": "code",
   "execution_count": 52,
   "id": "746e0bf1",
   "metadata": {},
   "outputs": [
    {
     "name": "stdout",
     "output_type": "stream",
     "text": [
      "*\n",
      "**\n",
      "***\n",
      "****\n",
      "*****\n"
     ]
    }
   ],
   "source": [
    "no = 5\n",
    "for i in range(1,no+1):\n",
    "    print(i*\"*\")"
   ]
  },
  {
   "cell_type": "code",
   "execution_count": 65,
   "id": "134da463",
   "metadata": {},
   "outputs": [
    {
     "name": "stdout",
     "output_type": "stream",
     "text": [
      "*\n",
      "**\n",
      "***\n",
      "****\n",
      "***\n",
      "**\n",
      "*\n"
     ]
    }
   ],
   "source": [
    "# *\n",
    "# **\n",
    "# ***\n",
    "# **\n",
    "# *\n",
    "\n",
    "no = 5\n",
    "\n",
    "for i in range(1,no):\n",
    "    print(\"*\"*i)\n",
    "for j in range(2,no):\n",
    "    print(\"*\"*(no-j))"
   ]
  },
  {
   "cell_type": "code",
   "execution_count": 93,
   "id": "1a0c35ec",
   "metadata": {},
   "outputs": [
    {
     "name": "stdout",
     "output_type": "stream",
     "text": [
      "     * \n",
      "    * * \n",
      "   * * * \n",
      "  * * * * \n",
      " * * * * * \n",
      "  * * * * \n",
      "   * * * \n",
      "    * * \n",
      "     * \n"
     ]
    }
   ],
   "source": [
    "for i in range(1,no):\n",
    "    print(\" \"*(no-i),\"* \"*i)\n",
    "# for j in range(1,no+1):\n",
    "#     print(\"*\"*(no-j+1),\" \"*(j))\n",
    "for j in reversed(range(1,no+1)):\n",
    "    print(\" \"*(no-j),\"* \"*(j))"
   ]
  },
  {
   "cell_type": "code",
   "execution_count": 109,
   "id": "a603e876",
   "metadata": {},
   "outputs": [
    {
     "name": "stdout",
     "output_type": "stream",
     "text": [
      "    *\n",
      "   **\n",
      "  ***\n",
      " ****\n",
      "*****\n",
      " ****\n",
      "  ***\n",
      "   **\n",
      "    *\n"
     ]
    }
   ],
   "source": [
    "n = 5\n",
    "for i in range(1, n + 1):\n",
    "    print(' ' * (n - i) + '*' * i)\n",
    "\n",
    "# Lower part of the pattern (decreasing)\n",
    "for i in range(n - 1, 0, -1):\n",
    "    print(' ' * (n - i) + '*' * i)"
   ]
  },
  {
   "cell_type": "code",
   "execution_count": 110,
   "id": "a91397c1",
   "metadata": {},
   "outputs": [
    {
     "name": "stdout",
     "output_type": "stream",
     "text": [
      "    *\n",
      "   ***\n",
      "  *****\n",
      " *******\n",
      "*********\n",
      " *******\n",
      "  *****\n",
      "   ***\n",
      "    *\n"
     ]
    }
   ],
   "source": [
    "def print_diamond(n):\n",
    "    # Upper part of the diamond\n",
    "    for i in range(1, n + 1):\n",
    "        print(' ' * (n - i) + '*' * (2 * i - 1))\n",
    "    \n",
    "    # Lower part of the diamond\n",
    "    for i in range(n - 1, 0, -1):\n",
    "        print(' ' * (n - i) + '*' * (2 * i - 1))\n",
    "print_diamond(5)"
   ]
  },
  {
   "cell_type": "code",
   "execution_count": null,
   "id": "64409066",
   "metadata": {},
   "outputs": [],
   "source": [
    "[1,2,3,4,5,6,7,8,9,10]"
   ]
  },
  {
   "cell_type": "code",
   "execution_count": 2,
   "id": "7c54216f-8f61-46ee-962f-4d955d3d7a70",
   "metadata": {},
   "outputs": [
    {
     "ename": "ValueError",
     "evalue": "list.remove(x): x not in list",
     "output_type": "error",
     "traceback": [
      "\u001b[1;31m---------------------------------------------------------------------------\u001b[0m",
      "\u001b[1;31mValueError\u001b[0m                                Traceback (most recent call last)",
      "Cell \u001b[1;32mIn[2], line 9\u001b[0m\n\u001b[0;32m      7\u001b[0m         stack\u001b[38;5;241m.\u001b[39mappend(i)\n\u001b[0;32m      8\u001b[0m     \u001b[38;5;28;01melif\u001b[39;00m i \u001b[38;5;129;01min\u001b[39;00m dic\u001b[38;5;241m.\u001b[39mvalues():\n\u001b[1;32m----> 9\u001b[0m         \u001b[43mstack\u001b[49m\u001b[38;5;241;43m.\u001b[39;49m\u001b[43mremove\u001b[49m\u001b[43m(\u001b[49m\u001b[43mi\u001b[49m\u001b[43m)\u001b[49m\n\u001b[0;32m     10\u001b[0m \u001b[38;5;124m\"\u001b[39m\u001b[38;5;124mUnbalanced\u001b[39m\u001b[38;5;124m\"\u001b[39m \u001b[38;5;28;01mif\u001b[39;00m stack \u001b[38;5;28;01melse\u001b[39;00m \u001b[38;5;124m\"\u001b[39m\u001b[38;5;124mbalanced\u001b[39m\u001b[38;5;124m\"\u001b[39m\n",
      "\u001b[1;31mValueError\u001b[0m: list.remove(x): x not in list"
     ]
    }
   ],
   "source": [
    "Input = \"{[{}]{(})}}\"\n",
    "\n",
    "dic = {\"[\":\"]\",\"(\":\")\",\"{\":\"}\"}\n",
    "stack = []\n",
    "for i in Input:\n",
    "    if i in dic.keys():\n",
    "        stack.append(i)\n",
    "    elif i in dic.values():\n",
    "        stack.remove(i)\n",
    "\"Unbalanced\" if stack else \"balanced\"\n"
   ]
  },
  {
   "cell_type": "code",
   "execution_count": null,
   "id": "37f8b39f-bd09-4de9-b3ef-d61f35e48de7",
   "metadata": {},
   "outputs": [],
   "source": []
  }
 ],
 "metadata": {
  "kernelspec": {
   "display_name": "Python 3 (ipykernel)",
   "language": "python",
   "name": "python3"
  },
  "language_info": {
   "codemirror_mode": {
    "name": "ipython",
    "version": 3
   },
   "file_extension": ".py",
   "mimetype": "text/x-python",
   "name": "python",
   "nbconvert_exporter": "python",
   "pygments_lexer": "ipython3",
   "version": "3.12.1"
  }
 },
 "nbformat": 4,
 "nbformat_minor": 5
}
