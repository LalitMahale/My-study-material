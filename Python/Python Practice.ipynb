{
 "cells": [
  {
   "cell_type": "raw",
   "id": "91136d1a",
   "metadata": {},
   "source": [
    "1. Subtracting 1 from Each Element in a List \n",
    "Problem: Given a list 1st with elements [2, 33,222, 14, 25], you want to subtract 1 \n",
    "from each element in the list. "
   ]
  },
  {
   "cell_type": "code",
   "execution_count": 10,
   "id": "1f9babc6",
   "metadata": {},
   "outputs": [
    {
     "name": "stdout",
     "output_type": "stream",
     "text": [
      "first way : [1, 32, 221, 13, 24] \n",
      "second way: [1, 32, 221, 13, 24]\n"
     ]
    }
   ],
   "source": [
    "lst = [2, 33,222, 14, 25]\n",
    "\n",
    "first_way  = list(map(lambda x : x-1 , lst))\n",
    "\n",
    "second_way = [i-1 for i in lst]\n",
    "\n",
    "print(f\"first way : {first_way} \\nsecond way: {second_way}\")"
   ]
  },
  {
   "cell_type": "raw",
   "id": "1f843c34",
   "metadata": {},
   "source": [
    "2. Printing Odd Numbers Between O and 100 \n",
    "Problem: You want to pri nt the odd num bers between 0 and 100 in Python \n",
    "using list comprehension. "
   ]
  },
  {
   "cell_type": "code",
   "execution_count": 13,
   "id": "ad7d6a02",
   "metadata": {},
   "outputs": [],
   "source": [
    "lst = [i for i in range(100) if i%2 != 0]"
   ]
  },
  {
   "cell_type": "raw",
   "id": "ce2885c8",
   "metadata": {},
   "source": [
    "3. Finding Unique Values in a List \n",
    "Problem: You have a list 1st containing several values, and you want to extract \n",
    "only the unique values from the list."
   ]
  },
  {
   "cell_type": "code",
   "execution_count": null,
   "id": "d96fdaaa",
   "metadata": {},
   "outputs": [],
   "source": [
    "lst = [ 1, 2, 3, ti , ti , 6 , 7, 3, ti, 5, 2, 7]"
   ]
  }
 ],
 "metadata": {
  "kernelspec": {
   "display_name": "Python 3 (ipykernel)",
   "language": "python",
   "name": "python3"
  },
  "language_info": {
   "codemirror_mode": {
    "name": "ipython",
    "version": 3
   },
   "file_extension": ".py",
   "mimetype": "text/x-python",
   "name": "python",
   "nbconvert_exporter": "python",
   "pygments_lexer": "ipython3",
   "version": "3.11.5"
  }
 },
 "nbformat": 4,
 "nbformat_minor": 5
}
