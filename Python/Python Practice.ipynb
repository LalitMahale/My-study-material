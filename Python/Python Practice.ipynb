{
 "cells": [
  {
   "cell_type": "raw",
   "id": "184e2214",
   "metadata": {},
   "source": [
    "1. Subtracting 1 from Each Element in a List \n",
    "Problem: Given a list 1st with elements [2, 33,222, 14, 25], you want to subtract 1 \n",
    "from each element in the list. "
   ]
  },
  {
   "cell_type": "code",
   "execution_count": 10,
   "id": "e81d9190",
   "metadata": {},
   "outputs": [
    {
     "name": "stdout",
     "output_type": "stream",
     "text": [
      "first way : [1, 32, 221, 13, 24] \n",
      "second way: [1, 32, 221, 13, 24]\n"
     ]
    }
   ],
   "source": [
    "lst = [2, 33,222, 14, 25]\n",
    "\n",
    "first_way  = list(map(lambda x : x-1 , lst))\n",
    "\n",
    "second_way = [i-1 for i in lst]\n",
    "\n",
    "print(f\"first way : {first_way} \\nsecond way: {second_way}\")"
   ]
  },
  {
   "cell_type": "raw",
   "id": "b5b6d4ab",
   "metadata": {},
   "source": [
    "2. Printing Odd Numbers Between O and 100 \n",
    "Problem: You want to pri nt the odd num bers between 0 and 100 in Python \n",
    "using list comprehension. "
   ]
  },
  {
   "cell_type": "code",
   "execution_count": 13,
   "id": "5a9e8c08",
   "metadata": {},
   "outputs": [],
   "source": [
    "lst = [i for i in range(100) if i%2 != 0]"
   ]
  },
  {
   "cell_type": "raw",
   "id": "b090c584",
   "metadata": {},
   "source": [
    "3. Finding Unique Values in a List \n",
    "Problem: You have a list 1st containing several values, and you want to extract \n",
    "only the unique values from the list."
   ]
  },
  {
   "cell_type": "code",
   "execution_count": 18,
   "id": "e107f792",
   "metadata": {},
   "outputs": [
    {
     "data": {
      "text/plain": [
       "[None, None, None, None, None, None, None]"
      ]
     },
     "execution_count": 18,
     "metadata": {},
     "output_type": "execute_result"
    }
   ],
   "source": [
    "lst = [ 1, 2, 3, \"ti\" , \"ti\" , 6 , 7, 3, \"ti\", 5, 2, 7]\n",
    "\n",
    "lst1 = []\n",
    "[lst1.append(i) for i in lst if i not in lst1]"
   ]
  },
  {
   "cell_type": "markdown",
   "id": "15d3f7e7-ec77-4719-90b5-a4b08413af87",
   "metadata": {},
   "source": [
    "## What is difference between sort and sorted in python"
   ]
  },
  {
   "cell_type": "code",
   "execution_count": 2,
   "id": "24adf135-c221-49b6-ba7e-ac11b3d4f92a",
   "metadata": {},
   "outputs": [
    {
     "data": {
      "text/plain": [
       "25"
      ]
     },
     "execution_count": 2,
     "metadata": {},
     "output_type": "execute_result"
    }
   ],
   "source": [
    "701%26"
   ]
  },
  {
   "cell_type": "code",
   "execution_count": 15,
   "id": "04743beb",
   "metadata": {},
   "outputs": [
    {
     "name": "stdout",
     "output_type": "stream",
     "text": [
      "25\n",
      "25\n",
      "25\n",
      "25\n",
      "25\n",
      "25\n",
      "25\n",
      "25\n",
      "25\n",
      "25\n"
     ]
    }
   ],
   "source": [
    "n = 701\n",
    "temp = n \n",
    "count = 0\n",
    "for i in range(10):\n",
    "    count += 1\n",
    "    "
   ]
  },
  {
   "cell_type": "code",
   "execution_count": null,
   "id": "95161a2c",
   "metadata": {},
   "outputs": [],
   "source": []
  }
 ],
 "metadata": {
  "kernelspec": {
   "display_name": "Python 3 (ipykernel)",
   "language": "python",
   "name": "python3"
  },
  "language_info": {
   "codemirror_mode": {
    "name": "ipython",
    "version": 3
   },
   "file_extension": ".py",
   "mimetype": "text/x-python",
   "name": "python",
   "nbconvert_exporter": "python",
   "pygments_lexer": "ipython3",
   "version": "3.12.1"
  }
 },
 "nbformat": 4,
 "nbformat_minor": 5
}
