{
 "cells": [
  {
   "cell_type": "markdown",
   "id": "9f238c1e-012d-462f-ade0-e94003db8117",
   "metadata": {},
   "source": [
    "## _What is the difference between a module and a package?\n",
    "#### **Defination :-**\n",
    "- Module is a single file which contain python code.\n",
    "\n",
    "- Package is a directory or folder which contains multiple modules and ____init ____.py file\n",
    "\n",
    "\n",
    "## Python is a compiled language or Interpreted language?\n",
    "- Python is primarily an **Interpreted** language. this means python excute the code line by line at runtime, rather than being compiled into machine code beforehand like in compiled language.\n",
    "\n"
   ]
  },
  {
   "cell_type": "markdown",
   "id": "9834c055-6e73-4808-abe6-06f32c527601",
   "metadata": {},
   "source": [
    "## 1 . What is difference between List and Tuple \n",
    "- List is a **Mutable** where as Tuple is **immutable** means in list after declare we can add, remove, update the element but in tuple we can not.\n",
    "\n",
    "- **Syntax:-** List is define by square bracket **[]** and tuple is round bracket **()**\n",
    "  \n",
    "List = [\"a\",\"b\"]\n",
    "\n",
    "Tuple = (\"a\",\"b\")\n",
    "\n",
    "- **Iteration:** Tuple is fast in iteration but list is slow as compaire to tuple.\n",
    "\n",
    "- **Memory**: Tuple take less memory as compair to list\n",
    "\n",
    "\n",
    "## 2. What is decorator and explain with example?\n",
    "\n",
    "- A decorator is a **function** that take **another functions** as an **arguments**, **add some kind of functionallity** and then return another funtion.\n",
    "\n",
    "```\n",
    "def lalit(fun):\n",
    "    print(\"Hi this is lalit\")\n",
    "    return fun\n",
    "\n",
    "@lalit\n",
    "def fine():\n",
    "    print(\"No not\")\n",
    "\n",
    "fine()\n",
    "\n",
    "Output :\n",
    "\n",
    "Hi this is lalit\n",
    "\n",
    "No not\n",
    "\n",
    "```\n",
    "\n",
    "## 3. Difference Between Generators And Iterators\n",
    "\n"
   ]
  },
  {
   "cell_type": "code",
   "execution_count": 4,
   "id": "ad0aec05-1a88-4435-bd6e-ef98b5d9f310",
   "metadata": {},
   "outputs": [
    {
     "name": "stdout",
     "output_type": "stream",
     "text": [
      "Hi this is lalit\n",
      "No not\n"
     ]
    }
   ],
   "source": [
    "def lalit(fun):\n",
    "    print(\"Hi this is lalit\")\n",
    "    return fun\n",
    "\n",
    "@lalit\n",
    "def fine():\n",
    "    print(\"No not\")\n",
    "\n",
    "fine()"
   ]
  },
  {
   "cell_type": "code",
   "execution_count": null,
   "id": "2ad04384-13ef-4d1a-ac63-9d8638cb0c86",
   "metadata": {},
   "outputs": [],
   "source": []
  }
 ],
 "metadata": {
  "kernelspec": {
   "display_name": "Python 3 (ipykernel)",
   "language": "python",
   "name": "python3"
  },
  "language_info": {
   "codemirror_mode": {
    "name": "ipython",
    "version": 3
   },
   "file_extension": ".py",
   "mimetype": "text/x-python",
   "name": "python",
   "nbconvert_exporter": "python",
   "pygments_lexer": "ipython3",
   "version": "3.12.2"
  }
 },
 "nbformat": 4,
 "nbformat_minor": 5
}
