{
 "cells": [
  {
   "cell_type": "markdown",
   "id": "3d107334",
   "metadata": {},
   "source": [
    "https://www.youtube.com/watch?v=fdn9oKAqzmI&list=PLUDwpEzHYYLv0iZsTx4dm-v-icoVXRqrz&ab_channel=SDET-QA\n",
    "\n",
    "https://www.youtube.com/watch?v=g56e2YowN38&list=PLFV6T8f5WU2FRO_Hu7q9b18yB1P98NSZd&ab_channel=nETSETOS\n",
    "\n",
    "imp\n",
    "https://www.youtube.com/watch?v=l0N8rm4Cl7g&list=PLI4OVrCFuY54S0RMuEYAgF2WguzROM1w3&index=1&ab_channel=Code-yug"
   ]
  },
  {
   "cell_type": "code",
   "execution_count": null,
   "id": "f0b13a15",
   "metadata": {},
   "outputs": [],
   "source": [
    "changes "
   ]
  },
  {
   "cell_type": "code",
   "execution_count": 9,
   "id": "95cdb130",
   "metadata": {},
   "outputs": [
    {
     "name": "stdout",
     "output_type": "stream",
     "text": [
      "oldest: 60\n"
     ]
    }
   ],
   "source": [
    "# 1. User will input 3 ages fine the oldest one\n",
    "a,b,c = 50,55,60\n",
    "if a>b and a>c:\n",
    "    print(\"Oldest\",a)\n",
    "elif b>a and b > c:\n",
    "    print(\"Oldest b :\",b)\n",
    "else:\n",
    "    print(\"oldest:\",c)"
   ]
  },
  {
   "cell_type": "code",
   "execution_count": 10,
   "id": "85180bbd",
   "metadata": {},
   "outputs": [
    {
     "name": "stdout",
     "output_type": "stream",
     "text": [
      "Oldest: 60\n"
     ]
    }
   ],
   "source": [
    "print(f\"Oldest: {a}\" if a > b and a > c else f\"Oldest: {b}\" if b > a and b > c else f\"Oldest: {c}\")"
   ]
  },
  {
   "cell_type": "code",
   "execution_count": 31,
   "id": "297e3e4f",
   "metadata": {},
   "outputs": [
    {
     "data": {
      "text/plain": [
       "531"
      ]
     },
     "execution_count": 31,
     "metadata": {},
     "output_type": "execute_result"
    }
   ],
   "source": [
    "## reverse a number\n",
    "no = 135\n",
    "reverse = 0\n",
    "while no != 0:\n",
    "    reverse = reverse *10 + no %10\n",
    "    no //= 10\n",
    "reverse"
   ]
  },
  {
   "cell_type": "code",
   "execution_count": 34,
   "id": "74c29094",
   "metadata": {},
   "outputs": [
    {
     "data": {
      "text/plain": [
       "14"
      ]
     },
     "execution_count": 34,
     "metadata": {},
     "output_type": "execute_result"
    }
   ],
   "source": [
    "# give the sum of three digit \n",
    "\n",
    "no = 1355\n",
    "sums = 0\n",
    "\n",
    "while no != 0:\n",
    "    sums += no%10\n",
    "    no//=10\n",
    "sums"
   ]
  },
  {
   "cell_type": "code",
   "execution_count": null,
   "id": "a9da7d28",
   "metadata": {},
   "outputs": [],
   "source": []
  }
 ],
 "metadata": {
  "kernelspec": {
   "display_name": "Python 3 (ipykernel)",
   "language": "python",
   "name": "python3"
  },
  "language_info": {
   "codemirror_mode": {
    "name": "ipython",
    "version": 3
   },
   "file_extension": ".py",
   "mimetype": "text/x-python",
   "name": "python",
   "nbconvert_exporter": "python",
   "pygments_lexer": "ipython3",
   "version": "3.12.1"
  }
 },
 "nbformat": 4,
 "nbformat_minor": 5
}
