{
 "cells": [
  {
   "cell_type": "raw",
   "id": "0f9c27b3",
   "metadata": {},
   "source": [
    "Q1. Convert a given string to int using a single line of code."
   ]
  },
  {
   "cell_type": "raw",
   "id": "a37ed01e",
   "metadata": {},
   "source": [
    "Q2. Write a code snippet to convert a string to a list.\n",
    "str1 = \"Analytics Vidhya\"\n"
   ]
  },
  {
   "cell_type": "raw",
   "id": "237e9d0d",
   "metadata": {},
   "source": [
    "Q3. Write a code snippet to reverse a string.\n"
   ]
  },
  {
   "cell_type": "raw",
   "id": "0af8fa3a",
   "metadata": {},
   "source": [
    "Q4. Write a code snippet to sort a list in Python.\n",
    "my_list = [3, 2, 1]\n"
   ]
  },
  {
   "cell_type": "raw",
   "id": "97de6da7",
   "metadata": {},
   "source": [
    "Q8. Discuss different ways of deleting an element from a list.\n",
    "\n",
    "list1 = [1, 2, 3, 4]\n"
   ]
  },
  {
   "cell_type": "raw",
   "id": "7f0be731",
   "metadata": {},
   "source": [
    "Q9. Write a code snippet to delete an entire list.\n",
    "list1 = [1, 2, 3, 4]\n"
   ]
  },
  {
   "cell_type": "raw",
   "id": "e5ab3c72",
   "metadata": {},
   "source": [
    "Q10. Write a code snippet to reverse an array.\n",
    "\n",
    "\n",
    "arr1 = np.array([1, 2, 3, 4])"
   ]
  },
  {
   "cell_type": "raw",
   "id": "dc35bc75",
   "metadata": {},
   "source": []
  },
  {
   "cell_type": "raw",
   "id": "160e4b81",
   "metadata": {},
   "source": []
  },
  {
   "cell_type": "raw",
   "id": "31b85201",
   "metadata": {},
   "source": []
  },
  {
   "cell_type": "raw",
   "id": "5379a441",
   "metadata": {},
   "source": []
  },
  {
   "cell_type": "raw",
   "id": "bd236bf2",
   "metadata": {},
   "source": []
  },
  {
   "cell_type": "raw",
   "id": "1b17d583",
   "metadata": {},
   "source": []
  },
  {
   "cell_type": "raw",
   "id": "a0d55f51",
   "metadata": {},
   "source": []
  },
  {
   "cell_type": "raw",
   "id": "c2b197db",
   "metadata": {},
   "source": []
  },
  {
   "cell_type": "raw",
   "id": "83bc23d2",
   "metadata": {},
   "source": []
  },
  {
   "cell_type": "raw",
   "id": "94def9f7",
   "metadata": {},
   "source": []
  },
  {
   "cell_type": "raw",
   "id": "03607ca8",
   "metadata": {},
   "source": []
  },
  {
   "cell_type": "raw",
   "id": "af0919dc",
   "metadata": {},
   "source": []
  },
  {
   "cell_type": "raw",
   "id": "4b3300c4",
   "metadata": {},
   "source": []
  },
  {
   "cell_type": "raw",
   "id": "60337355",
   "metadata": {},
   "source": []
  },
  {
   "cell_type": "raw",
   "id": "74eb3da8",
   "metadata": {},
   "source": []
  },
  {
   "cell_type": "raw",
   "id": "8c8ea93c",
   "metadata": {},
   "source": []
  },
  {
   "cell_type": "raw",
   "id": "3aadb8d8",
   "metadata": {},
   "source": []
  },
  {
   "cell_type": "raw",
   "id": "874f7721",
   "metadata": {},
   "source": []
  },
  {
   "cell_type": "raw",
   "id": "a972ef83",
   "metadata": {},
   "source": []
  },
  {
   "cell_type": "raw",
   "id": "7a6912aa",
   "metadata": {},
   "source": []
  },
  {
   "cell_type": "raw",
   "id": "3a8715df",
   "metadata": {},
   "source": []
  },
  {
   "cell_type": "raw",
   "id": "1d806df8",
   "metadata": {},
   "source": []
  }
 ],
 "metadata": {
  "kernelspec": {
   "display_name": "Python 3 (ipykernel)",
   "language": "python",
   "name": "python3"
  },
  "language_info": {
   "codemirror_mode": {
    "name": "ipython",
    "version": 3
   },
   "file_extension": ".py",
   "mimetype": "text/x-python",
   "name": "python",
   "nbconvert_exporter": "python",
   "pygments_lexer": "ipython3",
   "version": "3.11.5"
  }
 },
 "nbformat": 4,
 "nbformat_minor": 5
}
