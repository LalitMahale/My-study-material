{
 "cells": [
  {
   "attachments": {
    "4b37f9e4-4749-4ba2-87f0-539ab2282520.png": {
     "image/png": "[encoded data removed]"
    },
    "f4801b70-7725-4813-a938-86f8bc662011.png": {
     "image/png": "[encoded data removed]"
    }
   },
   "cell_type": "markdown",
   "id": "c75b08ff-e67e-4ff2-b4ce-6618ee007b37",
   "metadata": {},
   "source": [
    "## Why do we need Evaluation or Performance metrics:\n",
    "so After training any kind of model where it is from NLP or Machine Learning or Deep Learning we have to evaluate their performance. How the model is performing base on certain criteria. By using those metrics we can tell how model will perform on actual data. \n",
    "\n",
    "## There are two Kind of problems **Classification** and **Regression**\n",
    "### **Classification** : \n",
    "In classification evaluation metrics used to indicate or tell that how model is correctly predicting a class. it can me **binary** classification or **multiclass** classification.\n",
    "\n",
    "For classification we used **Confusion Metrics**.\n",
    "\n",
    "**1. True Positive :-** When the both actual value and predicted value are Positive.\n",
    "\n",
    "**2. True Negative :-** When the both actual value and predicted value are Negative.\n",
    "\n",
    "**3. False Positive :-** When the predicted value is Positive but the actual Value is Negative.\n",
    "\n",
    "**4. False Negative :-** When the predicted value is Negative but the actual value is Positive.\n",
    "\n",
    "**Example:-**\n",
    "Lets take an example of cancer prediction where we have to predict whether a patient have cancer or not.\n",
    "\n",
    "TP : so lets assume there are 10 patient have cancer and model predicted all 10.\n",
    "\n",
    "TN : in this scenario 490 are people don't have cancel and model predicted correctly \n",
    "\n",
    "FP : in flase positive case model is predicting 15 as a positive but in actual only 10 are positive.\n",
    "\n",
    "FN : in false negative case model is predicting only 5 or 10 but in actually there are 490\n",
    "\n",
    "![image.png](attachment:4b37f9e4-4749-4ba2-87f0-539ab2282520.png) \n",
    "\n",
    "##  Accuracy :-\n",
    "accuracy shows how many percetange model is correctly predicted.\n",
    "\n",
    "**Accuracy = No of correct prediction / no of row or data point**   *OR*  _____ **(TF + TN )/Total no of rows**\n",
    "\n",
    "- Accuracy is good when we have balance classes or data. but when classes are imbalance it is not reliable metrics. so if the data is imblance rather than taking decision by accuracy we have to check some other metrics.\n",
    "\n",
    "##  Precision :-\n",
    "precision indicates the out of all positive prediction how many are actually positive. \n",
    "\n",
    "**Precision = True positive / True positive + False positive**   *OR*  _____ **TP / (TP + FP)**\n",
    "\n",
    "- the value near to 0 is shows low precision and near to 1 shows good and higher precision\n",
    "\n",
    "##  Recall :-\n",
    "Recall indicated tha from all positive values how many correctly predicted by model.\n",
    "\n",
    "**Recall = True positive / True positive + False Negative**   *OR*  _____ **TP / (TP + FN)**\n",
    "\n",
    "- the value near to 0 is shows low recall and near to 1 shows good and higher recall\n",
    "\n",
    "\n",
    "## **What we should use Precision or Recall 🤔**\n",
    "\n",
    "so there is no streight forward answer for this question based on problem we have to decide. because both precision and recall are inversely properation to each other.\n",
    "\n",
    "- We will first need to decide whether it’s important to avoid false positives or false negatives for our problem. Precision is used as a metric when our objective is to minimize false positives and recall is used when the objective is to minimize false negatives. We optimize our model performance on the selected metric.\n",
    "\n",
    "**cases for using precision/recall :-**\n",
    "\n",
    "1. An AI is leading an operation for finding criminals hiding in a housing society. The goal should be to arrest only criminals, since arresting innocent citizens can mean that an innocent can face injustice. However, if the criminal manages to escape, there can be multiple chances to arrest him afterward. In this case, false positive(arresting an innocent person) is more damaging than false negative(letting a criminal walk free). Hence, we should select precision in order to minimize false positives.\n",
    "\n",
    "2. We are all aware of the intense security checks at airports. It is of utmost importance to ensure that people do not carry weapons along them to ensure the safety of all passengers. Sometimes these systems can lead to innocent passengers getting flagged, but it is still a better scenario than letting someone dangerous onto the flight. Each flagged individual is then checked thoroughly once more and innocent people are released. In this case, the emphasis is on ensuring false negatives(people with weapons getting into flights) are avoided during initial scanning, while detected false positives(innocent passengers flagged) are eventually let free. This is a scenario for minimizing false negatives and recall is the ideal measure of how the system has performed.\n",
    "\n",
    "##  F1 Score:-\n",
    "\n",
    "Consider a scenario where your model needs to predict if a particular employee has to be promoted or not and promotion is the positive outcome. In this case, promoting an incompetent employee(false positive) and not promoting a deserving candidate(false negative) can both be equally risky for the company.\n",
    "\n",
    "When avoiding both false positives and false negatives are equally important for our problem, we need a trade-off between precision and recall. This is when we use the f1 score as a metric. An f1 score is defined as the harmonic mean of precision and recall.\n",
    "\n",
    "**Recall:-**\n",
    "\n",
    "![image.png](attachment:f4801b70-7725-4813-a938-86f8bc662011.png)\n",
    "\n"
   ]
  },
  {
   "cell_type": "markdown",
   "id": "57b09b3c-1ade-4cf2-9c99-caa04c158e08",
   "metadata": {},
   "source": [
    "##  ROC (Receiver operating curve):-\n"
   ]
  },
  {
   "cell_type": "raw",
   "id": "334ea6b1-39b8-4f67-8e99-50c7760c3417",
   "metadata": {},
   "source": []
  },
  {
   "cell_type": "raw",
   "id": "2fe31496-fe5a-4c00-9183-ac8b14c25bf1",
   "metadata": {},
   "source": []
  }
 ],
 "metadata": {
  "kernelspec": {
   "display_name": "Python 3 (ipykernel)",
   "language": "python",
   "name": "python3"
  },
  "language_info": {
   "codemirror_mode": {
    "name": "ipython",
    "version": 3
   },
   "file_extension": ".py",
   "mimetype": "text/x-python",
   "name": "python",
   "nbconvert_exporter": "python",
   "pygments_lexer": "ipython3",
   "version": "3.12.2"
  }
 },
 "nbformat": 4,
 "nbformat_minor": 5
}
