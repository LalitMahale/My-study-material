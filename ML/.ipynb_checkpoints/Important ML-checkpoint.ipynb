{
 "cells": [
  {
   "cell_type": "markdown",
   "id": "ab119ecc-d6c4-4cc6-afa9-c8cb9db5011c",
   "metadata": {},
   "source": [
    "## Difference between Supervised and Unsupervised Learning?\n",
    "\n",
    "- Supervised learning is used when we have **label data**.\n",
    "\n",
    "  eg. salary of an employee , pass or failed, Negative and positive.\n",
    "\n",
    "- Unsupervised learning used when we have **unlabed data**.\n",
    "  \n",
    "   eg. we have candidate data where we have only skills but not their field (it student, mechanical student)\n",
    "\n",
    "\n",
    "## How is KNN different from k-means?\n",
    "- KNN (K- nearest neighbour) is a **Supervised Machine Learning Algorithm**\n",
    "- k- mean is a **Unsupervised Machine Learning Algorithm**\n"
   ]
  },
  {
   "cell_type": "code",
   "execution_count": null,
   "id": "abb108ba-ebfe-4519-bbe9-c369e704bc99",
   "metadata": {},
   "outputs": [],
   "source": []
  }
 ],
 "metadata": {
  "kernelspec": {
   "display_name": "Python 3 (ipykernel)",
   "language": "python",
   "name": "python3"
  },
  "language_info": {
   "codemirror_mode": {
    "name": "ipython",
    "version": 3
   },
   "file_extension": ".py",
   "mimetype": "text/x-python",
   "name": "python",
   "nbconvert_exporter": "python",
   "pygments_lexer": "ipython3",
   "version": "3.12.1"
  }
 },
 "nbformat": 4,
 "nbformat_minor": 5
}
