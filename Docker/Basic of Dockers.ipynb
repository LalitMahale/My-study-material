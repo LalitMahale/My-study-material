{
 "cells": [
  {
   "cell_type": "markdown",
   "id": "56a20837-3495-40ff-a56b-b6cbf57fc7f7",
   "metadata": {},
   "source": [
    "## What is difference between docker and docker hub\n",
    "\n",
    "Dockerhub is a place where we store docker files and docker is "
   ]
  },
  {
   "cell_type": "code",
   "execution_count": null,
   "id": "82868a4e-8f18-426a-8956-15bdae5a024e",
   "metadata": {},
   "outputs": [],
   "source": []
  }
 ],
 "metadata": {
  "kernelspec": {
   "display_name": "Python 3 (ipykernel)",
   "language": "python",
   "name": "python3"
  },
  "language_info": {
   "codemirror_mode": {
    "name": "ipython",
    "version": 3
   },
   "file_extension": ".py",
   "mimetype": "text/x-python",
   "name": "python",
   "nbconvert_exporter": "python",
   "pygments_lexer": "ipython3",
   "version": "3.12.1"
  }
 },
 "nbformat": 4,
 "nbformat_minor": 5
}
